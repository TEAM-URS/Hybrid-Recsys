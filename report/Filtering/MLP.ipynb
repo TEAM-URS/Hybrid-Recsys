{
 "cells": [
  {
   "attachments": {},
   "cell_type": "markdown",
   "metadata": {},
   "source": [
    "# Multi Layer Perceptron"
   ]
  },
  {
   "cell_type": "code",
   "execution_count": 1,
   "metadata": {},
   "outputs": [
    {
     "name": "stderr",
     "output_type": "stream",
     "text": [
      "2023-03-25 07:14:47.780641: I tensorflow/core/platform/cpu_feature_guard.cc:193] This TensorFlow binary is optimized with oneAPI Deep Neural Network Library (oneDNN) to use the following CPU instructions in performance-critical operations:  AVX2 AVX512F AVX512_VNNI FMA\n",
      "To enable them in other operations, rebuild TensorFlow with the appropriate compiler flags.\n",
      "2023-03-25 07:14:47.933589: I tensorflow/core/util/port.cc:104] oneDNN custom operations are on. You may see slightly different numerical results due to floating-point round-off errors from different computation orders. To turn them off, set the environment variable `TF_ENABLE_ONEDNN_OPTS=0`.\n",
      "2023-03-25 07:14:49.802293: I tensorflow/core/platform/cpu_feature_guard.cc:193] This TensorFlow binary is optimized with oneAPI Deep Neural Network Library (oneDNN) to use the following CPU instructions in performance-critical operations:  AVX2 AVX512F AVX512_VNNI FMA\n",
      "To enable them in other operations, rebuild TensorFlow with the appropriate compiler flags.\n",
      "2023-03-25 07:14:51.745522: I tensorflow/core/common_runtime/gpu/gpu_device.cc:1613] Created device /device:GPU:0 with 46705 MB memory:  -> device: 0, name: NVIDIA RTX A6000, pci bus id: 0000:af:00.0, compute capability: 8.6\n"
     ]
    },
    {
     "data": {
      "text/plain": [
       "[name: \"/device:CPU:0\"\n",
       " device_type: \"CPU\"\n",
       " memory_limit: 268435456\n",
       " locality {\n",
       " }\n",
       " incarnation: 103725586219510080\n",
       " xla_global_id: -1,\n",
       " name: \"/device:GPU:0\"\n",
       " device_type: \"GPU\"\n",
       " memory_limit: 48974397440\n",
       " locality {\n",
       "   bus_id: 2\n",
       "   numa_node: 1\n",
       "   links {\n",
       "   }\n",
       " }\n",
       " incarnation: 7079956969708368128\n",
       " physical_device_desc: \"device: 0, name: NVIDIA RTX A6000, pci bus id: 0000:af:00.0, compute capability: 8.6\"\n",
       " xla_global_id: 416903419]"
      ]
     },
     "execution_count": 1,
     "metadata": {},
     "output_type": "execute_result"
    }
   ],
   "source": [
    "from tensorflow.python.client import device_lib\n",
    "device_lib.list_local_devices()"
   ]
  },
  {
   "cell_type": "code",
   "execution_count": 2,
   "metadata": {},
   "outputs": [],
   "source": [
    "import numpy as np\n",
    "import pandas as pd\n",
    "import matplotlib.pyplot as plt\n",
    "import os\n",
    "import warnings\n",
    "import tensorflow as tf\n",
    "from keras.layers import Input, Embedding, Flatten, Dot, Dense, Concatenate, BatchNormalization, Dropout\n",
    "from keras.models import Model\n",
    "from keras.optimizers import Adam"
   ]
  },
  {
   "attachments": {},
   "cell_type": "markdown",
   "metadata": {},
   "source": [
    "### 데이터 테이블 생성"
   ]
  },
  {
   "cell_type": "code",
   "execution_count": 3,
   "metadata": {},
   "outputs": [
    {
     "data": {
      "text/html": [
       "<div>\n",
       "<style scoped>\n",
       "    .dataframe tbody tr th:only-of-type {\n",
       "        vertical-align: middle;\n",
       "    }\n",
       "\n",
       "    .dataframe tbody tr th {\n",
       "        vertical-align: top;\n",
       "    }\n",
       "\n",
       "    .dataframe thead th {\n",
       "        text-align: right;\n",
       "    }\n",
       "</style>\n",
       "<table border=\"1\" class=\"dataframe\">\n",
       "  <thead>\n",
       "    <tr style=\"text-align: right;\">\n",
       "      <th></th>\n",
       "      <th>p_id</th>\n",
       "      <th>place_id</th>\n",
       "      <th>u_id</th>\n",
       "      <th>user_id</th>\n",
       "      <th>score</th>\n",
       "      <th>comment</th>\n",
       "    </tr>\n",
       "  </thead>\n",
       "  <tbody>\n",
       "    <tr>\n",
       "      <th>0</th>\n",
       "      <td>0</td>\n",
       "      <td>225토마토스트릿</td>\n",
       "      <td>24506</td>\n",
       "      <td>힘내라힘</td>\n",
       "      <td>2</td>\n",
       "      <td>분위기에 비해 맛은 쏘쏘...</td>\n",
       "    </tr>\n",
       "    <tr>\n",
       "      <th>1</th>\n",
       "      <td>0</td>\n",
       "      <td>225토마토스트릿</td>\n",
       "      <td>24493</td>\n",
       "      <td>히둥이</td>\n",
       "      <td>5</td>\n",
       "      <td>NaN</td>\n",
       "    </tr>\n",
       "    <tr>\n",
       "      <th>2</th>\n",
       "      <td>0</td>\n",
       "      <td>225토마토스트릿</td>\n",
       "      <td>24328</td>\n",
       "      <td>황영하</td>\n",
       "      <td>5</td>\n",
       "      <td>파스타 너무 맛있게 잘 먹었어요 태화동에 맛집이 별로 없어서 아쉬웠는데 맛집을 발견...</td>\n",
       "    </tr>\n",
       "    <tr>\n",
       "      <th>3</th>\n",
       "      <td>0</td>\n",
       "      <td>225토마토스트릿</td>\n",
       "      <td>24247</td>\n",
       "      <td>황규현</td>\n",
       "      <td>5</td>\n",
       "      <td>스테이크 부위가 바뀐것같은데 바뀐고기가 훨씬 좋은것 같아요..!.!!! 육향도 좋고...</td>\n",
       "    </tr>\n",
       "    <tr>\n",
       "      <th>4</th>\n",
       "      <td>0</td>\n",
       "      <td>225토마토스트릿</td>\n",
       "      <td>24022</td>\n",
       "      <td>호두과자</td>\n",
       "      <td>5</td>\n",
       "      <td>NaN</td>\n",
       "    </tr>\n",
       "    <tr>\n",
       "      <th>...</th>\n",
       "      <td>...</td>\n",
       "      <td>...</td>\n",
       "      <td>...</td>\n",
       "      <td>...</td>\n",
       "      <td>...</td>\n",
       "      <td>...</td>\n",
       "    </tr>\n",
       "    <tr>\n",
       "      <th>54495</th>\n",
       "      <td>491</td>\n",
       "      <td>효정밥상</td>\n",
       "      <td>497</td>\n",
       "      <td>bbui bbui</td>\n",
       "      <td>4</td>\n",
       "      <td>가성비 좋은 간장게장 집. 비록 가격이 꾸준히 상승하고있긴 하지만 부담스럽진 않은 ...</td>\n",
       "    </tr>\n",
       "    <tr>\n",
       "      <th>54496</th>\n",
       "      <td>491</td>\n",
       "      <td>효정밥상</td>\n",
       "      <td>447</td>\n",
       "      <td>b suwan</td>\n",
       "      <td>5</td>\n",
       "      <td>가성비최고 간정게장집이라고 생각해요. 게장 직접담구는 모습도 볼수있고 직접담그는 만...</td>\n",
       "    </tr>\n",
       "    <tr>\n",
       "      <th>54497</th>\n",
       "      <td>491</td>\n",
       "      <td>효정밥상</td>\n",
       "      <td>328</td>\n",
       "      <td>Alex Ha</td>\n",
       "      <td>5</td>\n",
       "      <td>가성비는 대박입니다. 솔직히 맛도 좋음.  (간장게장 기준)\\n\\n좀만 더 깨끗한 ...</td>\n",
       "    </tr>\n",
       "    <tr>\n",
       "      <th>54498</th>\n",
       "      <td>491</td>\n",
       "      <td>효정밥상</td>\n",
       "      <td>149</td>\n",
       "      <td>0o0o</td>\n",
       "      <td>5</td>\n",
       "      <td>여긴 진짜 간장게장에 진리다 사장님 이제 포장 안해주셔요 참고하세요 진짜 jmt</td>\n",
       "    </tr>\n",
       "    <tr>\n",
       "      <th>54499</th>\n",
       "      <td>491</td>\n",
       "      <td>효정밥상</td>\n",
       "      <td>53</td>\n",
       "      <td>.</td>\n",
       "      <td>4</td>\n",
       "      <td>게장만 놓고 봤을때 가성비 갑이네요</td>\n",
       "    </tr>\n",
       "  </tbody>\n",
       "</table>\n",
       "<p>54500 rows × 6 columns</p>\n",
       "</div>"
      ],
      "text/plain": [
       "       p_id   place_id   u_id    user_id  score  \\\n",
       "0         0  225토마토스트릿  24506       힘내라힘      2   \n",
       "1         0  225토마토스트릿  24493        히둥이      5   \n",
       "2         0  225토마토스트릿  24328        황영하      5   \n",
       "3         0  225토마토스트릿  24247        황규현      5   \n",
       "4         0  225토마토스트릿  24022       호두과자      5   \n",
       "...     ...        ...    ...        ...    ...   \n",
       "54495   491       효정밥상    497  bbui bbui      4   \n",
       "54496   491       효정밥상    447    b suwan      5   \n",
       "54497   491       효정밥상    328    Alex Ha      5   \n",
       "54498   491       효정밥상    149       0o0o      5   \n",
       "54499   491       효정밥상     53          .      4   \n",
       "\n",
       "                                                 comment  \n",
       "0                                       분위기에 비해 맛은 쏘쏘...  \n",
       "1                                                    NaN  \n",
       "2      파스타 너무 맛있게 잘 먹었어요 태화동에 맛집이 별로 없어서 아쉬웠는데 맛집을 발견...  \n",
       "3      스테이크 부위가 바뀐것같은데 바뀐고기가 훨씬 좋은것 같아요..!.!!! 육향도 좋고...  \n",
       "4                                                    NaN  \n",
       "...                                                  ...  \n",
       "54495  가성비 좋은 간장게장 집. 비록 가격이 꾸준히 상승하고있긴 하지만 부담스럽진 않은 ...  \n",
       "54496  가성비최고 간정게장집이라고 생각해요. 게장 직접담구는 모습도 볼수있고 직접담그는 만...  \n",
       "54497  가성비는 대박입니다. 솔직히 맛도 좋음.  (간장게장 기준)\\n\\n좀만 더 깨끗한 ...  \n",
       "54498       여긴 진짜 간장게장에 진리다 사장님 이제 포장 안해주셔요 참고하세요 진짜 jmt  \n",
       "54499                                게장만 놓고 봤을때 가성비 갑이네요  \n",
       "\n",
       "[54500 rows x 6 columns]"
      ]
     },
     "execution_count": 3,
     "metadata": {},
     "output_type": "execute_result"
    }
   ],
   "source": [
    "table_df = pd.read_csv('../data/ulsan_rest_table_ver3.csv')\n",
    "table_df"
   ]
  },
  {
   "cell_type": "code",
   "execution_count": 4,
   "metadata": {},
   "outputs": [
    {
     "name": "stdout",
     "output_type": "stream",
     "text": [
      "p_id            0\n",
      "place_id        0\n",
      "u_id            0\n",
      "user_id         0\n",
      "score           0\n",
      "comment     14275\n",
      "dtype: int64\n"
     ]
    }
   ],
   "source": [
    "print(table_df.isnull().sum())\n",
    "table_df.drop(columns='comment', inplace=True)\n",
    "table_df.dropna(axis=0, how='any', inplace=True)"
   ]
  },
  {
   "cell_type": "code",
   "execution_count": 5,
   "metadata": {},
   "outputs": [
    {
     "name": "stdout",
     "output_type": "stream",
     "text": [
      "<class 'pandas.core.frame.DataFrame'>\n",
      "RangeIndex: 54500 entries, 0 to 54499\n",
      "Data columns (total 5 columns):\n",
      " #   Column    Non-Null Count  Dtype \n",
      "---  ------    --------------  ----- \n",
      " 0   p_id      54500 non-null  int64 \n",
      " 1   place_id  54500 non-null  object\n",
      " 2   u_id      54500 non-null  int64 \n",
      " 3   user_id   54500 non-null  object\n",
      " 4   score     54500 non-null  int64 \n",
      "dtypes: int64(3), object(2)\n",
      "memory usage: 2.1+ MB\n"
     ]
    }
   ],
   "source": [
    "table_df.info()"
   ]
  },
  {
   "cell_type": "code",
   "execution_count": 6,
   "metadata": {},
   "outputs": [
    {
     "name": "stdout",
     "output_type": "stream",
     "text": [
      "<class 'pandas.core.frame.DataFrame'>\n",
      "RangeIndex: 54500 entries, 0 to 54499\n",
      "Data columns (total 3 columns):\n",
      " #   Column  Non-Null Count  Dtype\n",
      "---  ------  --------------  -----\n",
      " 0   u_id    54500 non-null  int64\n",
      " 1   p_id    54500 non-null  int64\n",
      " 2   score   54500 non-null  int64\n",
      "dtypes: int64(3)\n",
      "memory usage: 1.2 MB\n"
     ]
    }
   ],
   "source": [
    "data_df = table_df[['u_id', 'p_id', 'score']]\n",
    "data_df.info()"
   ]
  },
  {
   "attachments": {},
   "cell_type": "markdown",
   "metadata": {},
   "source": [
    "### Train, Test split"
   ]
  },
  {
   "cell_type": "code",
   "execution_count": 7,
   "metadata": {},
   "outputs": [],
   "source": [
    "from sklearn.model_selection import train_test_split\n",
    "train, test = train_test_split(data_df, test_size=0.2, shuffle=True, random_state=42)"
   ]
  },
  {
   "cell_type": "code",
   "execution_count": 8,
   "metadata": {},
   "outputs": [
    {
     "name": "stdout",
     "output_type": "stream",
     "text": [
      "24545 492\n"
     ]
    }
   ],
   "source": [
    "n_users = data_df.u_id.unique().shape[0]\n",
    "n_places = data_df.p_id.unique().shape[0]\n",
    "print(n_users, n_places)"
   ]
  },
  {
   "cell_type": "code",
   "execution_count": 9,
   "metadata": {},
   "outputs": [],
   "source": [
    "tf.keras.backend.clear_session()"
   ]
  },
  {
   "attachments": {},
   "cell_type": "markdown",
   "metadata": {},
   "source": [
    "### callback"
   ]
  },
  {
   "cell_type": "code",
   "execution_count": 10,
   "metadata": {},
   "outputs": [],
   "source": [
    "earlystopping = tf.keras.callbacks.EarlyStopping(\n",
    "    monitor='val_loss', patience=8, verbose=0, mode='auto',\n",
    "    baseline=None, restore_best_weights=False\n",
    ")\n",
    "\n",
    "checkpoint = tf.keras.callbacks.ModelCheckpoint(\n",
    "    './checkpoint',\n",
    "    monitor = 'val_loss',\n",
    "    verbose = 0,\n",
    "    save_best_only = True,\n",
    "    save_weights_only = False,\n",
    "    mode = 'auto',\n",
    ")"
   ]
  },
  {
   "attachments": {},
   "cell_type": "markdown",
   "metadata": {},
   "source": [
    "### Model"
   ]
  },
  {
   "cell_type": "code",
   "execution_count": 11,
   "metadata": {},
   "outputs": [
    {
     "name": "stdout",
     "output_type": "stream",
     "text": [
      "Model: \"model\"\n",
      "__________________________________________________________________________________________________\n",
      " Layer (type)                   Output Shape         Param #     Connected to                     \n",
      "==================================================================================================\n",
      " place-input (InputLayer)       [(None, 1)]          0           []                               \n",
      "                                                                                                  \n",
      " user-input (InputLayer)        [(None, 1)]          0           []                               \n",
      "                                                                                                  \n",
      " place-embedding-mlp (Embedding  (None, 1, 100)      49200       ['place-input[0][0]']            \n",
      " )                                                                                                \n",
      "                                                                                                  \n",
      " user-embedding-mlp (Embedding)  (None, 1, 100)      2454500     ['user-input[0][0]']             \n",
      "                                                                                                  \n",
      " flatten-place-mlp (Flatten)    (None, 100)          0           ['place-embedding-mlp[0][0]']    \n",
      "                                                                                                  \n",
      " flatten-user-mlp (Flatten)     (None, 100)          0           ['user-embedding-mlp[0][0]']     \n",
      "                                                                                                  \n",
      " concatenate (Concatenate)      (None, 200)          0           ['flatten-place-mlp[0][0]',      \n",
      "                                                                  'flatten-user-mlp[0][0]']       \n",
      "                                                                                                  \n",
      " dropout (Dropout)              (None, 200)          0           ['concatenate[0][0]']            \n",
      "                                                                                                  \n",
      " fc-1 (Dense)                   (None, 100)          20100       ['dropout[0][0]']                \n",
      "                                                                                                  \n",
      " batch-norm-1 (BatchNormalizati  (None, 100)         400         ['fc-1[0][0]']                   \n",
      " on)                                                                                              \n",
      "                                                                                                  \n",
      " dropout_1 (Dropout)            (None, 100)          0           ['batch-norm-1[0][0]']           \n",
      "                                                                                                  \n",
      " fc-2 (Dense)                   (None, 50)           5050        ['dropout_1[0][0]']              \n",
      "                                                                                                  \n",
      " place-embedding-mf (Embedding)  (None, 1, 100)      49300       ['place-input[0][0]']            \n",
      "                                                                                                  \n",
      " user-embedding-mf (Embedding)  (None, 1, 100)       2454600     ['user-input[0][0]']             \n",
      "                                                                                                  \n",
      " batch-norm-2 (BatchNormalizati  (None, 50)          200         ['fc-2[0][0]']                   \n",
      " on)                                                                                              \n",
      "                                                                                                  \n",
      " flatten-place-mf (Flatten)     (None, 100)          0           ['place-embedding-mf[0][0]']     \n",
      "                                                                                                  \n",
      " flatten-user-mf (Flatten)      (None, 100)          0           ['user-embedding-mf[0][0]']      \n",
      "                                                                                                  \n",
      " dropout_2 (Dropout)            (None, 50)           0           ['batch-norm-2[0][0]']           \n",
      "                                                                                                  \n",
      " dot (Dot)                      (None, 1)            0           ['flatten-place-mf[0][0]',       \n",
      "                                                                  'flatten-user-mf[0][0]']        \n",
      "                                                                                                  \n",
      " pred-mlp (Dense)               (None, 10)           510         ['dropout_2[0][0]']              \n",
      "                                                                                                  \n",
      " concatenate_1 (Concatenate)    (None, 11)           0           ['dot[0][0]',                    \n",
      "                                                                  'pred-mlp[0][0]']               \n",
      "                                                                                                  \n",
      " result (Dense)                 (None, 1)            12          ['concatenate_1[0][0]']          \n",
      "                                                                                                  \n",
      "==================================================================================================\n",
      "Total params: 5,033,872\n",
      "Trainable params: 5,033,572\n",
      "Non-trainable params: 300\n"
     ]
    },
    {
     "name": "stderr",
     "output_type": "stream",
     "text": [
      "2023-03-25 07:14:57.158780: I tensorflow/core/common_runtime/gpu/gpu_device.cc:1613] Created device /job:localhost/replica:0/task:0/device:GPU:0 with 46705 MB memory:  -> device: 0, name: NVIDIA RTX A6000, pci bus id: 0000:af:00.0, compute capability: 8.6\n"
     ]
    },
    {
     "name": "stdout",
     "output_type": "stream",
     "text": [
      "__________________________________________________________________________________________________\n"
     ]
    }
   ],
   "source": [
    "latent_dim = 100 ## 잠재요인\n",
    "\n",
    "# Define inputs\n",
    "place_input = Input(shape=[1],name='place-input')\n",
    "user_input = Input(shape=[1], name='user-input')\n",
    "\n",
    "# MLP Embeddings\n",
    "place_embedding_mlp = Embedding(n_places, latent_dim, name='place-embedding-mlp')(place_input)\n",
    "place_vec_mlp = Flatten(name='flatten-place-mlp')(place_embedding_mlp)\n",
    "\n",
    "user_embedding_mlp = Embedding(n_users, latent_dim, name='user-embedding-mlp')(user_input)\n",
    "user_vec_mlp = Flatten(name='flatten-user-mlp')(user_embedding_mlp)\n",
    "\n",
    "# MF Embeddings\n",
    "place_embedding_mf = Embedding(n_places + 1, latent_dim, name='place-embedding-mf')(place_input)\n",
    "place_vec_mf = Flatten(name='flatten-place-mf')(place_embedding_mf)\n",
    "\n",
    "user_embedding_mf = Embedding(n_users + 1, latent_dim, name='user-embedding-mf')(user_input)\n",
    "user_vec_mf = Flatten(name='flatten-user-mf')(user_embedding_mf)\n",
    "\n",
    "# MLP layers\n",
    "concat = Concatenate()([place_vec_mlp, user_vec_mlp])\n",
    "concat_dropout = Dropout(0.2)(concat)\n",
    "fc_1 = Dense(100, name='fc-1', activation='relu')(concat_dropout)\n",
    "fc_1_bn = BatchNormalization(name='batch-norm-1')(fc_1)\n",
    "fc_1_dropout = Dropout(0.2)(fc_1_bn)\n",
    "fc_2 = Dense(50, name='fc-2', activation='relu')(fc_1_dropout)\n",
    "fc_2_bn = BatchNormalization(name='batch-norm-2')(fc_2)\n",
    "fc_2_dropout = Dropout(0.2)(fc_2_bn)\n",
    "\n",
    "# Prediction from both layers\n",
    "pred_mlp = Dense(10, name='pred-mlp', activation='relu')(fc_2_dropout)\n",
    "pred_mf = Dot(axes = 1, normalize=False)([place_vec_mf, user_vec_mf])\n",
    "combine_mlp_mf = Concatenate()([pred_mf, pred_mlp])\n",
    "\n",
    "\n",
    "# Final prediction\n",
    "result = Dense(1, name='result', activation='relu')(combine_mlp_mf)\n",
    "\n",
    "model = Model([user_input, place_input], result)\n",
    "model.compile(optimizer=Adam(learning_rate=0.005), loss='mse')\n",
    "model.summary()"
   ]
  },
  {
   "attachments": {},
   "cell_type": "markdown",
   "metadata": {},
   "source": [
    "### Model Trainning"
   ]
  },
  {
   "cell_type": "code",
   "execution_count": 12,
   "metadata": {},
   "outputs": [
    {
     "name": "stdout",
     "output_type": "stream",
     "text": [
      "Epoch 1/100\n",
      "  22/1090 [..............................] - ETA: 8s - loss: 8.0834 "
     ]
    },
    {
     "name": "stderr",
     "output_type": "stream",
     "text": [
      "2023-03-25 07:15:01.749665: I tensorflow/compiler/xla/stream_executor/cuda/cuda_blas.cc:630] TensorFloat-32 will be used for the matrix multiplication. This will only be logged once.\n"
     ]
    },
    {
     "name": "stdout",
     "output_type": "stream",
     "text": [
      "1090/1090 [==============================] - 12s 9ms/step - loss: 1.6709 - val_loss: 1.2056\n",
      "Epoch 2/100\n",
      "1090/1090 [==============================] - 9s 9ms/step - loss: 0.6522 - val_loss: 1.2168\n",
      "Epoch 3/100\n",
      "1090/1090 [==============================] - 10s 9ms/step - loss: 0.3186 - val_loss: 1.2349\n",
      "Epoch 4/100\n",
      "1090/1090 [==============================] - 9s 9ms/step - loss: 0.1378 - val_loss: 1.1994\n",
      "Epoch 5/100\n",
      "1090/1090 [==============================] - 9s 8ms/step - loss: 0.1035 - val_loss: 1.1951\n",
      "Epoch 6/100\n",
      "1090/1090 [==============================] - 9s 8ms/step - loss: 0.0911 - val_loss: 1.2035\n",
      "Epoch 7/100\n",
      "1090/1090 [==============================] - 9s 8ms/step - loss: 0.0915 - val_loss: 1.2168\n",
      "Epoch 8/100\n",
      "1090/1090 [==============================] - 9s 9ms/step - loss: 0.0830 - val_loss: 1.2046\n",
      "Epoch 9/100\n",
      "1090/1090 [==============================] - 9s 8ms/step - loss: 0.0743 - val_loss: 1.1923\n",
      "Epoch 10/100\n",
      "1090/1090 [==============================] - 9s 8ms/step - loss: 0.0681 - val_loss: 1.1939\n",
      "Epoch 11/100\n",
      "1090/1090 [==============================] - 9s 8ms/step - loss: 0.0617 - val_loss: 1.1846\n",
      "Epoch 12/100\n",
      "1090/1090 [==============================] - 9s 8ms/step - loss: 0.0560 - val_loss: 1.2052\n",
      "Epoch 13/100\n",
      "1090/1090 [==============================] - 9s 8ms/step - loss: 0.0545 - val_loss: 1.1898\n",
      "Epoch 14/100\n",
      "1090/1090 [==============================] - 9s 8ms/step - loss: 0.0505 - val_loss: 1.1946\n",
      "Epoch 15/100\n",
      "1090/1090 [==============================] - 9s 8ms/step - loss: 0.0471 - val_loss: 1.2099\n",
      "Epoch 16/100\n",
      "1090/1090 [==============================] - 9s 8ms/step - loss: 0.0438 - val_loss: 1.1822\n",
      "Epoch 17/100\n",
      "1090/1090 [==============================] - 9s 8ms/step - loss: 0.0421 - val_loss: 1.1816\n",
      "Epoch 18/100\n",
      "1090/1090 [==============================] - 9s 8ms/step - loss: 0.0394 - val_loss: 1.1943\n",
      "Epoch 19/100\n",
      "1090/1090 [==============================] - 9s 8ms/step - loss: 0.0373 - val_loss: 1.1972\n",
      "Epoch 20/100\n",
      "1090/1090 [==============================] - 9s 8ms/step - loss: 0.0365 - val_loss: 1.1882\n",
      "Epoch 21/100\n",
      "1090/1090 [==============================] - 9s 8ms/step - loss: 0.0348 - val_loss: 1.2007\n",
      "Epoch 22/100\n",
      "1090/1090 [==============================] - 9s 8ms/step - loss: 0.0333 - val_loss: 1.1952\n",
      "Epoch 23/100\n",
      "1090/1090 [==============================] - 9s 8ms/step - loss: 0.0316 - val_loss: 1.2007\n",
      "Epoch 24/100\n",
      "1090/1090 [==============================] - 9s 8ms/step - loss: 0.0313 - val_loss: 1.1933\n",
      "Epoch 25/100\n",
      "1090/1090 [==============================] - 9s 8ms/step - loss: 0.0302 - val_loss: 1.1923\n"
     ]
    }
   ],
   "source": [
    "history = model.fit(x=[train.u_id, train.p_id],y= train.score, validation_split=0.2, epochs=100, verbose=1, callbacks=[earlystopping])"
   ]
  },
  {
   "attachments": {},
   "cell_type": "markdown",
   "metadata": {},
   "source": [
    "### Loss graph"
   ]
  },
  {
   "cell_type": "code",
   "execution_count": 17,
   "metadata": {},
   "outputs": [
    {
     "data": {
      "image/png": "[encoded data removed]",
      "text/plain": [
       "<Figure size 640x480 with 1 Axes>"
      ]
     },
     "metadata": {},
     "output_type": "display_data"
    }
   ],
   "source": [
    "plt.plot(history.history['loss'])\n",
    "plt.plot(history.history['val_loss'])\n",
    "plt.xlabel('Epoch')\n",
    "plt.ylabel('Loss')\n",
    "plt.legend(['Train', 'Valid'], loc='upper left')\n",
    "plt.show()\n",
    "plt.show()"
   ]
  },
  {
   "cell_type": "code",
   "execution_count": 14,
   "metadata": {},
   "outputs": [
    {
     "name": "stdout",
     "output_type": "stream",
     "text": [
      "341/341 [==============================] - 1s 3ms/step - loss: 1.2197\n"
     ]
    },
    {
     "data": {
      "text/plain": [
       "1.2197496891021729"
      ]
     },
     "execution_count": 14,
     "metadata": {},
     "output_type": "execute_result"
    }
   ],
   "source": [
    "model.evaluate([test.u_id, test.p_id], test.score)"
   ]
  },
  {
   "attachments": {},
   "cell_type": "markdown",
   "metadata": {},
   "source": [
    "### 성능평가(RMSE)"
   ]
  },
  {
   "cell_type": "code",
   "execution_count": 15,
   "metadata": {},
   "outputs": [
    {
     "name": "stdout",
     "output_type": "stream",
     "text": [
      "341/341 [==============================] - 1s 3ms/step\n"
     ]
    },
    {
     "data": {
      "text/plain": [
       "1.1044226397185264"
      ]
     },
     "execution_count": 15,
     "metadata": {},
     "output_type": "execute_result"
    }
   ],
   "source": [
    "from sklearn.metrics import mean_squared_error\n",
    "y_prob = model.predict([test.u_id, test.p_id])\n",
    "y_true = test.score\n",
    "mean_squared_error(y_true, y_prob)**0.5"
   ]
  }
 ],
 "metadata": {
  "kernelspec": {
   "display_name": "Python 3",
   "language": "python",
   "name": "python3"
  },
  "language_info": {
   "codemirror_mode": {
    "name": "ipython",
    "version": 3
   },
   "file_extension": ".py",
   "mimetype": "text/x-python",
   "name": "python",
   "nbconvert_exporter": "python",
   "pygments_lexer": "ipython3",
   "version": "3.8.10"
  },
  "orig_nbformat": 4
 },
 "nbformat": 4,
 "nbformat_minor": 2
}
