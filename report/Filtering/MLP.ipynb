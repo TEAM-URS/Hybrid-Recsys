{
 "cells": [
  {
   "attachments": {},
   "cell_type": "markdown",
   "metadata": {},
   "source": [
    "# Multi Layer Perceptron"
   ]
  },
  {
   "cell_type": "code",
   "execution_count": 15,
   "metadata": {},
   "outputs": [
    {
     "name": "stderr",
     "output_type": "stream",
     "text": [
      "2023-03-22 10:05:16.666151: I tensorflow/core/common_runtime/gpu/gpu_device.cc:1613] Created device /device:GPU:0 with 46705 MB memory:  -> device: 0, name: NVIDIA RTX A6000, pci bus id: 0000:af:00.0, compute capability: 8.6\n"
     ]
    },
    {
     "data": {
      "text/plain": [
       "[name: \"/device:CPU:0\"\n",
       " device_type: \"CPU\"\n",
       " memory_limit: 268435456\n",
       " locality {\n",
       " }\n",
       " incarnation: 7069076497472761732\n",
       " xla_global_id: -1,\n",
       " name: \"/device:GPU:0\"\n",
       " device_type: \"GPU\"\n",
       " memory_limit: 48974397440\n",
       " locality {\n",
       "   bus_id: 2\n",
       "   numa_node: 1\n",
       "   links {\n",
       "   }\n",
       " }\n",
       " incarnation: 11435544957634416321\n",
       " physical_device_desc: \"device: 0, name: NVIDIA RTX A6000, pci bus id: 0000:af:00.0, compute capability: 8.6\"\n",
       " xla_global_id: 416903419]"
      ]
     },
     "execution_count": 15,
     "metadata": {},
     "output_type": "execute_result"
    }
   ],
   "source": [
    "from tensorflow.python.client import device_lib\n",
    "device_lib.list_local_devices()"
   ]
  },
  {
   "cell_type": "code",
   "execution_count": 1,
   "metadata": {},
   "outputs": [
    {
     "name": "stderr",
     "output_type": "stream",
     "text": [
      "2023-03-22 10:02:25.073331: I tensorflow/core/platform/cpu_feature_guard.cc:193] This TensorFlow binary is optimized with oneAPI Deep Neural Network Library (oneDNN) to use the following CPU instructions in performance-critical operations:  AVX2 AVX512F AVX512_VNNI FMA\n",
      "To enable them in other operations, rebuild TensorFlow with the appropriate compiler flags.\n",
      "2023-03-22 10:02:25.223451: I tensorflow/core/util/port.cc:104] oneDNN custom operations are on. You may see slightly different numerical results due to floating-point round-off errors from different computation orders. To turn them off, set the environment variable `TF_ENABLE_ONEDNN_OPTS=0`.\n"
     ]
    }
   ],
   "source": [
    "import numpy as np\n",
    "import pandas as pd\n",
    "import matplotlib.pyplot as plt\n",
    "import os\n",
    "import warnings\n",
    "import tensorflow as tf\n",
    "from keras.layers import Input, Embedding, Flatten, Dot, Dense, Concatenate, BatchNormalization, Dropout\n",
    "from keras.models import Model\n",
    "from keras.optimizers import Adam"
   ]
  },
  {
   "attachments": {},
   "cell_type": "markdown",
   "metadata": {},
   "source": [
    "### 데이터 테이블 생성"
   ]
  },
  {
   "cell_type": "code",
   "execution_count": 2,
   "metadata": {},
   "outputs": [],
   "source": [
    "import pandas as pd\n",
    "\n",
    "review_df = pd.read_csv('../data/ulsan_rest_review_id.csv')\n",
    "title_df = pd.read_csv('../data/ulsan_rest_title.csv')"
   ]
  },
  {
   "cell_type": "code",
   "execution_count": 3,
   "metadata": {},
   "outputs": [
    {
     "name": "stdout",
     "output_type": "stream",
     "text": [
      "title         0\n",
      "u_id          0\n",
      "user_id      21\n",
      "score         0\n",
      "comment    1206\n",
      "dtype: int64\n"
     ]
    }
   ],
   "source": [
    "print(review_df.isnull().sum())\n",
    "\n",
    "review_df.dropna(axis=0, how='any', subset=['user_id'], inplace=True)"
   ]
  },
  {
   "cell_type": "code",
   "execution_count": 4,
   "metadata": {},
   "outputs": [
    {
     "data": {
      "text/html": [
       "<div>\n",
       "<style scoped>\n",
       "    .dataframe tbody tr th:only-of-type {\n",
       "        vertical-align: middle;\n",
       "    }\n",
       "\n",
       "    .dataframe tbody tr th {\n",
       "        vertical-align: top;\n",
       "    }\n",
       "\n",
       "    .dataframe thead th {\n",
       "        text-align: right;\n",
       "    }\n",
       "</style>\n",
       "<table border=\"1\" class=\"dataframe\">\n",
       "  <thead>\n",
       "    <tr style=\"text-align: right;\">\n",
       "      <th></th>\n",
       "      <th>title</th>\n",
       "      <th>u_id</th>\n",
       "      <th>user_id</th>\n",
       "      <th>score</th>\n",
       "      <th>comment</th>\n",
       "      <th>p_id</th>\n",
       "      <th>rate</th>\n",
       "      <th>tags</th>\n",
       "      <th>address</th>\n",
       "      <th>url</th>\n",
       "    </tr>\n",
       "  </thead>\n",
       "  <tbody>\n",
       "    <tr>\n",
       "      <th>0</th>\n",
       "      <td>바다바라기 본점</td>\n",
       "      <td>0</td>\n",
       "      <td>0</td>\n",
       "      <td>1</td>\n",
       "      <td>인생최악의 킹크랩 이였습니다. 게의 상태가 안좋은 건지 잘못찐건지.킹크랩의 고유의 ...</td>\n",
       "      <td>420</td>\n",
       "      <td>4.0</td>\n",
       "      <td>게,대게</td>\n",
       "      <td>울산 북구 정자1길 111 1,2층 (우)44233</td>\n",
       "      <td>https://place.map.kakao.com/15261734</td>\n",
       "    </tr>\n",
       "    <tr>\n",
       "      <th>1</th>\n",
       "      <td>바다바라기 본점</td>\n",
       "      <td>21</td>\n",
       "      <td>-</td>\n",
       "      <td>1</td>\n",
       "      <td>진짜 돈아깝다음식이랑 직원한테 투자해야할걸 sns 광고비에만 몰빵하는듯어딜가든 여기...</td>\n",
       "      <td>420</td>\n",
       "      <td>4.0</td>\n",
       "      <td>게,대게</td>\n",
       "      <td>울산 북구 정자1길 111 1,2층 (우)44233</td>\n",
       "      <td>https://place.map.kakao.com/15261734</td>\n",
       "    </tr>\n",
       "    <tr>\n",
       "      <th>2</th>\n",
       "      <td>바다바라기 본점</td>\n",
       "      <td>22</td>\n",
       "      <td>--</td>\n",
       "      <td>5</td>\n",
       "      <td>대게가 엄청큰데 살이 완전 가득 채워져있고 살이 부들부들해서 진짜 계속 먹을 수 있...</td>\n",
       "      <td>420</td>\n",
       "      <td>4.0</td>\n",
       "      <td>게,대게</td>\n",
       "      <td>울산 북구 정자1길 111 1,2층 (우)44233</td>\n",
       "      <td>https://place.map.kakao.com/15261734</td>\n",
       "    </tr>\n",
       "    <tr>\n",
       "      <th>3</th>\n",
       "      <td>바다바라기 본점</td>\n",
       "      <td>33</td>\n",
       "      <td>(알 수 없음)</td>\n",
       "      <td>5</td>\n",
       "      <td>평점이 좋길래 믿고 방문했어요대게도 신선하고 직원분들도 친절해서 기분 좋은 식사했네요</td>\n",
       "      <td>420</td>\n",
       "      <td>4.0</td>\n",
       "      <td>게,대게</td>\n",
       "      <td>울산 북구 정자1길 111 1,2층 (우)44233</td>\n",
       "      <td>https://place.map.kakao.com/15261734</td>\n",
       "    </tr>\n",
       "    <tr>\n",
       "      <th>4</th>\n",
       "      <td>바다바라기 본점</td>\n",
       "      <td>39</td>\n",
       "      <td>.</td>\n",
       "      <td>5</td>\n",
       "      <td>울산여행와서 맛집검색해서 왔는데 맛있었습니다. #맛집 #성공적</td>\n",
       "      <td>420</td>\n",
       "      <td>4.0</td>\n",
       "      <td>게,대게</td>\n",
       "      <td>울산 북구 정자1길 111 1,2층 (우)44233</td>\n",
       "      <td>https://place.map.kakao.com/15261734</td>\n",
       "    </tr>\n",
       "    <tr>\n",
       "      <th>...</th>\n",
       "      <td>...</td>\n",
       "      <td>...</td>\n",
       "      <td>...</td>\n",
       "      <td>...</td>\n",
       "      <td>...</td>\n",
       "      <td>...</td>\n",
       "      <td>...</td>\n",
       "      <td>...</td>\n",
       "      <td>...</td>\n",
       "      <td>...</td>\n",
       "    </tr>\n",
       "    <tr>\n",
       "      <th>6816</th>\n",
       "      <td>장군참치</td>\n",
       "      <td>3008</td>\n",
       "      <td>ㅈ</td>\n",
       "      <td>1</td>\n",
       "      <td>오마이갓 참치집이 아님 종업사기꾼</td>\n",
       "      <td>310</td>\n",
       "      <td>3.0</td>\n",
       "      <td>참치회</td>\n",
       "      <td>울산 남구 정동로80번길 19 (우)44712</td>\n",
       "      <td>https://place.map.kakao.com/2008161945</td>\n",
       "    </tr>\n",
       "    <tr>\n",
       "      <th>6817</th>\n",
       "      <td>도드람마을</td>\n",
       "      <td>3058</td>\n",
       "      <td>재민맘-김혜원</td>\n",
       "      <td>5</td>\n",
       "      <td>고기 육질이 좋네요~ 역시 차가 많은 이유가 있네용~ ^^</td>\n",
       "      <td>380</td>\n",
       "      <td>3.5</td>\n",
       "      <td>육류,고기</td>\n",
       "      <td>울산 북구 진장로 85 (우)44250</td>\n",
       "      <td>https://place.map.kakao.com/26345203</td>\n",
       "    </tr>\n",
       "    <tr>\n",
       "      <th>6818</th>\n",
       "      <td>도드람마을</td>\n",
       "      <td>3140</td>\n",
       "      <td>정원</td>\n",
       "      <td>1</td>\n",
       "      <td>고기 골라 손에 쥐고 들어갔더니 안내를 안해줍니다.아무 자리에 가서 앉았더니 한참 ...</td>\n",
       "      <td>380</td>\n",
       "      <td>3.5</td>\n",
       "      <td>육류,고기</td>\n",
       "      <td>울산 북구 진장로 85 (우)44250</td>\n",
       "      <td>https://place.map.kakao.com/26345203</td>\n",
       "    </tr>\n",
       "    <tr>\n",
       "      <th>6819</th>\n",
       "      <td>도드람마을</td>\n",
       "      <td>3405</td>\n",
       "      <td>최고,최악만 메모하는 유니</td>\n",
       "      <td>5</td>\n",
       "      <td>상차림반찬들+고기질 다 너무좋아요북구사람이면 다 아는 넘나유명한곳직원분들도 다 친절하시고</td>\n",
       "      <td>380</td>\n",
       "      <td>3.5</td>\n",
       "      <td>육류,고기</td>\n",
       "      <td>울산 북구 진장로 85 (우)44250</td>\n",
       "      <td>https://place.map.kakao.com/26345203</td>\n",
       "    </tr>\n",
       "    <tr>\n",
       "      <th>6820</th>\n",
       "      <td>도드람마을</td>\n",
       "      <td>3764</td>\n",
       "      <td>호시우행(虎視牛行)</td>\n",
       "      <td>3</td>\n",
       "      <td>고기는 다 좋으나,냉면은 비 추천. 정말 맛 없어요</td>\n",
       "      <td>380</td>\n",
       "      <td>3.5</td>\n",
       "      <td>육류,고기</td>\n",
       "      <td>울산 북구 진장로 85 (우)44250</td>\n",
       "      <td>https://place.map.kakao.com/26345203</td>\n",
       "    </tr>\n",
       "  </tbody>\n",
       "</table>\n",
       "<p>6821 rows × 10 columns</p>\n",
       "</div>"
      ],
      "text/plain": [
       "         title  u_id         user_id  score  \\\n",
       "0     바다바라기 본점     0               0      1   \n",
       "1     바다바라기 본점    21               -      1   \n",
       "2     바다바라기 본점    22              --      5   \n",
       "3     바다바라기 본점    33        (알 수 없음)      5   \n",
       "4     바다바라기 본점    39               .      5   \n",
       "...        ...   ...             ...    ...   \n",
       "6816      장군참치  3008               ㅈ      1   \n",
       "6817     도드람마을  3058         재민맘-김혜원      5   \n",
       "6818     도드람마을  3140              정원      1   \n",
       "6819     도드람마을  3405  최고,최악만 메모하는 유니      5   \n",
       "6820     도드람마을  3764      호시우행(虎視牛行)      3   \n",
       "\n",
       "                                                comment  p_id  rate   tags  \\\n",
       "0     인생최악의 킹크랩 이였습니다. 게의 상태가 안좋은 건지 잘못찐건지.킹크랩의 고유의 ...   420   4.0   게,대게   \n",
       "1     진짜 돈아깝다음식이랑 직원한테 투자해야할걸 sns 광고비에만 몰빵하는듯어딜가든 여기...   420   4.0   게,대게   \n",
       "2     대게가 엄청큰데 살이 완전 가득 채워져있고 살이 부들부들해서 진짜 계속 먹을 수 있...   420   4.0   게,대게   \n",
       "3       평점이 좋길래 믿고 방문했어요대게도 신선하고 직원분들도 친절해서 기분 좋은 식사했네요   420   4.0   게,대게   \n",
       "4                    울산여행와서 맛집검색해서 왔는데 맛있었습니다. #맛집 #성공적   420   4.0   게,대게   \n",
       "...                                                 ...   ...   ...    ...   \n",
       "6816                                 오마이갓 참치집이 아님 종업사기꾼   310   3.0    참치회   \n",
       "6817                   고기 육질이 좋네요~ 역시 차가 많은 이유가 있네용~ ^^   380   3.5  육류,고기   \n",
       "6818  고기 골라 손에 쥐고 들어갔더니 안내를 안해줍니다.아무 자리에 가서 앉았더니 한참 ...   380   3.5  육류,고기   \n",
       "6819  상차림반찬들+고기질 다 너무좋아요북구사람이면 다 아는 넘나유명한곳직원분들도 다 친절하시고   380   3.5  육류,고기   \n",
       "6820                       고기는 다 좋으나,냉면은 비 추천. 정말 맛 없어요   380   3.5  육류,고기   \n",
       "\n",
       "                           address                                     url  \n",
       "0     울산 북구 정자1길 111 1,2층 (우)44233    https://place.map.kakao.com/15261734  \n",
       "1     울산 북구 정자1길 111 1,2층 (우)44233    https://place.map.kakao.com/15261734  \n",
       "2     울산 북구 정자1길 111 1,2층 (우)44233    https://place.map.kakao.com/15261734  \n",
       "3     울산 북구 정자1길 111 1,2층 (우)44233    https://place.map.kakao.com/15261734  \n",
       "4     울산 북구 정자1길 111 1,2층 (우)44233    https://place.map.kakao.com/15261734  \n",
       "...                            ...                                     ...  \n",
       "6816     울산 남구 정동로80번길 19 (우)44712  https://place.map.kakao.com/2008161945  \n",
       "6817         울산 북구 진장로 85 (우)44250    https://place.map.kakao.com/26345203  \n",
       "6818         울산 북구 진장로 85 (우)44250    https://place.map.kakao.com/26345203  \n",
       "6819         울산 북구 진장로 85 (우)44250    https://place.map.kakao.com/26345203  \n",
       "6820         울산 북구 진장로 85 (우)44250    https://place.map.kakao.com/26345203  \n",
       "\n",
       "[6821 rows x 10 columns]"
      ]
     },
     "execution_count": 4,
     "metadata": {},
     "output_type": "execute_result"
    }
   ],
   "source": [
    "table_df = pd.merge(review_df, title_df, on='title', how='inner')\n",
    "table_df"
   ]
  },
  {
   "cell_type": "code",
   "execution_count": 5,
   "metadata": {},
   "outputs": [
    {
     "name": "stdout",
     "output_type": "stream",
     "text": [
      "<class 'pandas.core.frame.DataFrame'>\n",
      "Int64Index: 6821 entries, 0 to 6820\n",
      "Data columns (total 3 columns):\n",
      " #   Column  Non-Null Count  Dtype\n",
      "---  ------  --------------  -----\n",
      " 0   u_id    6821 non-null   int64\n",
      " 1   p_id    6821 non-null   int64\n",
      " 2   score   6821 non-null   int64\n",
      "dtypes: int64(3)\n",
      "memory usage: 213.2 KB\n"
     ]
    }
   ],
   "source": [
    "data_df = table_df[['u_id', 'p_id', 'score']]\n",
    "data_df.info()"
   ]
  },
  {
   "attachments": {},
   "cell_type": "markdown",
   "metadata": {},
   "source": [
    "### Train, Test split"
   ]
  },
  {
   "cell_type": "code",
   "execution_count": 8,
   "metadata": {},
   "outputs": [],
   "source": [
    "from sklearn.model_selection import train_test_split\n",
    "train, test = train_test_split(data_df, test_size=0.2, random_state=42)"
   ]
  },
  {
   "cell_type": "code",
   "execution_count": 6,
   "metadata": {},
   "outputs": [
    {
     "name": "stdout",
     "output_type": "stream",
     "text": [
      "3869 528\n"
     ]
    }
   ],
   "source": [
    "n_users = data_df.u_id.unique().shape[0]\n",
    "n_places = data_df.p_id.unique().shape[0]\n",
    "print(n_users, n_places)"
   ]
  },
  {
   "cell_type": "code",
   "execution_count": 7,
   "metadata": {},
   "outputs": [],
   "source": [
    "tf.keras.backend.clear_session()"
   ]
  },
  {
   "attachments": {},
   "cell_type": "markdown",
   "metadata": {},
   "source": [
    "### callback"
   ]
  },
  {
   "cell_type": "code",
   "execution_count": 9,
   "metadata": {},
   "outputs": [],
   "source": [
    "earlystopping = tf.keras.callbacks.EarlyStopping(\n",
    "    monitor='val_loss', patience=10, verbose=0, mode='auto',\n",
    "    baseline=None, restore_best_weights=False\n",
    ")"
   ]
  },
  {
   "attachments": {},
   "cell_type": "markdown",
   "metadata": {},
   "source": [
    "### Model"
   ]
  },
  {
   "cell_type": "code",
   "execution_count": 10,
   "metadata": {},
   "outputs": [
    {
     "name": "stderr",
     "output_type": "stream",
     "text": [
      "2023-03-22 10:02:29.120615: I tensorflow/core/platform/cpu_feature_guard.cc:193] This TensorFlow binary is optimized with oneAPI Deep Neural Network Library (oneDNN) to use the following CPU instructions in performance-critical operations:  AVX2 AVX512F AVX512_VNNI FMA\n",
      "To enable them in other operations, rebuild TensorFlow with the appropriate compiler flags.\n",
      "2023-03-22 10:02:29.826602: I tensorflow/core/common_runtime/gpu/gpu_device.cc:1613] Created device /job:localhost/replica:0/task:0/device:GPU:0 with 46705 MB memory:  -> device: 0, name: NVIDIA RTX A6000, pci bus id: 0000:af:00.0, compute capability: 8.6\n"
     ]
    },
    {
     "name": "stdout",
     "output_type": "stream",
     "text": [
      "Model: \"model\"\n",
      "__________________________________________________________________________________________________\n",
      " Layer (type)                   Output Shape         Param #     Connected to                     \n",
      "==================================================================================================\n",
      " place-input (InputLayer)       [(None, 1)]          0           []                               \n",
      "                                                                                                  \n",
      " user-input (InputLayer)        [(None, 1)]          0           []                               \n",
      "                                                                                                  \n",
      " place-embedding-mlp (Embedding  (None, 1, 50)       26400       ['place-input[0][0]']            \n",
      " )                                                                                                \n",
      "                                                                                                  \n",
      " user-embedding-mlp (Embedding)  (None, 1, 50)       193450      ['user-input[0][0]']             \n",
      "                                                                                                  \n",
      " flatten-place-mlp (Flatten)    (None, 50)           0           ['place-embedding-mlp[0][0]']    \n",
      "                                                                                                  \n",
      " flatten-user-mlp (Flatten)     (None, 50)           0           ['user-embedding-mlp[0][0]']     \n",
      "                                                                                                  \n",
      " concatenate (Concatenate)      (None, 100)          0           ['flatten-place-mlp[0][0]',      \n",
      "                                                                  'flatten-user-mlp[0][0]']       \n",
      "                                                                                                  \n",
      " dropout (Dropout)              (None, 100)          0           ['concatenate[0][0]']            \n",
      "                                                                                                  \n",
      " fc-1 (Dense)                   (None, 100)          10100       ['dropout[0][0]']                \n",
      "                                                                                                  \n",
      " batch-norm-1 (BatchNormalizati  (None, 100)         400         ['fc-1[0][0]']                   \n",
      " on)                                                                                              \n",
      "                                                                                                  \n",
      " dropout_1 (Dropout)            (None, 100)          0           ['batch-norm-1[0][0]']           \n",
      "                                                                                                  \n",
      " fc-2 (Dense)                   (None, 50)           5050        ['dropout_1[0][0]']              \n",
      "                                                                                                  \n",
      " place-embedding-mf (Embedding)  (None, 1, 50)       26450       ['place-input[0][0]']            \n",
      "                                                                                                  \n",
      " user-embedding-mf (Embedding)  (None, 1, 50)        193500      ['user-input[0][0]']             \n",
      "                                                                                                  \n",
      " batch-norm-2 (BatchNormalizati  (None, 50)          200         ['fc-2[0][0]']                   \n",
      " on)                                                                                              \n",
      "                                                                                                  \n",
      " flatten-place-mf (Flatten)     (None, 50)           0           ['place-embedding-mf[0][0]']     \n",
      "                                                                                                  \n",
      " flatten-user-mf (Flatten)      (None, 50)           0           ['user-embedding-mf[0][0]']      \n",
      "                                                                                                  \n",
      " dropout_2 (Dropout)            (None, 50)           0           ['batch-norm-2[0][0]']           \n",
      "                                                                                                  \n",
      " dot (Dot)                      (None, 1)            0           ['flatten-place-mf[0][0]',       \n",
      "                                                                  'flatten-user-mf[0][0]']        \n",
      "                                                                                                  \n",
      " pred-mlp (Dense)               (None, 10)           510         ['dropout_2[0][0]']              \n",
      "                                                                                                  \n",
      " concatenate_1 (Concatenate)    (None, 11)           0           ['dot[0][0]',                    \n",
      "                                                                  'pred-mlp[0][0]']               \n",
      "                                                                                                  \n",
      " result (Dense)                 (None, 1)            12          ['concatenate_1[0][0]']          \n",
      "                                                                                                  \n",
      "==================================================================================================\n",
      "Total params: 456,072\n",
      "Trainable params: 455,772\n",
      "Non-trainable params: 300\n",
      "__________________________________________________________________________________________________\n"
     ]
    }
   ],
   "source": [
    "latent_dim = 50 ## 잠재요인\n",
    "\n",
    "# Define inputs\n",
    "place_input = Input(shape=[1],name='place-input')\n",
    "user_input = Input(shape=[1], name='user-input')\n",
    "\n",
    "# MLP Embeddings\n",
    "place_embedding_mlp = Embedding(n_places, latent_dim, name='place-embedding-mlp')(place_input)\n",
    "place_vec_mlp = Flatten(name='flatten-place-mlp')(place_embedding_mlp)\n",
    "\n",
    "user_embedding_mlp = Embedding(n_users, latent_dim, name='user-embedding-mlp')(user_input)\n",
    "user_vec_mlp = Flatten(name='flatten-user-mlp')(user_embedding_mlp)\n",
    "\n",
    "# MF Embeddings\n",
    "place_embedding_mf = Embedding(n_places + 1, latent_dim, name='place-embedding-mf')(place_input)\n",
    "place_vec_mf = Flatten(name='flatten-place-mf')(place_embedding_mf)\n",
    "\n",
    "user_embedding_mf = Embedding(n_users + 1, latent_dim, name='user-embedding-mf')(user_input)\n",
    "user_vec_mf = Flatten(name='flatten-user-mf')(user_embedding_mf)\n",
    "\n",
    "# MLP layers\n",
    "concat = Concatenate()([place_vec_mlp, user_vec_mlp])\n",
    "concat_dropout = Dropout(0.2)(concat)\n",
    "fc_1 = Dense(100, name='fc-1', activation='relu')(concat_dropout)\n",
    "fc_1_bn = BatchNormalization(name='batch-norm-1')(fc_1)\n",
    "fc_1_dropout = Dropout(0.2)(fc_1_bn)\n",
    "fc_2 = Dense(50, name='fc-2', activation='relu')(fc_1_dropout)\n",
    "fc_2_bn = BatchNormalization(name='batch-norm-2')(fc_2)\n",
    "fc_2_dropout = Dropout(0.2)(fc_2_bn)\n",
    "\n",
    "# Prediction from both layers\n",
    "pred_mlp = Dense(10, name='pred-mlp', activation='relu')(fc_2_dropout)\n",
    "pred_mf = Dot(axes = 1, normalize=False)([place_vec_mf, user_vec_mf])\n",
    "combine_mlp_mf = Concatenate()([pred_mf, pred_mlp])\n",
    "\n",
    "\n",
    "# Final prediction\n",
    "result = Dense(1, name='result', activation='relu')(combine_mlp_mf)\n",
    "\n",
    "model = Model([user_input, place_input], result)\n",
    "model.compile(optimizer=Adam(learning_rate=0.005), loss='mse')\n",
    "model.summary()"
   ]
  },
  {
   "attachments": {},
   "cell_type": "markdown",
   "metadata": {},
   "source": [
    "### Model Trainning"
   ]
  },
  {
   "cell_type": "code",
   "execution_count": 11,
   "metadata": {},
   "outputs": [
    {
     "name": "stdout",
     "output_type": "stream",
     "text": [
      "Epoch 1/100\n",
      " 18/137 [==>...........................] - ETA: 1s - loss: 14.2576"
     ]
    },
    {
     "name": "stderr",
     "output_type": "stream",
     "text": [
      "2023-03-22 10:02:33.131243: I tensorflow/compiler/xla/stream_executor/cuda/cuda_blas.cc:630] TensorFloat-32 will be used for the matrix multiplication. This will only be logged once.\n"
     ]
    },
    {
     "name": "stdout",
     "output_type": "stream",
     "text": [
      "137/137 [==============================] - 4s 12ms/step - loss: 6.3161 - val_loss: 2.4754\n",
      "Epoch 2/100\n",
      "137/137 [==============================] - 1s 10ms/step - loss: 1.8759 - val_loss: 2.3408\n",
      "Epoch 3/100\n",
      "137/137 [==============================] - 1s 10ms/step - loss: 0.7843 - val_loss: 2.2165\n",
      "Epoch 4/100\n",
      "137/137 [==============================] - 1s 10ms/step - loss: 0.5674 - val_loss: 2.1040\n",
      "Epoch 5/100\n",
      "137/137 [==============================] - 1s 10ms/step - loss: 0.3773 - val_loss: 2.0776\n",
      "Epoch 6/100\n",
      "137/137 [==============================] - 1s 10ms/step - loss: 0.2806 - val_loss: 2.0894\n",
      "Epoch 7/100\n",
      "137/137 [==============================] - 1s 10ms/step - loss: 0.2344 - val_loss: 2.1036\n",
      "Epoch 8/100\n",
      "137/137 [==============================] - 1s 10ms/step - loss: 0.2042 - val_loss: 2.0819\n",
      "Epoch 9/100\n",
      "137/137 [==============================] - 1s 10ms/step - loss: 0.1837 - val_loss: 2.0680\n",
      "Epoch 10/100\n",
      "137/137 [==============================] - 1s 10ms/step - loss: 0.1681 - val_loss: 2.0680\n",
      "Epoch 11/100\n",
      "137/137 [==============================] - 1s 10ms/step - loss: 0.1525 - val_loss: 2.0951\n",
      "Epoch 12/100\n",
      "137/137 [==============================] - 1s 11ms/step - loss: 0.1392 - val_loss: 2.1131\n",
      "Epoch 13/100\n",
      "137/137 [==============================] - 2s 11ms/step - loss: 0.1335 - val_loss: 2.1215\n",
      "Epoch 14/100\n",
      "137/137 [==============================] - 1s 10ms/step - loss: 0.1170 - val_loss: 2.0979\n",
      "Epoch 15/100\n",
      "137/137 [==============================] - 1s 11ms/step - loss: 0.1073 - val_loss: 2.0818\n",
      "Epoch 16/100\n",
      "137/137 [==============================] - 1s 10ms/step - loss: 0.1066 - val_loss: 2.1183\n",
      "Epoch 17/100\n",
      "137/137 [==============================] - 1s 10ms/step - loss: 0.0971 - val_loss: 2.1372\n",
      "Epoch 18/100\n",
      "137/137 [==============================] - 1s 10ms/step - loss: 0.0919 - val_loss: 2.1391\n",
      "Epoch 19/100\n",
      "137/137 [==============================] - 1s 10ms/step - loss: 0.0957 - val_loss: 2.1483\n",
      "Epoch 20/100\n",
      "137/137 [==============================] - 1s 10ms/step - loss: 0.0884 - val_loss: 2.1538\n"
     ]
    }
   ],
   "source": [
    "history = model.fit(x=[train.u_id, train.p_id],y= train.score, validation_split=0.2, epochs=100, verbose=1, callbacks=[earlystopping])"
   ]
  },
  {
   "attachments": {},
   "cell_type": "markdown",
   "metadata": {},
   "source": [
    "### Loss graph"
   ]
  },
  {
   "cell_type": "code",
   "execution_count": 12,
   "metadata": {},
   "outputs": [
    {
     "data": {
      "image/png": "[encoded data removed]",
      "text/plain": [
       "<Figure size 640x480 with 1 Axes>"
      ]
     },
     "metadata": {},
     "output_type": "display_data"
    }
   ],
   "source": [
    "plt.plot(history.history['loss'])\n",
    "plt.plot(history.history['val_loss'])\n",
    "plt.xlabel('Epoch')\n",
    "plt.ylabel('Loss')\n",
    "plt.legend(['Train', 'Test'], loc='upper left')\n",
    "plt.show()\n",
    "plt.show()"
   ]
  },
  {
   "cell_type": "code",
   "execution_count": 13,
   "metadata": {},
   "outputs": [
    {
     "name": "stdout",
     "output_type": "stream",
     "text": [
      "43/43 [==============================] - 0s 3ms/step - loss: 2.1462\n"
     ]
    },
    {
     "data": {
      "text/plain": [
       "2.146177053451538"
      ]
     },
     "execution_count": 13,
     "metadata": {},
     "output_type": "execute_result"
    }
   ],
   "source": [
    "model.evaluate([test.u_id, test.p_id], test.score)"
   ]
  },
  {
   "attachments": {},
   "cell_type": "markdown",
   "metadata": {},
   "source": [
    "### 성능평가(RMSE)"
   ]
  },
  {
   "cell_type": "code",
   "execution_count": 14,
   "metadata": {},
   "outputs": [
    {
     "name": "stdout",
     "output_type": "stream",
     "text": [
      "43/43 [==============================] - 0s 2ms/step\n"
     ]
    },
    {
     "data": {
      "text/plain": [
       "1.485460671506791"
      ]
     },
     "execution_count": 14,
     "metadata": {},
     "output_type": "execute_result"
    }
   ],
   "source": [
    "from sklearn.metrics import mean_squared_error\n",
    "y_prob = model.predict([test.u_id, test.p_id])\n",
    "y_true = test.score\n",
    "mean_squared_error(y_true, np.round(y_prob))**0.5"
   ]
  }
 ],
 "metadata": {
  "kernelspec": {
   "display_name": "Python 3",
   "language": "python",
   "name": "python3"
  },
  "language_info": {
   "codemirror_mode": {
    "name": "ipython",
    "version": 3
   },
   "file_extension": ".py",
   "mimetype": "text/x-python",
   "name": "python",
   "nbconvert_exporter": "python",
   "pygments_lexer": "ipython3",
   "version": "3.8.10"
  },
  "orig_nbformat": 4
 },
 "nbformat": 4,
 "nbformat_minor": 2
}
