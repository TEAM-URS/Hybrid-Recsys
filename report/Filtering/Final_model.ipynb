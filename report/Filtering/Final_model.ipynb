{
 "cells": [
  {
   "attachments": {},
   "cell_type": "markdown",
   "metadata": {},
   "source": [
    "# Neural Collaborative Filltering"
   ]
  },
  {
   "cell_type": "code",
   "execution_count": 1,
   "metadata": {},
   "outputs": [
    {
     "name": "stderr",
     "output_type": "stream",
     "text": [
      "2023-04-12 07:34:55.323720: I tensorflow/core/platform/cpu_feature_guard.cc:193] This TensorFlow binary is optimized with oneAPI Deep Neural Network Library (oneDNN) to use the following CPU instructions in performance-critical operations:  AVX2 AVX512F AVX512_VNNI FMA\n",
      "To enable them in other operations, rebuild TensorFlow with the appropriate compiler flags.\n",
      "2023-04-12 07:34:55.459080: I tensorflow/core/util/port.cc:104] oneDNN custom operations are on. You may see slightly different numerical results due to floating-point round-off errors from different computation orders. To turn them off, set the environment variable `TF_ENABLE_ONEDNN_OPTS=0`.\n",
      "2023-04-12 07:34:57.346254: I tensorflow/core/platform/cpu_feature_guard.cc:193] This TensorFlow binary is optimized with oneAPI Deep Neural Network Library (oneDNN) to use the following CPU instructions in performance-critical operations:  AVX2 AVX512F AVX512_VNNI FMA\n",
      "To enable them in other operations, rebuild TensorFlow with the appropriate compiler flags.\n",
      "2023-04-12 07:34:58.112523: I tensorflow/core/common_runtime/gpu/gpu_device.cc:1613] Created device /device:GPU:0 with 46695 MB memory:  -> device: 0, name: NVIDIA RTX A6000, pci bus id: 0000:af:00.0, compute capability: 8.6\n"
     ]
    },
    {
     "data": {
      "text/plain": [
       "[name: \"/device:CPU:0\"\n",
       " device_type: \"CPU\"\n",
       " memory_limit: 268435456\n",
       " locality {\n",
       " }\n",
       " incarnation: 17623479833219173466\n",
       " xla_global_id: -1,\n",
       " name: \"/device:GPU:0\"\n",
       " device_type: \"GPU\"\n",
       " memory_limit: 48963584000\n",
       " locality {\n",
       "   bus_id: 2\n",
       "   numa_node: 1\n",
       "   links {\n",
       "   }\n",
       " }\n",
       " incarnation: 12431956264341503542\n",
       " physical_device_desc: \"device: 0, name: NVIDIA RTX A6000, pci bus id: 0000:af:00.0, compute capability: 8.6\"\n",
       " xla_global_id: 416903419]"
      ]
     },
     "execution_count": 1,
     "metadata": {},
     "output_type": "execute_result"
    }
   ],
   "source": [
    "from tensorflow.python.client import device_lib\n",
    "device_lib.list_local_devices()"
   ]
  },
  {
   "cell_type": "code",
   "execution_count": 2,
   "metadata": {},
   "outputs": [],
   "source": [
    "import numpy as np\n",
    "import pandas as pd\n",
    "import matplotlib.pyplot as plt\n",
    "import os\n",
    "import warnings\n",
    "import tensorflow as tf\n",
    "from keras.layers import Input, Embedding, Flatten, Dot, Dense, Concatenate, BatchNormalization, Dropout, Multiply\n",
    "from keras.models import Model\n",
    "from keras.optimizers import Adam"
   ]
  },
  {
   "attachments": {},
   "cell_type": "markdown",
   "metadata": {},
   "source": [
    "### 데이터 테이블 생성"
   ]
  },
  {
   "cell_type": "code",
   "execution_count": 3,
   "metadata": {},
   "outputs": [
    {
     "data": {
      "text/html": [
       "<div>\n",
       "<style scoped>\n",
       "    .dataframe tbody tr th:only-of-type {\n",
       "        vertical-align: middle;\n",
       "    }\n",
       "\n",
       "    .dataframe tbody tr th {\n",
       "        vertical-align: top;\n",
       "    }\n",
       "\n",
       "    .dataframe thead th {\n",
       "        text-align: right;\n",
       "    }\n",
       "</style>\n",
       "<table border=\"1\" class=\"dataframe\">\n",
       "  <thead>\n",
       "    <tr style=\"text-align: right;\">\n",
       "      <th></th>\n",
       "      <th>p_id</th>\n",
       "      <th>place_id</th>\n",
       "      <th>u_id</th>\n",
       "      <th>user_id</th>\n",
       "      <th>score</th>\n",
       "      <th>comment</th>\n",
       "    </tr>\n",
       "  </thead>\n",
       "  <tbody>\n",
       "    <tr>\n",
       "      <th>0</th>\n",
       "      <td>0</td>\n",
       "      <td>225토마토스트릿</td>\n",
       "      <td>24506</td>\n",
       "      <td>힘내라힘</td>\n",
       "      <td>2</td>\n",
       "      <td>분위기에 비해 맛은 쏘쏘...</td>\n",
       "    </tr>\n",
       "    <tr>\n",
       "      <th>1</th>\n",
       "      <td>0</td>\n",
       "      <td>225토마토스트릿</td>\n",
       "      <td>24493</td>\n",
       "      <td>히둥이</td>\n",
       "      <td>5</td>\n",
       "      <td>NaN</td>\n",
       "    </tr>\n",
       "    <tr>\n",
       "      <th>2</th>\n",
       "      <td>0</td>\n",
       "      <td>225토마토스트릿</td>\n",
       "      <td>24328</td>\n",
       "      <td>황영하</td>\n",
       "      <td>5</td>\n",
       "      <td>파스타 너무 맛있게 잘 먹었어요 태화동에 맛집이 별로 없어서 아쉬웠는데 맛집을 발견...</td>\n",
       "    </tr>\n",
       "    <tr>\n",
       "      <th>3</th>\n",
       "      <td>0</td>\n",
       "      <td>225토마토스트릿</td>\n",
       "      <td>24247</td>\n",
       "      <td>황규현</td>\n",
       "      <td>5</td>\n",
       "      <td>스테이크 부위가 바뀐것같은데 바뀐고기가 훨씬 좋은것 같아요..!.!!! 육향도 좋고...</td>\n",
       "    </tr>\n",
       "    <tr>\n",
       "      <th>4</th>\n",
       "      <td>0</td>\n",
       "      <td>225토마토스트릿</td>\n",
       "      <td>24022</td>\n",
       "      <td>호두과자</td>\n",
       "      <td>5</td>\n",
       "      <td>NaN</td>\n",
       "    </tr>\n",
       "    <tr>\n",
       "      <th>...</th>\n",
       "      <td>...</td>\n",
       "      <td>...</td>\n",
       "      <td>...</td>\n",
       "      <td>...</td>\n",
       "      <td>...</td>\n",
       "      <td>...</td>\n",
       "    </tr>\n",
       "    <tr>\n",
       "      <th>54495</th>\n",
       "      <td>491</td>\n",
       "      <td>효정밥상</td>\n",
       "      <td>497</td>\n",
       "      <td>bbui bbui</td>\n",
       "      <td>4</td>\n",
       "      <td>가성비 좋은 간장게장 집. 비록 가격이 꾸준히 상승하고있긴 하지만 부담스럽진 않은 ...</td>\n",
       "    </tr>\n",
       "    <tr>\n",
       "      <th>54496</th>\n",
       "      <td>491</td>\n",
       "      <td>효정밥상</td>\n",
       "      <td>447</td>\n",
       "      <td>b suwan</td>\n",
       "      <td>5</td>\n",
       "      <td>가성비최고 간정게장집이라고 생각해요. 게장 직접담구는 모습도 볼수있고 직접담그는 만...</td>\n",
       "    </tr>\n",
       "    <tr>\n",
       "      <th>54497</th>\n",
       "      <td>491</td>\n",
       "      <td>효정밥상</td>\n",
       "      <td>328</td>\n",
       "      <td>Alex Ha</td>\n",
       "      <td>5</td>\n",
       "      <td>가성비는 대박입니다. 솔직히 맛도 좋음.  (간장게장 기준)\\n\\n좀만 더 깨끗한 ...</td>\n",
       "    </tr>\n",
       "    <tr>\n",
       "      <th>54498</th>\n",
       "      <td>491</td>\n",
       "      <td>효정밥상</td>\n",
       "      <td>149</td>\n",
       "      <td>0o0o</td>\n",
       "      <td>5</td>\n",
       "      <td>여긴 진짜 간장게장에 진리다 사장님 이제 포장 안해주셔요 참고하세요 진짜 jmt</td>\n",
       "    </tr>\n",
       "    <tr>\n",
       "      <th>54499</th>\n",
       "      <td>491</td>\n",
       "      <td>효정밥상</td>\n",
       "      <td>53</td>\n",
       "      <td>.</td>\n",
       "      <td>4</td>\n",
       "      <td>게장만 놓고 봤을때 가성비 갑이네요</td>\n",
       "    </tr>\n",
       "  </tbody>\n",
       "</table>\n",
       "<p>54500 rows × 6 columns</p>\n",
       "</div>"
      ],
      "text/plain": [
       "       p_id   place_id   u_id    user_id  score  \\\n",
       "0         0  225토마토스트릿  24506       힘내라힘      2   \n",
       "1         0  225토마토스트릿  24493        히둥이      5   \n",
       "2         0  225토마토스트릿  24328        황영하      5   \n",
       "3         0  225토마토스트릿  24247        황규현      5   \n",
       "4         0  225토마토스트릿  24022       호두과자      5   \n",
       "...     ...        ...    ...        ...    ...   \n",
       "54495   491       효정밥상    497  bbui bbui      4   \n",
       "54496   491       효정밥상    447    b suwan      5   \n",
       "54497   491       효정밥상    328    Alex Ha      5   \n",
       "54498   491       효정밥상    149       0o0o      5   \n",
       "54499   491       효정밥상     53          .      4   \n",
       "\n",
       "                                                 comment  \n",
       "0                                       분위기에 비해 맛은 쏘쏘...  \n",
       "1                                                    NaN  \n",
       "2      파스타 너무 맛있게 잘 먹었어요 태화동에 맛집이 별로 없어서 아쉬웠는데 맛집을 발견...  \n",
       "3      스테이크 부위가 바뀐것같은데 바뀐고기가 훨씬 좋은것 같아요..!.!!! 육향도 좋고...  \n",
       "4                                                    NaN  \n",
       "...                                                  ...  \n",
       "54495  가성비 좋은 간장게장 집. 비록 가격이 꾸준히 상승하고있긴 하지만 부담스럽진 않은 ...  \n",
       "54496  가성비최고 간정게장집이라고 생각해요. 게장 직접담구는 모습도 볼수있고 직접담그는 만...  \n",
       "54497  가성비는 대박입니다. 솔직히 맛도 좋음.  (간장게장 기준)\\n\\n좀만 더 깨끗한 ...  \n",
       "54498       여긴 진짜 간장게장에 진리다 사장님 이제 포장 안해주셔요 참고하세요 진짜 jmt  \n",
       "54499                                게장만 놓고 봤을때 가성비 갑이네요  \n",
       "\n",
       "[54500 rows x 6 columns]"
      ]
     },
     "execution_count": 3,
     "metadata": {},
     "output_type": "execute_result"
    }
   ],
   "source": [
    "table_df = pd.read_csv('../data/ulsan_rest_table_ver3.csv')\n",
    "table_df"
   ]
  },
  {
   "cell_type": "code",
   "execution_count": 4,
   "metadata": {},
   "outputs": [
    {
     "name": "stdout",
     "output_type": "stream",
     "text": [
      "p_id            0\n",
      "place_id        0\n",
      "u_id            0\n",
      "user_id         0\n",
      "score           0\n",
      "comment     14275\n",
      "dtype: int64\n"
     ]
    }
   ],
   "source": [
    "print(table_df.isnull().sum())\n",
    "table_df.drop(columns='comment', inplace=True)\n",
    "table_df.dropna(axis=0, how='any', inplace=True)"
   ]
  },
  {
   "cell_type": "code",
   "execution_count": 5,
   "metadata": {},
   "outputs": [
    {
     "name": "stdout",
     "output_type": "stream",
     "text": [
      "<class 'pandas.core.frame.DataFrame'>\n",
      "RangeIndex: 54500 entries, 0 to 54499\n",
      "Data columns (total 5 columns):\n",
      " #   Column    Non-Null Count  Dtype \n",
      "---  ------    --------------  ----- \n",
      " 0   p_id      54500 non-null  int64 \n",
      " 1   place_id  54500 non-null  object\n",
      " 2   u_id      54500 non-null  int64 \n",
      " 3   user_id   54500 non-null  object\n",
      " 4   score     54500 non-null  int64 \n",
      "dtypes: int64(3), object(2)\n",
      "memory usage: 2.1+ MB\n"
     ]
    }
   ],
   "source": [
    "table_df.info()"
   ]
  },
  {
   "cell_type": "code",
   "execution_count": 6,
   "metadata": {},
   "outputs": [
    {
     "name": "stdout",
     "output_type": "stream",
     "text": [
      "<class 'pandas.core.frame.DataFrame'>\n",
      "RangeIndex: 54500 entries, 0 to 54499\n",
      "Data columns (total 3 columns):\n",
      " #   Column  Non-Null Count  Dtype\n",
      "---  ------  --------------  -----\n",
      " 0   u_id    54500 non-null  int64\n",
      " 1   p_id    54500 non-null  int64\n",
      " 2   score   54500 non-null  int64\n",
      "dtypes: int64(3)\n",
      "memory usage: 1.2 MB\n"
     ]
    }
   ],
   "source": [
    "data_df = table_df[['u_id', 'p_id', 'score']]\n",
    "data_df.info()"
   ]
  },
  {
   "cell_type": "code",
   "execution_count": 7,
   "metadata": {},
   "outputs": [
    {
     "name": "stdout",
     "output_type": "stream",
     "text": [
      "24545 492\n"
     ]
    }
   ],
   "source": [
    "n_users = data_df.u_id.unique().shape[0]\n",
    "n_items = data_df.p_id.unique().shape[0]\n",
    "print(n_users, n_items)"
   ]
  },
  {
   "cell_type": "code",
   "execution_count": 8,
   "metadata": {},
   "outputs": [],
   "source": [
    "data_u_id = data_df.u_id.astype(np.float32)\n",
    "data_p_id = data_df.p_id.astype(np.float32)"
   ]
  },
  {
   "cell_type": "code",
   "execution_count": 9,
   "metadata": {},
   "outputs": [],
   "source": [
    "tf.keras.backend.clear_session()"
   ]
  },
  {
   "attachments": {},
   "cell_type": "markdown",
   "metadata": {},
   "source": [
    "### callback"
   ]
  },
  {
   "cell_type": "code",
   "execution_count": 10,
   "metadata": {},
   "outputs": [],
   "source": [
    "earlystopping = tf.keras.callbacks.EarlyStopping(\n",
    "    monitor='val_loss', patience=8, verbose=0, mode='auto',\n",
    "    baseline=None, restore_best_weights=False\n",
    ")\n",
    "\n",
    "checkpoint = tf.keras.callbacks.ModelCheckpoint(\n",
    "    './checkpoint',\n",
    "    monitor = 'val_loss',\n",
    "    verbose = 0,\n",
    "    save_best_only = True,\n",
    "    save_weights_only = False,\n",
    "    mode = 'auto',\n",
    ")"
   ]
  },
  {
   "attachments": {},
   "cell_type": "markdown",
   "metadata": {},
   "source": [
    "### Model"
   ]
  },
  {
   "cell_type": "code",
   "execution_count": 11,
   "metadata": {},
   "outputs": [
    {
     "name": "stdout",
     "output_type": "stream",
     "text": [
      "Model: \"model\"\n",
      "__________________________________________________________________________________________________\n",
      " Layer (type)                   Output Shape         Param #     Connected to                     \n",
      "==================================================================================================\n",
      " user-input (InputLayer)        [(None, 1)]          0           []                               \n",
      "                                                                                                  \n",
      " item-input (InputLayer)        [(None, 1)]          0           []                               \n",
      "                                                                                                  \n",
      " embedding_2 (Embedding)        (None, 1, 50)        1227250     ['user-input[0][0]']             \n",
      "                                                                                                  \n",
      " embedding_3 (Embedding)        (None, 1, 50)        24600       ['item-input[0][0]']             \n",
      "                                                                                                  \n",
      " flatten_2 (Flatten)            (None, 50)           0           ['embedding_2[0][0]']            \n",
      "                                                                                                  \n",
      " flatten_3 (Flatten)            (None, 50)           0           ['embedding_3[0][0]']            \n",
      "                                                                                                  \n",
      " concatenate (Concatenate)      (None, 100)          0           ['flatten_2[0][0]',              \n",
      "                                                                  'flatten_3[0][0]']              \n",
      "                                                                                                  \n",
      " dropout (Dropout)              (None, 100)          0           ['concatenate[0][0]']            \n",
      "                                                                                                  \n",
      " mlp_layer1 (Dense)             (None, 100)          10100       ['dropout[0][0]']                \n",
      "                                                                                                  \n",
      " dropout1 (Dropout)             (None, 100)          0           ['mlp_layer1[0][0]']             \n",
      "                                                                                                  \n",
      " batch_norm1 (BatchNormalizatio  (None, 100)         400         ['dropout1[0][0]']               \n",
      " n)                                                                                               \n",
      "                                                                                                  \n",
      " mlp_layer2 (Dense)             (None, 50)           5050        ['batch_norm1[0][0]']            \n",
      "                                                                                                  \n",
      " embedding (Embedding)          (None, 1, 100)       2454500     ['user-input[0][0]']             \n",
      "                                                                                                  \n",
      " embedding_1 (Embedding)        (None, 1, 100)       49200       ['item-input[0][0]']             \n",
      "                                                                                                  \n",
      " dropout2 (Dropout)             (None, 50)           0           ['mlp_layer2[0][0]']             \n",
      "                                                                                                  \n",
      " flatten (Flatten)              (None, 100)          0           ['embedding[0][0]']              \n",
      "                                                                                                  \n",
      " flatten_1 (Flatten)            (None, 100)          0           ['embedding_1[0][0]']            \n",
      "                                                                                                  \n",
      " batch_norm2 (BatchNormalizatio  (None, 50)          200         ['dropout2[0][0]']               \n",
      " n)                                                                                               \n",
      "                                                                                                  \n",
      " multiply (Multiply)            (None, 100)          0           ['flatten[0][0]',                \n",
      "                                                                  'flatten_1[0][0]']              \n",
      "                                                                                                  \n",
      " mlp_layer3 (Dense)             (None, 10)           510         ['batch_norm2[0][0]']            \n",
      "                                                                                                  \n",
      " concatenate_1 (Concatenate)    (None, 110)          0           ['multiply[0][0]',               \n",
      "                                                                  'mlp_layer3[0][0]']             \n",
      "                                                                                                  \n",
      " output_layer (Dense)           (None, 1)            111         ['concatenate_1[0][0]']          \n",
      "                                                                                                  \n",
      "==================================================================================================\n",
      "Total params: 3,771,921\n",
      "Trainable params: 3,771,621\n",
      "Non-trainable params: 300\n",
      "__________________________________________________________________________________________________\n"
     ]
    },
    {
     "name": "stderr",
     "output_type": "stream",
     "text": [
      "2023-04-12 07:34:59.443115: I tensorflow/core/common_runtime/gpu/gpu_device.cc:1613] Created device /job:localhost/replica:0/task:0/device:GPU:0 with 46695 MB memory:  -> device: 0, name: NVIDIA RTX A6000, pci bus id: 0000:af:00.0, compute capability: 8.6\n"
     ]
    }
   ],
   "source": [
    "latent_dim = 100 ## 잠재요인\n",
    "\n",
    "# Define inputs\n",
    "item_input = Input(shape=[1],name='item-input')\n",
    "user_input = Input(shape=[1], name='user-input')\n",
    "# User embedding for GMF\n",
    "gmf_user_embedding = Embedding(n_users, latent_dim, input_length=user_input.shape[1])(user_input)\n",
    "gmf_user_embedding = Flatten()(gmf_user_embedding)\n",
    "\n",
    "# Item embedding for GMF\n",
    "gmf_item_embedding = Embedding(n_items, latent_dim, input_length=item_input.shape[1])(item_input)\n",
    "gmf_item_embedding = Flatten()(gmf_item_embedding)\n",
    "\n",
    "# User embedding for MLP\n",
    "mlp_user_embedding = Embedding(n_users, 50, input_length=user_input.shape[1])(user_input)\n",
    "mlp_user_embedding = Flatten()(mlp_user_embedding)\n",
    "\n",
    "# Item embedding for MLP\n",
    "mlp_item_embedding = Embedding(n_items, 50, input_length=item_input.shape[1])(item_input)\n",
    "mlp_item_embedding = Flatten()(mlp_item_embedding)\n",
    "\n",
    "# GMF layers\n",
    "gmf_mul =  Multiply()([gmf_user_embedding, gmf_item_embedding])\n",
    "\n",
    "# MLP layers\n",
    "mlp_concat = Concatenate()([mlp_user_embedding, mlp_item_embedding])\n",
    "mlp_dropout = Dropout(0.2)(mlp_concat)\n",
    "\n",
    "# Layer1\n",
    "fc_1 = Dense(units=100, activation='relu', name='mlp_layer1')(mlp_dropout)  \n",
    "fc_1_dropout = Dropout(rate=0.2, name='dropout1')(fc_1)                    \n",
    "fc_1_bn = BatchNormalization(name='batch_norm1')(fc_1_dropout)            \n",
    "\n",
    "# Layer2\n",
    "fc_2 = Dense(units=50, activation='relu', name='mlp_layer2')(fc_1_bn)  \n",
    "fc_2_dropout = Dropout(rate=0.2, name='dropout2')(fc_2)                        \n",
    "fc_2_bn = BatchNormalization(name='batch_norm2')(fc_2_dropout)                \n",
    "\n",
    "# Layer3\n",
    "fc_3 = Dense(units=10, activation='relu', name='mlp_layer3')(fc_2_bn)\n",
    "\n",
    "# merge GMF + MLP\n",
    "merged_vector = tf.keras.layers.concatenate([gmf_mul, fc_3])\n",
    "\n",
    "# Output layer\n",
    "output = Dense(1, kernel_initializer='lecun_uniform', name='output_layer')(merged_vector)\n",
    "\n",
    "model = Model([user_input, item_input], output)\n",
    "model.compile(optimizer=Adam(learning_rate=0.005), loss='mse')\n",
    "model.summary()"
   ]
  },
  {
   "attachments": {},
   "cell_type": "markdown",
   "metadata": {},
   "source": [
    "### Model Trainning"
   ]
  },
  {
   "cell_type": "code",
   "execution_count": 12,
   "metadata": {},
   "outputs": [
    {
     "name": "stdout",
     "output_type": "stream",
     "text": [
      "Epoch 1/50\n"
     ]
    },
    {
     "name": "stderr",
     "output_type": "stream",
     "text": [
      "2023-04-12 07:35:02.732104: I tensorflow/compiler/xla/stream_executor/cuda/cuda_blas.cc:630] TensorFloat-32 will be used for the matrix multiplication. This will only be logged once.\n"
     ]
    },
    {
     "name": "stdout",
     "output_type": "stream",
     "text": [
      "1363/1363 [==============================] - 17s 10ms/step - loss: 1.6306 - val_loss: 1.2573\n",
      "Epoch 2/50\n",
      "1363/1363 [==============================] - 14s 10ms/step - loss: 0.5964 - val_loss: 1.2319\n",
      "Epoch 3/50\n",
      "1363/1363 [==============================] - 14s 10ms/step - loss: 0.3004 - val_loss: 1.3371\n",
      "Epoch 4/50\n",
      "1363/1363 [==============================] - 13s 10ms/step - loss: 0.1314 - val_loss: 1.2653\n",
      "Epoch 5/50\n",
      "1363/1363 [==============================] - 14s 10ms/step - loss: 0.1181 - val_loss: 1.3144\n",
      "Epoch 6/50\n",
      "1363/1363 [==============================] - 14s 10ms/step - loss: 0.1031 - val_loss: 1.2860\n",
      "Epoch 7/50\n",
      "1363/1363 [==============================] - 14s 10ms/step - loss: 0.0910 - val_loss: 1.2395\n",
      "Epoch 8/50\n",
      "1363/1363 [==============================] - 14s 10ms/step - loss: 0.0830 - val_loss: 1.3117\n",
      "Epoch 9/50\n",
      "1363/1363 [==============================] - 14s 10ms/step - loss: 0.0775 - val_loss: 1.2740\n",
      "Epoch 10/50\n",
      "1363/1363 [==============================] - 14s 10ms/step - loss: 0.0691 - val_loss: 1.2641\n"
     ]
    }
   ],
   "source": [
    "history = model.fit(x=[data_u_id, data_p_id],y= data_df.score, validation_split=0.2, epochs=50, verbose=1, callbacks=[earlystopping])"
   ]
  },
  {
   "attachments": {},
   "cell_type": "markdown",
   "metadata": {},
   "source": [
    "### Loss graph"
   ]
  },
  {
   "cell_type": "code",
   "execution_count": 13,
   "metadata": {},
   "outputs": [
    {
     "data": {
      "image/png": "[encoded data removed]",
      "text/plain": [
       "<Figure size 640x480 with 1 Axes>"
      ]
     },
     "metadata": {},
     "output_type": "display_data"
    }
   ],
   "source": [
    "plt.plot(history.history['loss'])\n",
    "plt.plot(history.history['val_loss'])\n",
    "plt.xlabel('Epoch')\n",
    "plt.ylabel('Loss')\n",
    "plt.legend(['Train', 'Valid'], loc='upper left')\n",
    "plt.show()\n",
    "plt.show()"
   ]
  },
  {
   "cell_type": "code",
   "execution_count": 14,
   "metadata": {},
   "outputs": [],
   "source": [
    "model.save(\"./model/NCF_final.h5\")"
   ]
  }
 ],
 "metadata": {
  "kernelspec": {
   "display_name": "Python 3",
   "language": "python",
   "name": "python3"
  },
  "language_info": {
   "codemirror_mode": {
    "name": "ipython",
    "version": 3
   },
   "file_extension": ".py",
   "mimetype": "text/x-python",
   "name": "python",
   "nbconvert_exporter": "python",
   "pygments_lexer": "ipython3",
   "version": "3.8.10"
  },
  "orig_nbformat": 4
 },
 "nbformat": 4,
 "nbformat_minor": 2
}
