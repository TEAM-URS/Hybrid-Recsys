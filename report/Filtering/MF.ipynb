{
 "cells": [
  {
   "attachments": {},
   "cell_type": "markdown",
   "metadata": {},
   "source": [
    "# Matrix Fatorization"
   ]
  },
  {
   "cell_type": "code",
   "execution_count": 1,
   "metadata": {},
   "outputs": [
    {
     "name": "stderr",
     "output_type": "stream",
     "text": [
      "2023-03-25 06:23:00.434326: I tensorflow/core/platform/cpu_feature_guard.cc:193] This TensorFlow binary is optimized with oneAPI Deep Neural Network Library (oneDNN) to use the following CPU instructions in performance-critical operations:  AVX2 AVX512F AVX512_VNNI FMA\n",
      "To enable them in other operations, rebuild TensorFlow with the appropriate compiler flags.\n",
      "2023-03-25 06:23:00.600651: I tensorflow/core/util/port.cc:104] oneDNN custom operations are on. You may see slightly different numerical results due to floating-point round-off errors from different computation orders. To turn them off, set the environment variable `TF_ENABLE_ONEDNN_OPTS=0`.\n",
      "2023-03-25 06:23:02.477976: I tensorflow/core/platform/cpu_feature_guard.cc:193] This TensorFlow binary is optimized with oneAPI Deep Neural Network Library (oneDNN) to use the following CPU instructions in performance-critical operations:  AVX2 AVX512F AVX512_VNNI FMA\n",
      "To enable them in other operations, rebuild TensorFlow with the appropriate compiler flags.\n",
      "2023-03-25 06:23:04.461440: I tensorflow/core/common_runtime/gpu/gpu_device.cc:1613] Created device /device:GPU:0 with 46705 MB memory:  -> device: 0, name: NVIDIA RTX A6000, pci bus id: 0000:af:00.0, compute capability: 8.6\n"
     ]
    },
    {
     "data": {
      "text/plain": [
       "[name: \"/device:CPU:0\"\n",
       " device_type: \"CPU\"\n",
       " memory_limit: 268435456\n",
       " locality {\n",
       " }\n",
       " incarnation: 16247585506555452368\n",
       " xla_global_id: -1,\n",
       " name: \"/device:GPU:0\"\n",
       " device_type: \"GPU\"\n",
       " memory_limit: 48974397440\n",
       " locality {\n",
       "   bus_id: 2\n",
       "   numa_node: 1\n",
       "   links {\n",
       "   }\n",
       " }\n",
       " incarnation: 9331564724950153389\n",
       " physical_device_desc: \"device: 0, name: NVIDIA RTX A6000, pci bus id: 0000:af:00.0, compute capability: 8.6\"\n",
       " xla_global_id: 416903419]"
      ]
     },
     "execution_count": 1,
     "metadata": {},
     "output_type": "execute_result"
    }
   ],
   "source": [
    "from tensorflow.python.client import device_lib\n",
    "device_lib.list_local_devices()"
   ]
  },
  {
   "cell_type": "code",
   "execution_count": 2,
   "metadata": {},
   "outputs": [],
   "source": [
    "import numpy as np\n",
    "import pandas as pd\n",
    "import matplotlib.pyplot as plt\n",
    "import os\n",
    "import warnings\n",
    "import tensorflow as tf\n",
    "from keras.layers import Input, Embedding, Flatten, Dot, Dense, Concatenate\n",
    "from keras.optimizers import Adam\n",
    "from keras.models import Model"
   ]
  },
  {
   "cell_type": "markdown",
   "metadata": {},
   "source": [
    "### 데이터 테이블 생성"
   ]
  },
  {
   "cell_type": "code",
   "execution_count": 8,
   "metadata": {},
   "outputs": [
    {
     "data": {
      "text/html": [
       "<div>\n",
       "<style scoped>\n",
       "    .dataframe tbody tr th:only-of-type {\n",
       "        vertical-align: middle;\n",
       "    }\n",
       "\n",
       "    .dataframe tbody tr th {\n",
       "        vertical-align: top;\n",
       "    }\n",
       "\n",
       "    .dataframe thead th {\n",
       "        text-align: right;\n",
       "    }\n",
       "</style>\n",
       "<table border=\"1\" class=\"dataframe\">\n",
       "  <thead>\n",
       "    <tr style=\"text-align: right;\">\n",
       "      <th></th>\n",
       "      <th>p_id</th>\n",
       "      <th>place_id</th>\n",
       "      <th>u_id</th>\n",
       "      <th>user_id</th>\n",
       "      <th>score</th>\n",
       "      <th>comment</th>\n",
       "    </tr>\n",
       "  </thead>\n",
       "  <tbody>\n",
       "    <tr>\n",
       "      <th>0</th>\n",
       "      <td>13</td>\n",
       "      <td>가천린포크</td>\n",
       "      <td>24544</td>\n",
       "      <td>ㆍ</td>\n",
       "      <td>4</td>\n",
       "      <td>생각 보다 고기부위가  다양하지 않음 그래도 된장 찌게 맛은 좋음</td>\n",
       "    </tr>\n",
       "    <tr>\n",
       "      <th>1</th>\n",
       "      <td>121</td>\n",
       "      <td>로망스아구찜</td>\n",
       "      <td>24544</td>\n",
       "      <td>ㆍ</td>\n",
       "      <td>5</td>\n",
       "      <td>맛과 서비스가대만족입니다.한달에 네번 가야 한 듯</td>\n",
       "    </tr>\n",
       "    <tr>\n",
       "      <th>2</th>\n",
       "      <td>139</td>\n",
       "      <td>메이즈메이즈</td>\n",
       "      <td>24544</td>\n",
       "      <td>ㆍ</td>\n",
       "      <td>5</td>\n",
       "      <td>라떼 킹 맛집 슈페너도 맛있지만 라떼를 드세요 후회안함 믿고 잡솨봐</td>\n",
       "    </tr>\n",
       "    <tr>\n",
       "      <th>3</th>\n",
       "      <td>170</td>\n",
       "      <td>백년본가김치찜</td>\n",
       "      <td>24544</td>\n",
       "      <td>ㆍ</td>\n",
       "      <td>3</td>\n",
       "      <td>음식은  맛있습니다.   4명이  가시면  반드시 2명씩  따로  앉기를  강추합니...</td>\n",
       "    </tr>\n",
       "    <tr>\n",
       "      <th>4</th>\n",
       "      <td>255</td>\n",
       "      <td>스타벅스 울산신복점</td>\n",
       "      <td>24544</td>\n",
       "      <td>ㆍ</td>\n",
       "      <td>4</td>\n",
       "      <td>NaN</td>\n",
       "    </tr>\n",
       "    <tr>\n",
       "      <th>...</th>\n",
       "      <td>...</td>\n",
       "      <td>...</td>\n",
       "      <td>...</td>\n",
       "      <td>...</td>\n",
       "      <td>...</td>\n",
       "      <td>...</td>\n",
       "    </tr>\n",
       "    <tr>\n",
       "      <th>54495</th>\n",
       "      <td>445</td>\n",
       "      <td>퐁당퐁당 본점</td>\n",
       "      <td>1</td>\n",
       "      <td>1</td>\n",
       "      <td>5</td>\n",
       "      <td>얼큰버섯샤브도 맛있는데 신메뉴도 맛있어요! 먹어본 칼국수중 가장 쫄깃쫄깃해요!</td>\n",
       "    </tr>\n",
       "    <tr>\n",
       "      <th>54496</th>\n",
       "      <td>465</td>\n",
       "      <td>해마지</td>\n",
       "      <td>1</td>\n",
       "      <td>1</td>\n",
       "      <td>4</td>\n",
       "      <td>NaN</td>\n",
       "    </tr>\n",
       "    <tr>\n",
       "      <th>54497</th>\n",
       "      <td>159</td>\n",
       "      <td>바다바라기 본점</td>\n",
       "      <td>0</td>\n",
       "      <td>0</td>\n",
       "      <td>1</td>\n",
       "      <td>인생최악의 킹크랩 이였습니다. 게의 상태가 안좋은 건지 잘못찐건지.킹크랩의 고유의 ...</td>\n",
       "    </tr>\n",
       "    <tr>\n",
       "      <th>54498</th>\n",
       "      <td>176</td>\n",
       "      <td>보리꽃</td>\n",
       "      <td>0</td>\n",
       "      <td>0</td>\n",
       "      <td>1</td>\n",
       "      <td>식당 리뷰 불친절하고 안좋아도 잘 안남기는데 진짜 최악ㅋㅋ우리보다 늦게 온 테이블들...</td>\n",
       "    </tr>\n",
       "    <tr>\n",
       "      <th>54499</th>\n",
       "      <td>229</td>\n",
       "      <td>송가정횟집</td>\n",
       "      <td>0</td>\n",
       "      <td>0</td>\n",
       "      <td>2</td>\n",
       "      <td>장소가 넓고 방으로 나뉘어져 있어 회식이나 회의장소로 적합한데\\n회가 대량입고 되는...</td>\n",
       "    </tr>\n",
       "  </tbody>\n",
       "</table>\n",
       "<p>54500 rows × 6 columns</p>\n",
       "</div>"
      ],
      "text/plain": [
       "       p_id    place_id   u_id user_id  score  \\\n",
       "0        13       가천린포크  24544       ㆍ      4   \n",
       "1       121      로망스아구찜  24544       ㆍ      5   \n",
       "2       139      메이즈메이즈  24544       ㆍ      5   \n",
       "3       170     백년본가김치찜  24544       ㆍ      3   \n",
       "4       255  스타벅스 울산신복점  24544       ㆍ      4   \n",
       "...     ...         ...    ...     ...    ...   \n",
       "54495   445     퐁당퐁당 본점      1       1      5   \n",
       "54496   465         해마지      1       1      4   \n",
       "54497   159    바다바라기 본점      0       0      1   \n",
       "54498   176         보리꽃      0       0      1   \n",
       "54499   229       송가정횟집      0       0      2   \n",
       "\n",
       "                                                 comment  \n",
       "0                   생각 보다 고기부위가  다양하지 않음 그래도 된장 찌게 맛은 좋음  \n",
       "1                            맛과 서비스가대만족입니다.한달에 네번 가야 한 듯  \n",
       "2                  라떼 킹 맛집 슈페너도 맛있지만 라떼를 드세요 후회안함 믿고 잡솨봐  \n",
       "3      음식은  맛있습니다.   4명이  가시면  반드시 2명씩  따로  앉기를  강추합니...  \n",
       "4                                                    NaN  \n",
       "...                                                  ...  \n",
       "54495        얼큰버섯샤브도 맛있는데 신메뉴도 맛있어요! 먹어본 칼국수중 가장 쫄깃쫄깃해요!  \n",
       "54496                                                NaN  \n",
       "54497  인생최악의 킹크랩 이였습니다. 게의 상태가 안좋은 건지 잘못찐건지.킹크랩의 고유의 ...  \n",
       "54498  식당 리뷰 불친절하고 안좋아도 잘 안남기는데 진짜 최악ㅋㅋ우리보다 늦게 온 테이블들...  \n",
       "54499  장소가 넓고 방으로 나뉘어져 있어 회식이나 회의장소로 적합한데\\n회가 대량입고 되는...  \n",
       "\n",
       "[54500 rows x 6 columns]"
      ]
     },
     "execution_count": 8,
     "metadata": {},
     "output_type": "execute_result"
    }
   ],
   "source": [
    "table_df = pd.read_csv('../data/ulsan_rest_table_ver3.csv')\n",
    "table_df"
   ]
  },
  {
   "cell_type": "code",
   "execution_count": 9,
   "metadata": {},
   "outputs": [
    {
     "name": "stdout",
     "output_type": "stream",
     "text": [
      "p_id            0\n",
      "place_id        0\n",
      "u_id            0\n",
      "user_id         0\n",
      "score           0\n",
      "comment     14275\n",
      "dtype: int64\n"
     ]
    }
   ],
   "source": [
    "print(table_df.isnull().sum())\n",
    "table_df.drop(columns='comment', inplace=True)\n",
    "table_df.dropna(axis=0, how='any', inplace=True)"
   ]
  },
  {
   "cell_type": "code",
   "execution_count": 10,
   "metadata": {},
   "outputs": [
    {
     "name": "stdout",
     "output_type": "stream",
     "text": [
      "<class 'pandas.core.frame.DataFrame'>\n",
      "RangeIndex: 54500 entries, 0 to 54499\n",
      "Data columns (total 5 columns):\n",
      " #   Column    Non-Null Count  Dtype \n",
      "---  ------    --------------  ----- \n",
      " 0   p_id      54500 non-null  int64 \n",
      " 1   place_id  54500 non-null  object\n",
      " 2   u_id      54500 non-null  int64 \n",
      " 3   user_id   54500 non-null  object\n",
      " 4   score     54500 non-null  int64 \n",
      "dtypes: int64(3), object(2)\n",
      "memory usage: 2.1+ MB\n"
     ]
    }
   ],
   "source": [
    "table_df.info()"
   ]
  },
  {
   "cell_type": "code",
   "execution_count": 11,
   "metadata": {},
   "outputs": [
    {
     "name": "stdout",
     "output_type": "stream",
     "text": [
      "<class 'pandas.core.frame.DataFrame'>\n",
      "RangeIndex: 54500 entries, 0 to 54499\n",
      "Data columns (total 3 columns):\n",
      " #   Column  Non-Null Count  Dtype\n",
      "---  ------  --------------  -----\n",
      " 0   u_id    54500 non-null  int64\n",
      " 1   p_id    54500 non-null  int64\n",
      " 2   score   54500 non-null  int64\n",
      "dtypes: int64(3)\n",
      "memory usage: 1.2 MB\n"
     ]
    }
   ],
   "source": [
    "data_df = table_df[['u_id', 'p_id', 'score']]\n",
    "data_df.info()"
   ]
  },
  {
   "cell_type": "markdown",
   "metadata": {},
   "source": [
    "### Train, Test split"
   ]
  },
  {
   "cell_type": "code",
   "execution_count": 12,
   "metadata": {},
   "outputs": [],
   "source": [
    "from sklearn.model_selection import train_test_split\n",
    "train, test = train_test_split(data_df, test_size=0.2, random_state=42)"
   ]
  },
  {
   "cell_type": "code",
   "execution_count": 15,
   "metadata": {},
   "outputs": [
    {
     "name": "stdout",
     "output_type": "stream",
     "text": [
      "24545 492\n"
     ]
    }
   ],
   "source": [
    "n_users = data_df.u_id.unique().shape[0]\n",
    "n_places = data_df.p_id.unique().shape[0]\n",
    "print(n_users, n_places)"
   ]
  },
  {
   "cell_type": "code",
   "execution_count": 25,
   "metadata": {},
   "outputs": [
    {
     "name": "stdout",
     "output_type": "stream",
     "text": [
      "24545 491\n"
     ]
    }
   ],
   "source": [
    "n_users = data_df.u_id.max()\n",
    "n_places = data_df.p_id.max()\n",
    "print(n_users, n_places)"
   ]
  },
  {
   "cell_type": "code",
   "execution_count": 24,
   "metadata": {},
   "outputs": [],
   "source": [
    "tf.keras.backend.clear_session()"
   ]
  },
  {
   "cell_type": "markdown",
   "metadata": {},
   "source": [
    "### callback"
   ]
  },
  {
   "cell_type": "code",
   "execution_count": 17,
   "metadata": {},
   "outputs": [],
   "source": [
    "earlystopping = tf.keras.callbacks.EarlyStopping(\n",
    "    monitor='val_loss', patience=10, verbose=0, mode='auto',\n",
    "    baseline=None, restore_best_weights=False\n",
    ")"
   ]
  },
  {
   "cell_type": "markdown",
   "metadata": {},
   "source": [
    "### Model"
   ]
  },
  {
   "cell_type": "code",
   "execution_count": 26,
   "metadata": {},
   "outputs": [],
   "source": [
    "latent_dim = 100 ## 잠재요인\n",
    "\n",
    "# creating book embedding path\n",
    "place_input = Input(shape=[1], name=\"Place-Input\")\n",
    "place_embedding = Embedding(n_places+1, latent_dim, name=\"Place-Embedding\")(place_input)\n",
    "place_vec = Flatten(name=\"Flatten-Places\")(place_embedding)\n",
    "\n",
    "# creating user embedding path\n",
    "user_input = Input(shape=[1], name=\"User-Input\")\n",
    "user_embedding = Embedding(n_users+1,latent_dim, name=\"User-Embedding\")(user_input)\n",
    "user_vec = Flatten(name=\"Flatten-Users\")(user_embedding)\n",
    "\n",
    "# concatenate features\n",
    "conc = Concatenate()([place_vec, user_vec])\n",
    "\n",
    "# add fully-connected-layers\n",
    "fc1 = Dense(256, activation='relu')(conc)\n",
    "fc2 = Dense(128, activation='relu')(fc1)\n",
    "fc3 = Dense(128, activation='relu')(fc2)\n",
    "out = Dense(1)(fc3)\n",
    "\n",
    "# Create model and compile it\n",
    "model = Model([user_input, place_input], out)\n",
    "model.compile(optimizer=tf.keras.optimizers.Adam(learning_rate=0.005), loss='mean_squared_error')"
   ]
  },
  {
   "cell_type": "code",
   "execution_count": 27,
   "metadata": {},
   "outputs": [
    {
     "name": "stdout",
     "output_type": "stream",
     "text": [
      "Model: \"model\"\n",
      "__________________________________________________________________________________________________\n",
      " Layer (type)                   Output Shape         Param #     Connected to                     \n",
      "==================================================================================================\n",
      " Place-Input (InputLayer)       [(None, 1)]          0           []                               \n",
      "                                                                                                  \n",
      " User-Input (InputLayer)        [(None, 1)]          0           []                               \n",
      "                                                                                                  \n",
      " Place-Embedding (Embedding)    (None, 1, 100)       49200       ['Place-Input[0][0]']            \n",
      "                                                                                                  \n",
      " User-Embedding (Embedding)     (None, 1, 100)       2454600     ['User-Input[0][0]']             \n",
      "                                                                                                  \n",
      " Flatten-Places (Flatten)       (None, 100)          0           ['Place-Embedding[0][0]']        \n",
      "                                                                                                  \n",
      " Flatten-Users (Flatten)        (None, 100)          0           ['User-Embedding[0][0]']         \n",
      "                                                                                                  \n",
      " concatenate (Concatenate)      (None, 200)          0           ['Flatten-Places[0][0]',         \n",
      "                                                                  'Flatten-Users[0][0]']          \n",
      "                                                                                                  \n",
      " dense (Dense)                  (None, 256)          51456       ['concatenate[0][0]']            \n",
      "                                                                                                  \n",
      " dense_1 (Dense)                (None, 128)          32896       ['dense[0][0]']                  \n",
      "                                                                                                  \n",
      " dense_2 (Dense)                (None, 128)          16512       ['dense_1[0][0]']                \n",
      "                                                                                                  \n",
      " dense_3 (Dense)                (None, 1)            129         ['dense_2[0][0]']                \n",
      "                                                                                                  \n",
      "==================================================================================================\n",
      "Total params: 2,604,793\n",
      "Trainable params: 2,604,793\n",
      "Non-trainable params: 0\n",
      "__________________________________________________________________________________________________\n"
     ]
    }
   ],
   "source": [
    "model.summary()"
   ]
  },
  {
   "cell_type": "code",
   "execution_count": 28,
   "metadata": {},
   "outputs": [
    {
     "name": "stdout",
     "output_type": "stream",
     "text": [
      "Epoch 1/100\n",
      "1090/1090 [==============================] - 10s 8ms/step - loss: 1.4405 - val_loss: 1.2188\n",
      "Epoch 2/100\n",
      "1090/1090 [==============================] - 7s 7ms/step - loss: 0.8696 - val_loss: 1.3275\n",
      "Epoch 3/100\n",
      "1090/1090 [==============================] - 7s 6ms/step - loss: 0.6497 - val_loss: 1.3861\n",
      "Epoch 4/100\n",
      "1090/1090 [==============================] - 7s 6ms/step - loss: 0.5234 - val_loss: 1.2824\n",
      "Epoch 5/100\n",
      "1090/1090 [==============================] - 7s 6ms/step - loss: 0.4445 - val_loss: 1.3939\n",
      "Epoch 6/100\n",
      "1090/1090 [==============================] - 7s 6ms/step - loss: 0.3848 - val_loss: 1.3186\n",
      "Epoch 7/100\n",
      "1090/1090 [==============================] - 7s 6ms/step - loss: 0.3272 - val_loss: 1.3717\n",
      "Epoch 8/100\n",
      "1090/1090 [==============================] - 7s 6ms/step - loss: 0.2820 - val_loss: 1.4347\n",
      "Epoch 9/100\n",
      "1090/1090 [==============================] - 7s 6ms/step - loss: 0.2471 - val_loss: 1.3703\n",
      "Epoch 10/100\n",
      "1090/1090 [==============================] - 7s 6ms/step - loss: 0.2153 - val_loss: 1.4527\n",
      "Epoch 11/100\n",
      "1090/1090 [==============================] - 7s 7ms/step - loss: 0.1866 - val_loss: 1.4799\n"
     ]
    }
   ],
   "source": [
    "history = model.fit(x=[np.array(train.u_id), np.array(train.p_id)],y= np.array(train.score), validation_split=0.2, epochs=100, verbose=1, callbacks=[earlystopping])"
   ]
  },
  {
   "cell_type": "code",
   "execution_count": 29,
   "metadata": {},
   "outputs": [
    {
     "data": {
      "image/png": "[encoded data removed]",
      "text/plain": [
       "<Figure size 640x480 with 1 Axes>"
      ]
     },
     "metadata": {},
     "output_type": "display_data"
    }
   ],
   "source": [
    "plt.plot(history.history['loss'])\n",
    "plt.plot(history.history['val_loss'])\n",
    "plt.xlabel('Epoch')\n",
    "plt.ylabel('Loss')\n",
    "plt.legend(['Train', 'Test'], loc='upper left')\n",
    "plt.show()\n",
    "plt.show()"
   ]
  },
  {
   "cell_type": "code",
   "execution_count": 30,
   "metadata": {},
   "outputs": [
    {
     "name": "stdout",
     "output_type": "stream",
     "text": [
      "341/341 [==============================] - 1s 4ms/step - loss: 1.4741\n"
     ]
    },
    {
     "data": {
      "text/plain": [
       "1.4741182327270508"
      ]
     },
     "execution_count": 30,
     "metadata": {},
     "output_type": "execute_result"
    }
   ],
   "source": [
    "model.evaluate([test.u_id, test.p_id], test.score)"
   ]
  },
  {
   "cell_type": "code",
   "execution_count": 31,
   "metadata": {},
   "outputs": [
    {
     "name": "stdout",
     "output_type": "stream",
     "text": [
      "341/341 [==============================] - 1s 3ms/step\n"
     ]
    },
    {
     "data": {
      "text/plain": [
       "1.2345931246715407"
      ]
     },
     "execution_count": 31,
     "metadata": {},
     "output_type": "execute_result"
    }
   ],
   "source": [
    "from sklearn.metrics import mean_squared_error\n",
    "y_prob = model.predict([test.u_id, test.p_id])\n",
    "y_true = test.score\n",
    "mean_squared_error(y_true, np.round(y_prob))**0.5"
   ]
  },
  {
   "cell_type": "code",
   "execution_count": null,
   "metadata": {},
   "outputs": [
    {
     "name": "stdout",
     "output_type": "stream",
     "text": [
      "17/17 [==============================] - 0s 2ms/step\n"
     ]
    },
    {
     "data": {
      "text/plain": [
       "array([5.4001794, 5.3755636, 5.3753176, 5.3332033, 5.3326054, 5.3321533,\n",
       "       5.324966 , 5.3010364, 5.2935624, 5.2885942], dtype=float32)"
      ]
     },
     "execution_count": 24,
     "metadata": {},
     "output_type": "execute_result"
    }
   ],
   "source": [
    "id_place = range(1,20)\n",
    "\n",
    "# Creating dataset for making recommendations for the first user\n",
    "place_data = np.array(list(set(data_df.p_id)))\n",
    "place_data[:10]\n",
    "\n",
    "id_user = 3\n",
    "user = np.array([id_user for i in range(len(place_data))])\n",
    "user[:10]\n",
    "\n",
    "predictions = model.predict([user, place_data])\n",
    "\n",
    "predictions = np.array([a[0] for a in predictions])\n",
    "\n",
    "recommended_tourism_ids = (-predictions).argsort()[:10]\n",
    "\n",
    "recommended_tourism_ids\n",
    "\n",
    "# print predicted scores\n",
    "predictions[recommended_tourism_ids]"
   ]
  }
 ],
 "metadata": {
  "kernelspec": {
   "display_name": "Python 3",
   "language": "python",
   "name": "python3"
  },
  "language_info": {
   "codemirror_mode": {
    "name": "ipython",
    "version": 3
   },
   "file_extension": ".py",
   "mimetype": "text/x-python",
   "name": "python",
   "nbconvert_exporter": "python",
   "pygments_lexer": "ipython3",
   "version": "3.8.10"
  },
  "orig_nbformat": 4
 },
 "nbformat": 4,
 "nbformat_minor": 2
}
