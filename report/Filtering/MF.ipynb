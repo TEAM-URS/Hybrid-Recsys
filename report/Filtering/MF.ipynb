{
 "cells": [
  {
   "attachments": {},
   "cell_type": "markdown",
   "metadata": {},
   "source": [
    "# Matrix Fatorization"
   ]
  },
  {
   "cell_type": "code",
   "execution_count": null,
   "metadata": {},
   "outputs": [
    {
     "name": "stderr",
     "output_type": "stream",
     "text": [
      "2023-03-22 10:05:16.666151: I tensorflow/core/common_runtime/gpu/gpu_device.cc:1613] Created device /device:GPU:0 with 46705 MB memory:  -> device: 0, name: NVIDIA RTX A6000, pci bus id: 0000:af:00.0, compute capability: 8.6\n"
     ]
    },
    {
     "data": {
      "text/plain": [
       "[name: \"/device:CPU:0\"\n",
       " device_type: \"CPU\"\n",
       " memory_limit: 268435456\n",
       " locality {\n",
       " }\n",
       " incarnation: 7069076497472761732\n",
       " xla_global_id: -1,\n",
       " name: \"/device:GPU:0\"\n",
       " device_type: \"GPU\"\n",
       " memory_limit: 48974397440\n",
       " locality {\n",
       "   bus_id: 2\n",
       "   numa_node: 1\n",
       "   links {\n",
       "   }\n",
       " }\n",
       " incarnation: 11435544957634416321\n",
       " physical_device_desc: \"device: 0, name: NVIDIA RTX A6000, pci bus id: 0000:af:00.0, compute capability: 8.6\"\n",
       " xla_global_id: 416903419]"
      ]
     },
     "metadata": {},
     "output_type": "display_data"
    }
   ],
   "source": [
    "from tensorflow.python.client import device_lib\n",
    "device_lib.list_local_devices()"
   ]
  },
  {
   "cell_type": "code",
   "execution_count": 1,
   "metadata": {},
   "outputs": [
    {
     "name": "stderr",
     "output_type": "stream",
     "text": [
      "2023-03-21 13:41:52.129369: I tensorflow/core/platform/cpu_feature_guard.cc:193] This TensorFlow binary is optimized with oneAPI Deep Neural Network Library (oneDNN) to use the following CPU instructions in performance-critical operations:  AVX2 AVX512F AVX512_VNNI FMA\n",
      "To enable them in other operations, rebuild TensorFlow with the appropriate compiler flags.\n",
      "2023-03-21 13:41:52.282515: I tensorflow/core/util/port.cc:104] oneDNN custom operations are on. You may see slightly different numerical results due to floating-point round-off errors from different computation orders. To turn them off, set the environment variable `TF_ENABLE_ONEDNN_OPTS=0`.\n"
     ]
    }
   ],
   "source": [
    "import numpy as np\n",
    "import pandas as pd\n",
    "import matplotlib.pyplot as plt\n",
    "import os\n",
    "import warnings\n",
    "import tensorflow as tf\n",
    "from keras.layers import Input, Embedding, Flatten, Dot, Dense, Concatenate\n",
    "from keras.optimizers import Adam\n",
    "from keras.models import Model"
   ]
  },
  {
   "cell_type": "markdown",
   "metadata": {},
   "source": [
    "### 데이터 테이블 생성"
   ]
  },
  {
   "cell_type": "code",
   "execution_count": 2,
   "metadata": {},
   "outputs": [],
   "source": [
    "import pandas as pd\n",
    "\n",
    "review_df = pd.read_csv('../data/ulsan_rest_review_id.csv')\n",
    "title_df = pd.read_csv('../data/ulsan_rest_title.csv')"
   ]
  },
  {
   "cell_type": "code",
   "execution_count": 3,
   "metadata": {},
   "outputs": [
    {
     "name": "stdout",
     "output_type": "stream",
     "text": [
      "title         0\n",
      "u_id          0\n",
      "user_id      21\n",
      "score         0\n",
      "comment    1206\n",
      "dtype: int64\n"
     ]
    }
   ],
   "source": [
    "print(review_df.isnull().sum())\n",
    "\n",
    "review_df.dropna(axis=0, how='any', subset=['user_id'], inplace=True)"
   ]
  },
  {
   "cell_type": "code",
   "execution_count": 4,
   "metadata": {},
   "outputs": [
    {
     "data": {
      "text/html": [
       "<div>\n",
       "<style scoped>\n",
       "    .dataframe tbody tr th:only-of-type {\n",
       "        vertical-align: middle;\n",
       "    }\n",
       "\n",
       "    .dataframe tbody tr th {\n",
       "        vertical-align: top;\n",
       "    }\n",
       "\n",
       "    .dataframe thead th {\n",
       "        text-align: right;\n",
       "    }\n",
       "</style>\n",
       "<table border=\"1\" class=\"dataframe\">\n",
       "  <thead>\n",
       "    <tr style=\"text-align: right;\">\n",
       "      <th></th>\n",
       "      <th>title</th>\n",
       "      <th>u_id</th>\n",
       "      <th>user_id</th>\n",
       "      <th>score</th>\n",
       "      <th>comment</th>\n",
       "      <th>p_id</th>\n",
       "      <th>rate</th>\n",
       "      <th>tags</th>\n",
       "      <th>address</th>\n",
       "      <th>url</th>\n",
       "    </tr>\n",
       "  </thead>\n",
       "  <tbody>\n",
       "    <tr>\n",
       "      <th>0</th>\n",
       "      <td>바다바라기 본점</td>\n",
       "      <td>0</td>\n",
       "      <td>0</td>\n",
       "      <td>1</td>\n",
       "      <td>인생최악의 킹크랩 이였습니다. 게의 상태가 안좋은 건지 잘못찐건지.킹크랩의 고유의 ...</td>\n",
       "      <td>420</td>\n",
       "      <td>4.0</td>\n",
       "      <td>게,대게</td>\n",
       "      <td>울산 북구 정자1길 111 1,2층 (우)44233</td>\n",
       "      <td>https://place.map.kakao.com/15261734</td>\n",
       "    </tr>\n",
       "    <tr>\n",
       "      <th>1</th>\n",
       "      <td>바다바라기 본점</td>\n",
       "      <td>21</td>\n",
       "      <td>-</td>\n",
       "      <td>1</td>\n",
       "      <td>진짜 돈아깝다음식이랑 직원한테 투자해야할걸 sns 광고비에만 몰빵하는듯어딜가든 여기...</td>\n",
       "      <td>420</td>\n",
       "      <td>4.0</td>\n",
       "      <td>게,대게</td>\n",
       "      <td>울산 북구 정자1길 111 1,2층 (우)44233</td>\n",
       "      <td>https://place.map.kakao.com/15261734</td>\n",
       "    </tr>\n",
       "    <tr>\n",
       "      <th>2</th>\n",
       "      <td>바다바라기 본점</td>\n",
       "      <td>22</td>\n",
       "      <td>--</td>\n",
       "      <td>5</td>\n",
       "      <td>대게가 엄청큰데 살이 완전 가득 채워져있고 살이 부들부들해서 진짜 계속 먹을 수 있...</td>\n",
       "      <td>420</td>\n",
       "      <td>4.0</td>\n",
       "      <td>게,대게</td>\n",
       "      <td>울산 북구 정자1길 111 1,2층 (우)44233</td>\n",
       "      <td>https://place.map.kakao.com/15261734</td>\n",
       "    </tr>\n",
       "    <tr>\n",
       "      <th>3</th>\n",
       "      <td>바다바라기 본점</td>\n",
       "      <td>33</td>\n",
       "      <td>(알 수 없음)</td>\n",
       "      <td>5</td>\n",
       "      <td>평점이 좋길래 믿고 방문했어요대게도 신선하고 직원분들도 친절해서 기분 좋은 식사했네요</td>\n",
       "      <td>420</td>\n",
       "      <td>4.0</td>\n",
       "      <td>게,대게</td>\n",
       "      <td>울산 북구 정자1길 111 1,2층 (우)44233</td>\n",
       "      <td>https://place.map.kakao.com/15261734</td>\n",
       "    </tr>\n",
       "    <tr>\n",
       "      <th>4</th>\n",
       "      <td>바다바라기 본점</td>\n",
       "      <td>39</td>\n",
       "      <td>.</td>\n",
       "      <td>5</td>\n",
       "      <td>울산여행와서 맛집검색해서 왔는데 맛있었습니다. #맛집 #성공적</td>\n",
       "      <td>420</td>\n",
       "      <td>4.0</td>\n",
       "      <td>게,대게</td>\n",
       "      <td>울산 북구 정자1길 111 1,2층 (우)44233</td>\n",
       "      <td>https://place.map.kakao.com/15261734</td>\n",
       "    </tr>\n",
       "    <tr>\n",
       "      <th>...</th>\n",
       "      <td>...</td>\n",
       "      <td>...</td>\n",
       "      <td>...</td>\n",
       "      <td>...</td>\n",
       "      <td>...</td>\n",
       "      <td>...</td>\n",
       "      <td>...</td>\n",
       "      <td>...</td>\n",
       "      <td>...</td>\n",
       "      <td>...</td>\n",
       "    </tr>\n",
       "    <tr>\n",
       "      <th>6816</th>\n",
       "      <td>장군참치</td>\n",
       "      <td>3008</td>\n",
       "      <td>ㅈ</td>\n",
       "      <td>1</td>\n",
       "      <td>오마이갓 참치집이 아님 종업사기꾼</td>\n",
       "      <td>310</td>\n",
       "      <td>3.0</td>\n",
       "      <td>참치회</td>\n",
       "      <td>울산 남구 정동로80번길 19 (우)44712</td>\n",
       "      <td>https://place.map.kakao.com/2008161945</td>\n",
       "    </tr>\n",
       "    <tr>\n",
       "      <th>6817</th>\n",
       "      <td>도드람마을</td>\n",
       "      <td>3058</td>\n",
       "      <td>재민맘-김혜원</td>\n",
       "      <td>5</td>\n",
       "      <td>고기 육질이 좋네요~ 역시 차가 많은 이유가 있네용~ ^^</td>\n",
       "      <td>380</td>\n",
       "      <td>3.5</td>\n",
       "      <td>육류,고기</td>\n",
       "      <td>울산 북구 진장로 85 (우)44250</td>\n",
       "      <td>https://place.map.kakao.com/26345203</td>\n",
       "    </tr>\n",
       "    <tr>\n",
       "      <th>6818</th>\n",
       "      <td>도드람마을</td>\n",
       "      <td>3140</td>\n",
       "      <td>정원</td>\n",
       "      <td>1</td>\n",
       "      <td>고기 골라 손에 쥐고 들어갔더니 안내를 안해줍니다.아무 자리에 가서 앉았더니 한참 ...</td>\n",
       "      <td>380</td>\n",
       "      <td>3.5</td>\n",
       "      <td>육류,고기</td>\n",
       "      <td>울산 북구 진장로 85 (우)44250</td>\n",
       "      <td>https://place.map.kakao.com/26345203</td>\n",
       "    </tr>\n",
       "    <tr>\n",
       "      <th>6819</th>\n",
       "      <td>도드람마을</td>\n",
       "      <td>3405</td>\n",
       "      <td>최고,최악만 메모하는 유니</td>\n",
       "      <td>5</td>\n",
       "      <td>상차림반찬들+고기질 다 너무좋아요북구사람이면 다 아는 넘나유명한곳직원분들도 다 친절하시고</td>\n",
       "      <td>380</td>\n",
       "      <td>3.5</td>\n",
       "      <td>육류,고기</td>\n",
       "      <td>울산 북구 진장로 85 (우)44250</td>\n",
       "      <td>https://place.map.kakao.com/26345203</td>\n",
       "    </tr>\n",
       "    <tr>\n",
       "      <th>6820</th>\n",
       "      <td>도드람마을</td>\n",
       "      <td>3764</td>\n",
       "      <td>호시우행(虎視牛行)</td>\n",
       "      <td>3</td>\n",
       "      <td>고기는 다 좋으나,냉면은 비 추천. 정말 맛 없어요</td>\n",
       "      <td>380</td>\n",
       "      <td>3.5</td>\n",
       "      <td>육류,고기</td>\n",
       "      <td>울산 북구 진장로 85 (우)44250</td>\n",
       "      <td>https://place.map.kakao.com/26345203</td>\n",
       "    </tr>\n",
       "  </tbody>\n",
       "</table>\n",
       "<p>6821 rows × 10 columns</p>\n",
       "</div>"
      ],
      "text/plain": [
       "         title  u_id         user_id  score  \\\n",
       "0     바다바라기 본점     0               0      1   \n",
       "1     바다바라기 본점    21               -      1   \n",
       "2     바다바라기 본점    22              --      5   \n",
       "3     바다바라기 본점    33        (알 수 없음)      5   \n",
       "4     바다바라기 본점    39               .      5   \n",
       "...        ...   ...             ...    ...   \n",
       "6816      장군참치  3008               ㅈ      1   \n",
       "6817     도드람마을  3058         재민맘-김혜원      5   \n",
       "6818     도드람마을  3140              정원      1   \n",
       "6819     도드람마을  3405  최고,최악만 메모하는 유니      5   \n",
       "6820     도드람마을  3764      호시우행(虎視牛行)      3   \n",
       "\n",
       "                                                comment  p_id  rate   tags  \\\n",
       "0     인생최악의 킹크랩 이였습니다. 게의 상태가 안좋은 건지 잘못찐건지.킹크랩의 고유의 ...   420   4.0   게,대게   \n",
       "1     진짜 돈아깝다음식이랑 직원한테 투자해야할걸 sns 광고비에만 몰빵하는듯어딜가든 여기...   420   4.0   게,대게   \n",
       "2     대게가 엄청큰데 살이 완전 가득 채워져있고 살이 부들부들해서 진짜 계속 먹을 수 있...   420   4.0   게,대게   \n",
       "3       평점이 좋길래 믿고 방문했어요대게도 신선하고 직원분들도 친절해서 기분 좋은 식사했네요   420   4.0   게,대게   \n",
       "4                    울산여행와서 맛집검색해서 왔는데 맛있었습니다. #맛집 #성공적   420   4.0   게,대게   \n",
       "...                                                 ...   ...   ...    ...   \n",
       "6816                                 오마이갓 참치집이 아님 종업사기꾼   310   3.0    참치회   \n",
       "6817                   고기 육질이 좋네요~ 역시 차가 많은 이유가 있네용~ ^^   380   3.5  육류,고기   \n",
       "6818  고기 골라 손에 쥐고 들어갔더니 안내를 안해줍니다.아무 자리에 가서 앉았더니 한참 ...   380   3.5  육류,고기   \n",
       "6819  상차림반찬들+고기질 다 너무좋아요북구사람이면 다 아는 넘나유명한곳직원분들도 다 친절하시고   380   3.5  육류,고기   \n",
       "6820                       고기는 다 좋으나,냉면은 비 추천. 정말 맛 없어요   380   3.5  육류,고기   \n",
       "\n",
       "                           address                                     url  \n",
       "0     울산 북구 정자1길 111 1,2층 (우)44233    https://place.map.kakao.com/15261734  \n",
       "1     울산 북구 정자1길 111 1,2층 (우)44233    https://place.map.kakao.com/15261734  \n",
       "2     울산 북구 정자1길 111 1,2층 (우)44233    https://place.map.kakao.com/15261734  \n",
       "3     울산 북구 정자1길 111 1,2층 (우)44233    https://place.map.kakao.com/15261734  \n",
       "4     울산 북구 정자1길 111 1,2층 (우)44233    https://place.map.kakao.com/15261734  \n",
       "...                            ...                                     ...  \n",
       "6816     울산 남구 정동로80번길 19 (우)44712  https://place.map.kakao.com/2008161945  \n",
       "6817         울산 북구 진장로 85 (우)44250    https://place.map.kakao.com/26345203  \n",
       "6818         울산 북구 진장로 85 (우)44250    https://place.map.kakao.com/26345203  \n",
       "6819         울산 북구 진장로 85 (우)44250    https://place.map.kakao.com/26345203  \n",
       "6820         울산 북구 진장로 85 (우)44250    https://place.map.kakao.com/26345203  \n",
       "\n",
       "[6821 rows x 10 columns]"
      ]
     },
     "execution_count": 4,
     "metadata": {},
     "output_type": "execute_result"
    }
   ],
   "source": [
    "table_df = pd.merge(review_df, title_df, on='title', how='inner')\n",
    "table_df"
   ]
  },
  {
   "cell_type": "code",
   "execution_count": 5,
   "metadata": {},
   "outputs": [
    {
     "name": "stdout",
     "output_type": "stream",
     "text": [
      "<class 'pandas.core.frame.DataFrame'>\n",
      "Int64Index: 6821 entries, 0 to 6820\n",
      "Data columns (total 3 columns):\n",
      " #   Column  Non-Null Count  Dtype\n",
      "---  ------  --------------  -----\n",
      " 0   u_id    6821 non-null   int64\n",
      " 1   p_id    6821 non-null   int64\n",
      " 2   score   6821 non-null   int64\n",
      "dtypes: int64(3)\n",
      "memory usage: 213.2 KB\n"
     ]
    }
   ],
   "source": [
    "data_df = table_df[['u_id', 'p_id', 'score']]\n",
    "data_df.info()"
   ]
  },
  {
   "cell_type": "markdown",
   "metadata": {},
   "source": [
    "### Train, Test split"
   ]
  },
  {
   "cell_type": "code",
   "execution_count": 8,
   "metadata": {},
   "outputs": [],
   "source": [
    "from sklearn.model_selection import train_test_split\n",
    "train, test = train_test_split(data_df, test_size=0.2, random_state=42)"
   ]
  },
  {
   "cell_type": "code",
   "execution_count": 6,
   "metadata": {},
   "outputs": [
    {
     "name": "stdout",
     "output_type": "stream",
     "text": [
      "3869 528\n"
     ]
    }
   ],
   "source": [
    "n_users = data_df.u_id.unique().shape[0]\n",
    "n_places = data_df.p_id.unique().shape[0]\n",
    "print(n_users, n_places)"
   ]
  },
  {
   "cell_type": "code",
   "execution_count": 7,
   "metadata": {},
   "outputs": [],
   "source": [
    "tf.keras.backend.clear_session()"
   ]
  },
  {
   "cell_type": "markdown",
   "metadata": {},
   "source": [
    "### callback"
   ]
  },
  {
   "cell_type": "code",
   "execution_count": 17,
   "metadata": {},
   "outputs": [],
   "source": [
    "earlystopping = tf.keras.callbacks.EarlyStopping(\n",
    "    monitor='val_loss', patience=10, verbose=0, mode='auto',\n",
    "    baseline=None, restore_best_weights=False\n",
    ")"
   ]
  },
  {
   "cell_type": "markdown",
   "metadata": {},
   "source": [
    "### Model"
   ]
  },
  {
   "cell_type": "code",
   "execution_count": 18,
   "metadata": {},
   "outputs": [],
   "source": [
    "latent_dim = 50 ## 잠재요인\n",
    "\n",
    "# creating book embedding path\n",
    "place_input = Input(shape=[1], name=\"Place-Input\")\n",
    "place_embedding = Embedding(n_places, latent_dim, name=\"Place-Embedding\")(place_input)\n",
    "place_vec = Flatten(name=\"Flatten-Places\")(place_embedding)\n",
    "\n",
    "# creating user embedding path\n",
    "user_input = Input(shape=[1], name=\"User-Input\")\n",
    "user_embedding = Embedding(n_users,latent_dim, name=\"User-Embedding\")(user_input)\n",
    "user_vec = Flatten(name=\"Flatten-Users\")(user_embedding)\n",
    "\n",
    "# concatenate features\n",
    "conc = Concatenate()([place_vec, user_vec])\n",
    "\n",
    "# add fully-connected-layers\n",
    "fc1 = Dense(256, activation='relu')(conc)\n",
    "fc2 = Dense(128, activation='relu')(fc1)\n",
    "fc3 = Dense(128, activation='relu')(fc2)\n",
    "out = Dense(1)(fc3)\n",
    "\n",
    "# Create model and compile it\n",
    "model = Model([user_input, place_input], out)\n",
    "model.compile(optimizer=tf.keras.optimizers.Adam(learning_rate=0.005), loss='mean_squared_error')"
   ]
  },
  {
   "cell_type": "code",
   "execution_count": 19,
   "metadata": {},
   "outputs": [
    {
     "name": "stdout",
     "output_type": "stream",
     "text": [
      "Model: \"model_1\"\n",
      "__________________________________________________________________________________________________\n",
      " Layer (type)                   Output Shape         Param #     Connected to                     \n",
      "==================================================================================================\n",
      " Place-Input (InputLayer)       [(None, 1)]          0           []                               \n",
      "                                                                                                  \n",
      " User-Input (InputLayer)        [(None, 1)]          0           []                               \n",
      "                                                                                                  \n",
      " Place-Embedding (Embedding)    (None, 1, 50)        26400       ['Place-Input[0][0]']            \n",
      "                                                                                                  \n",
      " User-Embedding (Embedding)     (None, 1, 50)        193450      ['User-Input[0][0]']             \n",
      "                                                                                                  \n",
      " Flatten-Tourism (Flatten)      (None, 50)           0           ['Place-Embedding[0][0]']        \n",
      "                                                                                                  \n",
      " Flatten-Users (Flatten)        (None, 50)           0           ['User-Embedding[0][0]']         \n",
      "                                                                                                  \n",
      " concatenate_1 (Concatenate)    (None, 100)          0           ['Flatten-Tourism[0][0]',        \n",
      "                                                                  'Flatten-Users[0][0]']          \n",
      "                                                                                                  \n",
      " dense_4 (Dense)                (None, 256)          25856       ['concatenate_1[0][0]']          \n",
      "                                                                                                  \n",
      " dense_5 (Dense)                (None, 128)          32896       ['dense_4[0][0]']                \n",
      "                                                                                                  \n",
      " dense_6 (Dense)                (None, 128)          16512       ['dense_5[0][0]']                \n",
      "                                                                                                  \n",
      " dense_7 (Dense)                (None, 1)            129         ['dense_6[0][0]']                \n",
      "                                                                                                  \n",
      "==================================================================================================\n",
      "Total params: 295,243\n",
      "Trainable params: 295,243\n",
      "Non-trainable params: 0\n",
      "__________________________________________________________________________________________________\n"
     ]
    }
   ],
   "source": [
    "model.summary()"
   ]
  },
  {
   "cell_type": "code",
   "execution_count": 20,
   "metadata": {},
   "outputs": [
    {
     "name": "stdout",
     "output_type": "stream",
     "text": [
      "Epoch 1/100\n",
      "137/137 [==============================] - 4s 18ms/step - loss: 2.9270 - val_loss: 2.1283\n",
      "Epoch 2/100\n",
      "137/137 [==============================] - 1s 8ms/step - loss: 1.1685 - val_loss: 2.1092\n",
      "Epoch 3/100\n",
      "137/137 [==============================] - 1s 9ms/step - loss: 0.7450 - val_loss: 2.1907\n",
      "Epoch 4/100\n",
      "137/137 [==============================] - 1s 10ms/step - loss: 0.5206 - val_loss: 2.1591\n",
      "Epoch 5/100\n",
      "137/137 [==============================] - 1s 7ms/step - loss: 0.4106 - val_loss: 2.2868\n",
      "Epoch 6/100\n",
      "137/137 [==============================] - 1s 7ms/step - loss: 0.3169 - val_loss: 2.2541\n",
      "Epoch 7/100\n",
      "137/137 [==============================] - 1s 7ms/step - loss: 0.2330 - val_loss: 2.2592\n",
      "Epoch 8/100\n",
      "137/137 [==============================] - 1s 9ms/step - loss: 0.1766 - val_loss: 2.2578\n",
      "Epoch 9/100\n",
      "137/137 [==============================] - 1s 7ms/step - loss: 0.1287 - val_loss: 2.3095\n",
      "Epoch 10/100\n",
      "137/137 [==============================] - 1s 7ms/step - loss: 0.1122 - val_loss: 2.2635\n",
      "Epoch 11/100\n",
      "137/137 [==============================] - 1s 9ms/step - loss: 0.1000 - val_loss: 2.2492\n",
      "Epoch 12/100\n",
      "137/137 [==============================] - 1s 7ms/step - loss: 0.0970 - val_loss: 2.3168\n"
     ]
    }
   ],
   "source": [
    "history = model.fit(x=[train.u_id, train.p_id],y= train.score, validation_split=0.2, epochs=100, verbose=1, callbacks=[earlystopping])"
   ]
  },
  {
   "cell_type": "code",
   "execution_count": 21,
   "metadata": {},
   "outputs": [
    {
     "data": {
      "image/png": "[encoded data removed]",
      "text/plain": [
       "<Figure size 640x480 with 1 Axes>"
      ]
     },
     "metadata": {},
     "output_type": "display_data"
    }
   ],
   "source": [
    "plt.plot(history.history['loss'])\n",
    "plt.plot(history.history['val_loss'])\n",
    "plt.xlabel('Epoch')\n",
    "plt.ylabel('Loss')\n",
    "plt.legend(['Train', 'Test'], loc='upper left')\n",
    "plt.show()\n",
    "plt.show()"
   ]
  },
  {
   "cell_type": "code",
   "execution_count": 22,
   "metadata": {},
   "outputs": [
    {
     "name": "stdout",
     "output_type": "stream",
     "text": [
      "43/43 [==============================] - 0s 3ms/step - loss: 2.3806\n"
     ]
    },
    {
     "data": {
      "text/plain": [
       "2.3805840015411377"
      ]
     },
     "execution_count": 22,
     "metadata": {},
     "output_type": "execute_result"
    }
   ],
   "source": [
    "model.evaluate([test.u_id, test.p_id], test.score)"
   ]
  },
  {
   "cell_type": "code",
   "execution_count": 23,
   "metadata": {},
   "outputs": [
    {
     "name": "stdout",
     "output_type": "stream",
     "text": [
      "43/43 [==============================] - 0s 3ms/step\n"
     ]
    },
    {
     "data": {
      "text/plain": [
       "1.558387444947959"
      ]
     },
     "execution_count": 23,
     "metadata": {},
     "output_type": "execute_result"
    }
   ],
   "source": [
    "from sklearn.metrics import mean_squared_error\n",
    "y_prob = model.predict([test.u_id, test.p_id])\n",
    "y_true = test.score\n",
    "mean_squared_error(y_true, np.round(y_prob))**0.5"
   ]
  },
  {
   "cell_type": "code",
   "execution_count": 24,
   "metadata": {},
   "outputs": [
    {
     "name": "stdout",
     "output_type": "stream",
     "text": [
      "17/17 [==============================] - 0s 2ms/step\n"
     ]
    },
    {
     "data": {
      "text/plain": [
       "array([5.4001794, 5.3755636, 5.3753176, 5.3332033, 5.3326054, 5.3321533,\n",
       "       5.324966 , 5.3010364, 5.2935624, 5.2885942], dtype=float32)"
      ]
     },
     "execution_count": 24,
     "metadata": {},
     "output_type": "execute_result"
    }
   ],
   "source": [
    "id_place = range(1,20)\n",
    "\n",
    "# Creating dataset for making recommendations for the first user\n",
    "place_data = np.array(list(set(data_df.p_id)))\n",
    "place_data[:10]\n",
    "\n",
    "id_user = 3\n",
    "user = np.array([id_user for i in range(len(place_data))])\n",
    "user[:10]\n",
    "\n",
    "predictions = model.predict([user, place_data])\n",
    "\n",
    "predictions = np.array([a[0] for a in predictions])\n",
    "\n",
    "recommended_tourism_ids = (-predictions).argsort()[:10]\n",
    "\n",
    "recommended_tourism_ids\n",
    "\n",
    "# print predicted scores\n",
    "predictions[recommended_tourism_ids]"
   ]
  }
 ],
 "metadata": {
  "kernelspec": {
   "display_name": "Python 3",
   "language": "python",
   "name": "python3"
  },
  "language_info": {
   "codemirror_mode": {
    "name": "ipython",
    "version": 3
   },
   "file_extension": ".py",
   "mimetype": "text/x-python",
   "name": "python",
   "nbconvert_exporter": "python",
   "pygments_lexer": "ipython3",
   "version": "3.8.10"
  },
  "orig_nbformat": 4
 },
 "nbformat": 4,
 "nbformat_minor": 2
}
