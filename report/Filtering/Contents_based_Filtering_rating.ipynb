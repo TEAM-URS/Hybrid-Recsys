{
 "cells": [
  {
   "attachments": {},
   "cell_type": "markdown",
   "metadata": {},
   "source": [
    "# 컨텐츠 기반 추천시스템"
   ]
  },
  {
   "attachments": {},
   "cell_type": "markdown",
   "metadata": {},
   "source": [
    "아이템 평점 기반 추천"
   ]
  },
  {
   "cell_type": "code",
   "execution_count": 1,
   "metadata": {},
   "outputs": [],
   "source": [
    "import matplotlib\n",
    "import matplotlib.pyplot as plt\n",
    " \n",
    "%config InlineBackend.figure_format = 'retina'\n",
    "import matplotlib.font_manager as fm\n",
    "fontpath = '/usr/share/fonts/truetype/nanum/NanumBarunGothic.ttf'\n",
    "fontprop = fm.FontProperties(fname=fontpath, size=8) "
   ]
  },
  {
   "cell_type": "code",
   "execution_count": 2,
   "metadata": {},
   "outputs": [],
   "source": [
    "#폰트종류설정\n",
    "plt.rcParams[\"font.family\"] = 'NanumGothic'\n",
    "\n",
    "#폰트크기설정\n",
    "#plt.rcParams[\"font.size\"] = 20"
   ]
  },
  {
   "attachments": {},
   "cell_type": "markdown",
   "metadata": {},
   "source": [
    "## 데이터 전처리"
   ]
  },
  {
   "cell_type": "code",
   "execution_count": 3,
   "metadata": {},
   "outputs": [
    {
     "name": "stderr",
     "output_type": "stream",
     "text": [
      "/tmp/ipykernel_87791/691330863.py:6: MatplotlibDeprecationWarning: The seaborn styles shipped by Matplotlib are deprecated since 3.6, as they no longer correspond to the styles shipped by seaborn. However, they will remain available as 'seaborn-v0_8-<style>'. Alternatively, directly use the seaborn API instead.\n",
      "  plt.style.use('seaborn-white')\n",
      "2023-03-25 12:19:56.464177: I tensorflow/core/platform/cpu_feature_guard.cc:193] This TensorFlow binary is optimized with oneAPI Deep Neural Network Library (oneDNN) to use the following CPU instructions in performance-critical operations:  AVX2 AVX512F AVX512_VNNI FMA\n",
      "To enable them in other operations, rebuild TensorFlow with the appropriate compiler flags.\n",
      "2023-03-25 12:19:56.620271: I tensorflow/core/util/port.cc:104] oneDNN custom operations are on. You may see slightly different numerical results due to floating-point round-off errors from different computation orders. To turn them off, set the environment variable `TF_ENABLE_ONEDNN_OPTS=0`.\n"
     ]
    }
   ],
   "source": [
    "import konlpy\n",
    "import urllib.request\n",
    "import numpy as np\n",
    "import pandas as pd\n",
    "import matplotlib.pyplot as plt\n",
    "plt.style.use('seaborn-white')\n",
    "\n",
    "from konlpy.tag import Mecab\n",
    "from tensorflow.keras.preprocessing.text import Tokenizer\n",
    "from tensorflow.keras.preprocessing.sequence import pad_sequences"
   ]
  },
  {
   "cell_type": "code",
   "execution_count": 29,
   "metadata": {},
   "outputs": [
    {
     "name": "stdout",
     "output_type": "stream",
     "text": [
      "<class 'pandas.core.frame.DataFrame'>\n",
      "RangeIndex: 54500 entries, 0 to 54499\n",
      "Data columns (total 6 columns):\n",
      " #   Column    Non-Null Count  Dtype \n",
      "---  ------    --------------  ----- \n",
      " 0   p_id      54500 non-null  int64 \n",
      " 1   place_id  54500 non-null  object\n",
      " 2   u_id      54500 non-null  int64 \n",
      " 3   user_id   54500 non-null  object\n",
      " 4   score     54500 non-null  int64 \n",
      " 5   comment   40225 non-null  object\n",
      "dtypes: int64(3), object(3)\n",
      "memory usage: 2.5+ MB\n"
     ]
    }
   ],
   "source": [
    "import pandas as pd\n",
    "import numpy as np\n",
    "data_df = pd.read_csv('../data/ulsan_rest_table_ver3.csv')\n",
    "data_df.info()"
   ]
  },
  {
   "cell_type": "code",
   "execution_count": 30,
   "metadata": {},
   "outputs": [
    {
     "name": "stdout",
     "output_type": "stream",
     "text": [
      "54500\n",
      "p_id            0\n",
      "place_id        0\n",
      "u_id            0\n",
      "user_id         0\n",
      "score           0\n",
      "comment     14275\n",
      "dtype: int64\n"
     ]
    }
   ],
   "source": [
    "# data_df['comment'] = data_df['comment'].str.replace(\"[^ㄱ-하-ㅣ가-힣 ]\", \"\")\n",
    "# data_df['comment'].replace('', np.nan, inplace=True)\n",
    "print(len(data_df))\n",
    "print(data_df.isnull().sum())"
   ]
  },
  {
   "cell_type": "code",
   "execution_count": 31,
   "metadata": {},
   "outputs": [],
   "source": [
    "# print(data_df.isnull().sum())\n",
    "\n",
    "data_df = data_df.dropna(how='any')"
   ]
  },
  {
   "cell_type": "code",
   "execution_count": 32,
   "metadata": {},
   "outputs": [
    {
     "name": "stdout",
     "output_type": "stream",
     "text": [
      "<class 'pandas.core.frame.DataFrame'>\n",
      "Int64Index: 40225 entries, 0 to 54499\n",
      "Data columns (total 6 columns):\n",
      " #   Column    Non-Null Count  Dtype \n",
      "---  ------    --------------  ----- \n",
      " 0   p_id      40225 non-null  int64 \n",
      " 1   place_id  40225 non-null  object\n",
      " 2   u_id      40225 non-null  int64 \n",
      " 3   user_id   40225 non-null  object\n",
      " 4   score     40225 non-null  int64 \n",
      " 5   comment   40225 non-null  object\n",
      "dtypes: int64(3), object(3)\n",
      "memory usage: 2.1+ MB\n"
     ]
    }
   ],
   "source": [
    "data_df.info()"
   ]
  },
  {
   "cell_type": "code",
   "execution_count": 33,
   "metadata": {},
   "outputs": [
    {
     "name": "stdout",
     "output_type": "stream",
     "text": [
      "40225\n",
      "p_id        0\n",
      "place_id    0\n",
      "u_id        0\n",
      "user_id     0\n",
      "score       0\n",
      "comment     0\n",
      "dtype: int64\n"
     ]
    }
   ],
   "source": [
    "# data_df['comment'].replace('', np.nan, inplace=True)\n",
    "print(len(data_df))\n",
    "print(data_df.isnull().sum())"
   ]
  },
  {
   "attachments": {},
   "cell_type": "markdown",
   "metadata": {},
   "source": [
    "## Item Matrix"
   ]
  },
  {
   "cell_type": "code",
   "execution_count": 36,
   "metadata": {},
   "outputs": [
    {
     "name": "stdout",
     "output_type": "stream",
     "text": [
      "(492, 24545)\n"
     ]
    }
   ],
   "source": [
    "n_users = data_df.u_id.max()\n",
    "n_places = data_df.p_id.max()\n",
    "shape = (n_places+1, n_users+1)\n",
    "print(shape)"
   ]
  },
  {
   "cell_type": "code",
   "execution_count": 37,
   "metadata": {},
   "outputs": [
    {
     "data": {
      "text/plain": [
       "array([[0., 0., 0., ..., 0., 0., 0.],\n",
       "       [0., 0., 0., ..., 0., 0., 0.],\n",
       "       [0., 0., 0., ..., 0., 0., 0.],\n",
       "       ...,\n",
       "       [0., 0., 0., ..., 0., 0., 0.],\n",
       "       [0., 0., 0., ..., 0., 0., 0.],\n",
       "       [0., 0., 0., ..., 0., 0., 0.]])"
      ]
     },
     "execution_count": 37,
     "metadata": {},
     "output_type": "execute_result"
    }
   ],
   "source": [
    "item_Matrix = np.ndarray(shape, dtype=float)\n",
    "# item_Matrix\n",
    "for p_id, u_id, rating in zip(data_df.p_id, data_df.u_id, data_df.score):\n",
    "    item_Matrix[p_id][u_id] = rating\n",
    "item_Matrix"
   ]
  },
  {
   "attachments": {},
   "cell_type": "markdown",
   "metadata": {},
   "source": [
    "## Cosine Similarity"
   ]
  },
  {
   "cell_type": "code",
   "execution_count": 39,
   "metadata": {},
   "outputs": [],
   "source": [
    "from sklearn.metrics.pairwise import cosine_similarity"
   ]
  },
  {
   "cell_type": "code",
   "execution_count": 40,
   "metadata": {},
   "outputs": [
    {
     "name": "stdout",
     "output_type": "stream",
     "text": [
      "코사인 유사도 연산 결과 : (492, 492)\n"
     ]
    }
   ],
   "source": [
    "similarity = cosine_similarity(item_Matrix, item_Matrix)\n",
    "print('코사인 유사도 연산 결과 :',similarity.shape)"
   ]
  },
  {
   "cell_type": "code",
   "execution_count": 50,
   "metadata": {},
   "outputs": [],
   "source": [
    "def get_recommendations(p_id, sim=similarity):\n",
    "    # 해당 아이템과 모든 아이템의 유사도를 가져온다.\n",
    "    sim_scores = list(enumerate(sim[p_id]))\n",
    "\n",
    "    # 유사도에 따라 아이템들을 정렬한다.\n",
    "    sim_scores = sorted(sim_scores, key=lambda x: x[1], reverse=True)\n",
    "\n",
    "    # 가장 유사한 10개의 아이템을 받아온다.\n",
    "    sim_scores = sim_scores[1:11]\n",
    "\n",
    "    # 가장 유사한 10개의 아이템의 ID을 리턴한다.\n",
    "    return sim_scores"
   ]
  },
  {
   "cell_type": "code",
   "execution_count": 51,
   "metadata": {},
   "outputs": [
    {
     "data": {
      "text/plain": [
       "[(338, 0.09024862773069361),\n",
       " (225, 0.05716550012797329),\n",
       " (103, 0.05473585873143489),\n",
       " (39, 0.0540662415097443),\n",
       " (35, 0.049687234845050735),\n",
       " (218, 0.04616980344706986),\n",
       " (435, 0.04549720439464462),\n",
       " (375, 0.045305856069212946),\n",
       " (410, 0.04339674475652684),\n",
       " (175, 0.03999672360259821)]"
      ]
     },
     "execution_count": 51,
     "metadata": {},
     "output_type": "execute_result"
    }
   ],
   "source": [
    "get_recommendations(400)"
   ]
  },
  {
   "cell_type": "code",
   "execution_count": 55,
   "metadata": {},
   "outputs": [
    {
     "data": {
      "text/html": [
       "<div>\n",
       "<style scoped>\n",
       "    .dataframe tbody tr th:only-of-type {\n",
       "        vertical-align: middle;\n",
       "    }\n",
       "\n",
       "    .dataframe tbody tr th {\n",
       "        vertical-align: top;\n",
       "    }\n",
       "\n",
       "    .dataframe thead th {\n",
       "        text-align: right;\n",
       "    }\n",
       "</style>\n",
       "<table border=\"1\" class=\"dataframe\">\n",
       "  <thead>\n",
       "    <tr style=\"text-align: right;\">\n",
       "      <th></th>\n",
       "      <th>p_id</th>\n",
       "      <th>place_id</th>\n",
       "      <th>u_id</th>\n",
       "      <th>user_id</th>\n",
       "      <th>score</th>\n",
       "      <th>comment</th>\n",
       "    </tr>\n",
       "  </thead>\n",
       "  <tbody>\n",
       "    <tr>\n",
       "      <th>43961</th>\n",
       "      <td>400</td>\n",
       "      <td>카몬시카페</td>\n",
       "      <td>24348</td>\n",
       "      <td>황인자</td>\n",
       "      <td>5</td>\n",
       "      <td>바닷가뷰가 너무좋아요~가래떡구이 맛있어요</td>\n",
       "    </tr>\n",
       "    <tr>\n",
       "      <th>43963</th>\n",
       "      <td>400</td>\n",
       "      <td>카몬시카페</td>\n",
       "      <td>24278</td>\n",
       "      <td>황병모</td>\n",
       "      <td>4</td>\n",
       "      <td>정말 마음이 탁 트였고 참 좋왓습니다</td>\n",
       "    </tr>\n",
       "    <tr>\n",
       "      <th>43964</th>\n",
       "      <td>400</td>\n",
       "      <td>카몬시카페</td>\n",
       "      <td>24239</td>\n",
       "      <td>황경희</td>\n",
       "      <td>5</td>\n",
       "      <td>바로 코앞에서 바닷물이 춤추고  봄바람이 살랑이는 멋진곳입니다\\n크레마풍성한 아메리...</td>\n",
       "    </tr>\n",
       "    <tr>\n",
       "      <th>43965</th>\n",
       "      <td>400</td>\n",
       "      <td>카몬시카페</td>\n",
       "      <td>24058</td>\n",
       "      <td>혼밥러</td>\n",
       "      <td>5</td>\n",
       "      <td>뷰, 위치, 공간 다 좋음</td>\n",
       "    </tr>\n",
       "    <tr>\n",
       "      <th>43966</th>\n",
       "      <td>400</td>\n",
       "      <td>카몬시카페</td>\n",
       "      <td>24049</td>\n",
       "      <td>호잇호잇</td>\n",
       "      <td>4</td>\n",
       "      <td>뷰도 좋고 커피도 맛있었어요 넓은데 사람들도 많이 오더라구요!</td>\n",
       "    </tr>\n",
       "    <tr>\n",
       "      <th>...</th>\n",
       "      <td>...</td>\n",
       "      <td>...</td>\n",
       "      <td>...</td>\n",
       "      <td>...</td>\n",
       "      <td>...</td>\n",
       "      <td>...</td>\n",
       "    </tr>\n",
       "    <tr>\n",
       "      <th>44165</th>\n",
       "      <td>400</td>\n",
       "      <td>카몬시카페</td>\n",
       "      <td>1227</td>\n",
       "      <td>DEW S</td>\n",
       "      <td>5</td>\n",
       "      <td>풍경도 좋은데 음료도 디저트도 맛있었어요. 다시 오고 싶음🥰…</td>\n",
       "    </tr>\n",
       "    <tr>\n",
       "      <th>44167</th>\n",
       "      <td>400</td>\n",
       "      <td>카몬시카페</td>\n",
       "      <td>987</td>\n",
       "      <td>circle</td>\n",
       "      <td>4</td>\n",
       "      <td>피자에 도우가 페스츄리빵이라 좀 별로였음</td>\n",
       "    </tr>\n",
       "    <tr>\n",
       "      <th>44168</th>\n",
       "      <td>400</td>\n",
       "      <td>카몬시카페</td>\n",
       "      <td>954</td>\n",
       "      <td>Chris L</td>\n",
       "      <td>5</td>\n",
       "      <td>Was great</td>\n",
       "    </tr>\n",
       "    <tr>\n",
       "      <th>44170</th>\n",
       "      <td>400</td>\n",
       "      <td>카몬시카페</td>\n",
       "      <td>554</td>\n",
       "      <td>binsp p</td>\n",
       "      <td>5</td>\n",
       "      <td>커피 맛나고 의자 편해서 자주 가용 하지만 허니브레드는 노맛</td>\n",
       "    </tr>\n",
       "    <tr>\n",
       "      <th>44171</th>\n",
       "      <td>400</td>\n",
       "      <td>카몬시카페</td>\n",
       "      <td>371</td>\n",
       "      <td>Ang Choi</td>\n",
       "      <td>5</td>\n",
       "      <td>오션뷰가 아름다워요</td>\n",
       "    </tr>\n",
       "  </tbody>\n",
       "</table>\n",
       "<p>146 rows × 6 columns</p>\n",
       "</div>"
      ],
      "text/plain": [
       "       p_id place_id   u_id   user_id  score  \\\n",
       "43961   400    카몬시카페  24348       황인자      5   \n",
       "43963   400    카몬시카페  24278       황병모      4   \n",
       "43964   400    카몬시카페  24239       황경희      5   \n",
       "43965   400    카몬시카페  24058       혼밥러      5   \n",
       "43966   400    카몬시카페  24049      호잇호잇      4   \n",
       "...     ...      ...    ...       ...    ...   \n",
       "44165   400    카몬시카페   1227     DEW S      5   \n",
       "44167   400    카몬시카페    987    circle      4   \n",
       "44168   400    카몬시카페    954   Chris L      5   \n",
       "44170   400    카몬시카페    554   binsp p      5   \n",
       "44171   400    카몬시카페    371  Ang Choi      5   \n",
       "\n",
       "                                                 comment  \n",
       "43961                             바닷가뷰가 너무좋아요~가래떡구이 맛있어요  \n",
       "43963                               정말 마음이 탁 트였고 참 좋왓습니다  \n",
       "43964  바로 코앞에서 바닷물이 춤추고  봄바람이 살랑이는 멋진곳입니다\\n크레마풍성한 아메리...  \n",
       "43965                                     뷰, 위치, 공간 다 좋음  \n",
       "43966                 뷰도 좋고 커피도 맛있었어요 넓은데 사람들도 많이 오더라구요!  \n",
       "...                                                  ...  \n",
       "44165                 풍경도 좋은데 음료도 디저트도 맛있었어요. 다시 오고 싶음🥰…  \n",
       "44167                             피자에 도우가 페스츄리빵이라 좀 별로였음  \n",
       "44168                                          Was great  \n",
       "44170                  커피 맛나고 의자 편해서 자주 가용 하지만 허니브레드는 노맛  \n",
       "44171                                         오션뷰가 아름다워요  \n",
       "\n",
       "[146 rows x 6 columns]"
      ]
     },
     "execution_count": 55,
     "metadata": {},
     "output_type": "execute_result"
    }
   ],
   "source": [
    "data_df[data_df.p_id == 400]"
   ]
  },
  {
   "cell_type": "code",
   "execution_count": 62,
   "metadata": {},
   "outputs": [
    {
     "data": {
      "text/html": [
       "<div>\n",
       "<style scoped>\n",
       "    .dataframe tbody tr th:only-of-type {\n",
       "        vertical-align: middle;\n",
       "    }\n",
       "\n",
       "    .dataframe tbody tr th {\n",
       "        vertical-align: top;\n",
       "    }\n",
       "\n",
       "    .dataframe thead th {\n",
       "        text-align: right;\n",
       "    }\n",
       "</style>\n",
       "<table border=\"1\" class=\"dataframe\">\n",
       "  <thead>\n",
       "    <tr style=\"text-align: right;\">\n",
       "      <th></th>\n",
       "      <th>p_id</th>\n",
       "      <th>place_id</th>\n",
       "      <th>u_id</th>\n",
       "      <th>user_id</th>\n",
       "      <th>score</th>\n",
       "      <th>comment</th>\n",
       "    </tr>\n",
       "  </thead>\n",
       "  <tbody>\n",
       "    <tr>\n",
       "      <th>4255</th>\n",
       "      <td>34</td>\n",
       "      <td>곤지곤지 호계점</td>\n",
       "      <td>987</td>\n",
       "      <td>circle</td>\n",
       "      <td>4</td>\n",
       "      <td>주차가 편하고 가성비가 괜찮은편.</td>\n",
       "    </tr>\n",
       "    <tr>\n",
       "      <th>5091</th>\n",
       "      <td>39</td>\n",
       "      <td>곽암 아트 카페 갤러리</td>\n",
       "      <td>987</td>\n",
       "      <td>circle</td>\n",
       "      <td>4</td>\n",
       "      <td>특색은 있지만 자주 방문하게 만들것같은\\n뭔가는 없는곳</td>\n",
       "    </tr>\n",
       "    <tr>\n",
       "      <th>11075</th>\n",
       "      <td>77</td>\n",
       "      <td>대왕암아구찜</td>\n",
       "      <td>987</td>\n",
       "      <td>circle</td>\n",
       "      <td>4</td>\n",
       "      <td>해물찜은 별로인데 아구는 괜찮음</td>\n",
       "    </tr>\n",
       "    <tr>\n",
       "      <th>28597</th>\n",
       "      <td>247</td>\n",
       "      <td>스타벅스 울산간절곶점</td>\n",
       "      <td>987</td>\n",
       "      <td>circle</td>\n",
       "      <td>3</td>\n",
       "      <td>항상 사람이 붐비고 바깥에 흙길을 걷다 들어오는 사람들이 많아 먼지가 많은 느낌입니다</td>\n",
       "    </tr>\n",
       "    <tr>\n",
       "      <th>43949</th>\n",
       "      <td>399</td>\n",
       "      <td>칠성양곱창</td>\n",
       "      <td>987</td>\n",
       "      <td>circle</td>\n",
       "      <td>4</td>\n",
       "      <td>반찬도 그렇고 곱창구이도 그렇고 음식이 좀 짜요. 응대는 친절함.</td>\n",
       "    </tr>\n",
       "    <tr>\n",
       "      <th>44167</th>\n",
       "      <td>400</td>\n",
       "      <td>카몬시카페</td>\n",
       "      <td>987</td>\n",
       "      <td>circle</td>\n",
       "      <td>4</td>\n",
       "      <td>피자에 도우가 페스츄리빵이라 좀 별로였음</td>\n",
       "    </tr>\n",
       "    <tr>\n",
       "      <th>46110</th>\n",
       "      <td>416</td>\n",
       "      <td>카페코이</td>\n",
       "      <td>987</td>\n",
       "      <td>circle</td>\n",
       "      <td>5</td>\n",
       "      <td>감성이 있는 조명이 멋진곳\\n낮 보다는 해질녘 이후를 추천</td>\n",
       "    </tr>\n",
       "    <tr>\n",
       "      <th>49033</th>\n",
       "      <td>435</td>\n",
       "      <td>투썸플레이스 울산정자점</td>\n",
       "      <td>987</td>\n",
       "      <td>circle</td>\n",
       "      <td>5</td>\n",
       "      <td>리모델링 이후 뷰가 끝내주게 변했습니다. 바다뷰로는 전국 어느까페에도 뒤지지 않을정도</td>\n",
       "    </tr>\n",
       "    <tr>\n",
       "      <th>49034</th>\n",
       "      <td>435</td>\n",
       "      <td>투썸플레이스 울산정자점</td>\n",
       "      <td>987</td>\n",
       "      <td>circle</td>\n",
       "      <td>5</td>\n",
       "      <td>리모델링 이후 뷰가 끝내주게 변했습니다. 바다뷰로는 전국 어느까페에도 뒤지지 않을정도</td>\n",
       "    </tr>\n",
       "    <tr>\n",
       "      <th>52746</th>\n",
       "      <td>476</td>\n",
       "      <td>헤이메르</td>\n",
       "      <td>987</td>\n",
       "      <td>circle</td>\n",
       "      <td>3</td>\n",
       "      <td>빵이나 커피는 그닥 특별하진 않았고 경치가 좋음. 사람많고 높은곳에 있어서 초보운전...</td>\n",
       "    </tr>\n",
       "  </tbody>\n",
       "</table>\n",
       "</div>"
      ],
      "text/plain": [
       "       p_id      place_id  u_id user_id  score  \\\n",
       "4255     34      곤지곤지 호계점   987  circle      4   \n",
       "5091     39  곽암 아트 카페 갤러리   987  circle      4   \n",
       "11075    77        대왕암아구찜   987  circle      4   \n",
       "28597   247   스타벅스 울산간절곶점   987  circle      3   \n",
       "43949   399         칠성양곱창   987  circle      4   \n",
       "44167   400         카몬시카페   987  circle      4   \n",
       "46110   416          카페코이   987  circle      5   \n",
       "49033   435  투썸플레이스 울산정자점   987  circle      5   \n",
       "49034   435  투썸플레이스 울산정자점   987  circle      5   \n",
       "52746   476          헤이메르   987  circle      3   \n",
       "\n",
       "                                                 comment  \n",
       "4255                                  주차가 편하고 가성비가 괜찮은편.  \n",
       "5091                      특색은 있지만 자주 방문하게 만들것같은\\n뭔가는 없는곳  \n",
       "11075                                  해물찜은 별로인데 아구는 괜찮음  \n",
       "28597    항상 사람이 붐비고 바깥에 흙길을 걷다 들어오는 사람들이 많아 먼지가 많은 느낌입니다  \n",
       "43949               반찬도 그렇고 곱창구이도 그렇고 음식이 좀 짜요. 응대는 친절함.  \n",
       "44167                             피자에 도우가 페스츄리빵이라 좀 별로였음  \n",
       "46110                   감성이 있는 조명이 멋진곳\\n낮 보다는 해질녘 이후를 추천  \n",
       "49033    리모델링 이후 뷰가 끝내주게 변했습니다. 바다뷰로는 전국 어느까페에도 뒤지지 않을정도  \n",
       "49034    리모델링 이후 뷰가 끝내주게 변했습니다. 바다뷰로는 전국 어느까페에도 뒤지지 않을정도  \n",
       "52746  빵이나 커피는 그닥 특별하진 않았고 경치가 좋음. 사람많고 높은곳에 있어서 초보운전...  "
      ]
     },
     "execution_count": 62,
     "metadata": {},
     "output_type": "execute_result"
    }
   ],
   "source": [
    "data_df[data_df.u_id == 987]"
   ]
  },
  {
   "cell_type": "code",
   "execution_count": null,
   "metadata": {},
   "outputs": [],
   "source": []
  }
 ],
 "metadata": {
  "kernelspec": {
   "display_name": "Python 3",
   "language": "python",
   "name": "python3"
  },
  "language_info": {
   "codemirror_mode": {
    "name": "ipython",
    "version": 3
   },
   "file_extension": ".py",
   "mimetype": "text/x-python",
   "name": "python",
   "nbconvert_exporter": "python",
   "pygments_lexer": "ipython3",
   "version": "3.8.10"
  },
  "orig_nbformat": 4
 },
 "nbformat": 4,
 "nbformat_minor": 2
}
