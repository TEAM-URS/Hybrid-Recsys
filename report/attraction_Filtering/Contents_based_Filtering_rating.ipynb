{
 "cells": [
  {
   "attachments": {},
   "cell_type": "markdown",
   "metadata": {},
   "source": [
    "# 컨텐츠 기반 추천시스템"
   ]
  },
  {
   "attachments": {},
   "cell_type": "markdown",
   "metadata": {},
   "source": [
    "아이템 평점 기반 추천"
   ]
  },
  {
   "cell_type": "code",
   "execution_count": 1,
   "metadata": {},
   "outputs": [],
   "source": [
    "import matplotlib\n",
    "import matplotlib.pyplot as plt\n",
    " \n",
    "%config InlineBackend.figure_format = 'retina'\n",
    "import matplotlib.font_manager as fm\n",
    "fontpath = '/usr/share/fonts/truetype/nanum/NanumBarunGothic.ttf'\n",
    "fontprop = fm.FontProperties(fname=fontpath, size=8) "
   ]
  },
  {
   "cell_type": "code",
   "execution_count": 2,
   "metadata": {},
   "outputs": [],
   "source": [
    "#폰트종류설정\n",
    "plt.rcParams[\"font.family\"] = 'NanumGothic'\n",
    "\n",
    "#폰트크기설정\n",
    "#plt.rcParams[\"font.size\"] = 20"
   ]
  },
  {
   "attachments": {},
   "cell_type": "markdown",
   "metadata": {},
   "source": [
    "## 데이터 전처리"
   ]
  },
  {
   "cell_type": "code",
   "execution_count": 3,
   "metadata": {},
   "outputs": [
    {
     "name": "stderr",
     "output_type": "stream",
     "text": [
      "C:\\Users\\82107\\AppData\\Local\\Temp\\ipykernel_19292\\691330863.py:6: MatplotlibDeprecationWarning: The seaborn styles shipped by Matplotlib are deprecated since 3.6, as they no longer correspond to the styles shipped by seaborn. However, they will remain available as 'seaborn-v0_8-<style>'. Alternatively, directly use the seaborn API instead.\n",
      "  plt.style.use('seaborn-white')\n"
     ]
    }
   ],
   "source": [
    "import konlpy\n",
    "import urllib.request\n",
    "import numpy as np\n",
    "import pandas as pd\n",
    "import matplotlib.pyplot as plt\n",
    "plt.style.use('seaborn-white')\n",
    "\n",
    "from konlpy.tag import Mecab\n",
    "from tensorflow.keras.preprocessing.text import Tokenizer\n",
    "from tensorflow.keras.preprocessing.sequence import pad_sequences"
   ]
  },
  {
   "cell_type": "code",
   "execution_count": 4,
   "metadata": {},
   "outputs": [
    {
     "name": "stdout",
     "output_type": "stream",
     "text": [
      "<class 'pandas.core.frame.DataFrame'>\n",
      "RangeIndex: 15405 entries, 0 to 15404\n",
      "Data columns (total 6 columns):\n",
      " #   Column    Non-Null Count  Dtype \n",
      "---  ------    --------------  ----- \n",
      " 0   place_id  15405 non-null  object\n",
      " 1   u_id      15405 non-null  int64 \n",
      " 2   user_id   15405 non-null  object\n",
      " 3   score     15405 non-null  int64 \n",
      " 4   comment   10548 non-null  object\n",
      " 5   p_id      15405 non-null  int64 \n",
      "dtypes: int64(3), object(3)\n",
      "memory usage: 722.2+ KB\n"
     ]
    }
   ],
   "source": [
    "import pandas as pd\n",
    "import numpy as np\n",
    "data_df = pd.read_csv('../../data/ulsan_attraction_table.csv')\n",
    "data_df.info()"
   ]
  },
  {
   "cell_type": "code",
   "execution_count": 5,
   "metadata": {},
   "outputs": [
    {
     "name": "stdout",
     "output_type": "stream",
     "text": [
      "15405\n",
      "place_id       0\n",
      "u_id           0\n",
      "user_id        0\n",
      "score          0\n",
      "comment     4857\n",
      "p_id           0\n",
      "dtype: int64\n"
     ]
    }
   ],
   "source": [
    "# data_df['comment'] = data_df['comment'].str.replace(\"[^ㄱ-하-ㅣ가-힣 ]\", \"\")\n",
    "# data_df['comment'].replace('', np.nan, inplace=True)\n",
    "print(len(data_df))\n",
    "print(data_df.isnull().sum())"
   ]
  },
  {
   "cell_type": "code",
   "execution_count": 6,
   "metadata": {},
   "outputs": [],
   "source": [
    "# print(data_df.isnull().sum())\n",
    "\n",
    "data_df = data_df.dropna(how='any')"
   ]
  },
  {
   "cell_type": "code",
   "execution_count": 7,
   "metadata": {},
   "outputs": [
    {
     "name": "stdout",
     "output_type": "stream",
     "text": [
      "<class 'pandas.core.frame.DataFrame'>\n",
      "Int64Index: 10548 entries, 4 to 15404\n",
      "Data columns (total 6 columns):\n",
      " #   Column    Non-Null Count  Dtype \n",
      "---  ------    --------------  ----- \n",
      " 0   place_id  10548 non-null  object\n",
      " 1   u_id      10548 non-null  int64 \n",
      " 2   user_id   10548 non-null  object\n",
      " 3   score     10548 non-null  int64 \n",
      " 4   comment   10548 non-null  object\n",
      " 5   p_id      10548 non-null  int64 \n",
      "dtypes: int64(3), object(3)\n",
      "memory usage: 576.8+ KB\n"
     ]
    }
   ],
   "source": [
    "data_df.info()"
   ]
  },
  {
   "cell_type": "code",
   "execution_count": 8,
   "metadata": {},
   "outputs": [
    {
     "name": "stdout",
     "output_type": "stream",
     "text": [
      "10548\n",
      "place_id    0\n",
      "u_id        0\n",
      "user_id     0\n",
      "score       0\n",
      "comment     0\n",
      "p_id        0\n",
      "dtype: int64\n"
     ]
    }
   ],
   "source": [
    "# data_df['comment'].replace('', np.nan, inplace=True)\n",
    "print(len(data_df))\n",
    "print(data_df.isnull().sum())"
   ]
  },
  {
   "attachments": {},
   "cell_type": "markdown",
   "metadata": {},
   "source": [
    "## Item Matrix"
   ]
  },
  {
   "cell_type": "code",
   "execution_count": 9,
   "metadata": {},
   "outputs": [
    {
     "name": "stdout",
     "output_type": "stream",
     "text": [
      "(490, 9100)\n"
     ]
    }
   ],
   "source": [
    "n_users = data_df.u_id.max()\n",
    "n_places = data_df.p_id.max()\n",
    "shape = (n_places+1, n_users+1)\n",
    "print(shape)"
   ]
  },
  {
   "cell_type": "code",
   "execution_count": 10,
   "metadata": {},
   "outputs": [
    {
     "data": {
      "text/plain": [
       "array([[0., 0., 0., ..., 0., 0., 0.],\n",
       "       [0., 0., 0., ..., 0., 0., 0.],\n",
       "       [0., 0., 0., ..., 0., 0., 0.],\n",
       "       ...,\n",
       "       [0., 0., 0., ..., 0., 0., 0.],\n",
       "       [0., 0., 0., ..., 0., 0., 0.],\n",
       "       [0., 0., 0., ..., 0., 0., 0.]])"
      ]
     },
     "execution_count": 10,
     "metadata": {},
     "output_type": "execute_result"
    }
   ],
   "source": [
    "item_Matrix = np.ndarray(shape, dtype=float)\n",
    "# item_Matrix\n",
    "for p_id, u_id, rating in zip(data_df.p_id, data_df.u_id, data_df.score):\n",
    "    item_Matrix[p_id][u_id] = rating\n",
    "item_Matrix"
   ]
  },
  {
   "attachments": {},
   "cell_type": "markdown",
   "metadata": {},
   "source": [
    "## Cosine Similarity"
   ]
  },
  {
   "cell_type": "code",
   "execution_count": 11,
   "metadata": {},
   "outputs": [],
   "source": [
    "from sklearn.metrics.pairwise import cosine_similarity"
   ]
  },
  {
   "cell_type": "code",
   "execution_count": 12,
   "metadata": {},
   "outputs": [
    {
     "name": "stdout",
     "output_type": "stream",
     "text": [
      "코사인 유사도 연산 결과 : (490, 490)\n"
     ]
    }
   ],
   "source": [
    "similarity = cosine_similarity(item_Matrix, item_Matrix)\n",
    "print('코사인 유사도 연산 결과 :',similarity.shape)"
   ]
  },
  {
   "cell_type": "code",
   "execution_count": 13,
   "metadata": {},
   "outputs": [],
   "source": [
    "def get_recommendations(p_id, sim=similarity):\n",
    "    # 해당 아이템과 모든 아이템의 유사도를 가져온다.\n",
    "    sim_scores = list(enumerate(sim[p_id]))\n",
    "\n",
    "    # 유사도에 따라 아이템들을 정렬한다.\n",
    "    sim_scores = sorted(sim_scores, key=lambda x: x[1], reverse=True)\n",
    "\n",
    "    # 가장 유사한 10개의 아이템을 받아온다.\n",
    "    sim_scores = sim_scores[1:11]\n",
    "\n",
    "    # 가장 유사한 10개의 아이템의 ID을 리턴한다.\n",
    "    return sim_scores"
   ]
  },
  {
   "cell_type": "code",
   "execution_count": 14,
   "metadata": {},
   "outputs": [
    {
     "data": {
      "text/plain": [
       "[(235, 0.14294833797837264),\n",
       " (147, 0.04700901061054319),\n",
       " (116, 0.029159104504526554),\n",
       " (328, 0.019153292760879636),\n",
       " (27, 0.014881545566625427),\n",
       " (150, 0.014287347218712214),\n",
       " (6, 0.013885996274281054),\n",
       " (219, 0.012133920952907254),\n",
       " (0, 0.0),\n",
       " (1, 0.0)]"
      ]
     },
     "execution_count": 14,
     "metadata": {},
     "output_type": "execute_result"
    }
   ],
   "source": [
    "get_recommendations(400)"
   ]
  },
  {
   "cell_type": "code",
   "execution_count": 15,
   "metadata": {},
   "outputs": [
    {
     "data": {
      "text/html": [
       "<div>\n",
       "<style scoped>\n",
       "    .dataframe tbody tr th:only-of-type {\n",
       "        vertical-align: middle;\n",
       "    }\n",
       "\n",
       "    .dataframe tbody tr th {\n",
       "        vertical-align: top;\n",
       "    }\n",
       "\n",
       "    .dataframe thead th {\n",
       "        text-align: right;\n",
       "    }\n",
       "</style>\n",
       "<table border=\"1\" class=\"dataframe\">\n",
       "  <thead>\n",
       "    <tr style=\"text-align: right;\">\n",
       "      <th></th>\n",
       "      <th>place_id</th>\n",
       "      <th>u_id</th>\n",
       "      <th>user_id</th>\n",
       "      <th>score</th>\n",
       "      <th>comment</th>\n",
       "      <th>p_id</th>\n",
       "    </tr>\n",
       "  </thead>\n",
       "  <tbody>\n",
       "    <tr>\n",
       "      <th>15016</th>\n",
       "      <td>다운동고분군</td>\n",
       "      <td>1541</td>\n",
       "      <td>생활다락방</td>\n",
       "      <td>1</td>\n",
       "      <td>여기가 왜 고분군인지 막상 보면 모르겠습니다. 흔적도 없이 밭만 무성한 그런 곳인데...</td>\n",
       "      <td>400</td>\n",
       "    </tr>\n",
       "    <tr>\n",
       "      <th>15017</th>\n",
       "      <td>다운동고분군</td>\n",
       "      <td>1542</td>\n",
       "      <td>세은</td>\n",
       "      <td>3</td>\n",
       "      <td>저희집 근처인데...하.하.하 정말 그냥 산 인줄알았어요. 하하\\r\\n가끔 새소리,...</td>\n",
       "      <td>400</td>\n",
       "    </tr>\n",
       "    <tr>\n",
       "      <th>15018</th>\n",
       "      <td>다운동고분군</td>\n",
       "      <td>1543</td>\n",
       "      <td>김재화</td>\n",
       "      <td>1</td>\n",
       "      <td>관리가 되지않아서 보기싫어요</td>\n",
       "      <td>400</td>\n",
       "    </tr>\n",
       "    <tr>\n",
       "      <th>15019</th>\n",
       "      <td>다운동고분군</td>\n",
       "      <td>1544</td>\n",
       "      <td>강영송</td>\n",
       "      <td>4</td>\n",
       "      <td>옛것이 사라져가니 안타카울뿐이죠</td>\n",
       "      <td>400</td>\n",
       "    </tr>\n",
       "  </tbody>\n",
       "</table>\n",
       "</div>"
      ],
      "text/plain": [
       "      place_id  u_id user_id  score  \\\n",
       "15016   다운동고분군  1541   생활다락방      1   \n",
       "15017   다운동고분군  1542      세은      3   \n",
       "15018   다운동고분군  1543     김재화      1   \n",
       "15019   다운동고분군  1544     강영송      4   \n",
       "\n",
       "                                                 comment  p_id  \n",
       "15016  여기가 왜 고분군인지 막상 보면 모르겠습니다. 흔적도 없이 밭만 무성한 그런 곳인데...   400  \n",
       "15017  저희집 근처인데...하.하.하 정말 그냥 산 인줄알았어요. 하하\\r\\n가끔 새소리,...   400  \n",
       "15018                                    관리가 되지않아서 보기싫어요   400  \n",
       "15019                                  옛것이 사라져가니 안타카울뿐이죠   400  "
      ]
     },
     "execution_count": 15,
     "metadata": {},
     "output_type": "execute_result"
    }
   ],
   "source": [
    "data_df[data_df.p_id == 400]"
   ]
  },
  {
   "cell_type": "code",
   "execution_count": 16,
   "metadata": {},
   "outputs": [
    {
     "data": {
      "text/html": [
       "<div>\n",
       "<style scoped>\n",
       "    .dataframe tbody tr th:only-of-type {\n",
       "        vertical-align: middle;\n",
       "    }\n",
       "\n",
       "    .dataframe tbody tr th {\n",
       "        vertical-align: top;\n",
       "    }\n",
       "\n",
       "    .dataframe thead th {\n",
       "        text-align: right;\n",
       "    }\n",
       "</style>\n",
       "<table border=\"1\" class=\"dataframe\">\n",
       "  <thead>\n",
       "    <tr style=\"text-align: right;\">\n",
       "      <th></th>\n",
       "      <th>place_id</th>\n",
       "      <th>u_id</th>\n",
       "      <th>user_id</th>\n",
       "      <th>score</th>\n",
       "      <th>comment</th>\n",
       "      <th>p_id</th>\n",
       "    </tr>\n",
       "  </thead>\n",
       "  <tbody>\n",
       "    <tr>\n",
       "      <th>730</th>\n",
       "      <td>강동화암주상절리</td>\n",
       "      <td>987</td>\n",
       "      <td>HoLlOlLoLlU</td>\n",
       "      <td>5</td>\n",
       "      <td>작은 주상절리가 맵댜 캠핑하기 좋은듯</td>\n",
       "      <td>44</td>\n",
       "    </tr>\n",
       "  </tbody>\n",
       "</table>\n",
       "</div>"
      ],
      "text/plain": [
       "     place_id  u_id      user_id  score               comment  p_id\n",
       "730  강동화암주상절리   987  HoLlOlLoLlU      5  작은 주상절리가 맵댜 캠핑하기 좋은듯    44"
      ]
     },
     "execution_count": 16,
     "metadata": {},
     "output_type": "execute_result"
    }
   ],
   "source": [
    "data_df[data_df.u_id == 987]"
   ]
  },
  {
   "cell_type": "code",
   "execution_count": null,
   "metadata": {},
   "outputs": [],
   "source": []
  }
 ],
 "metadata": {
  "kernelspec": {
   "display_name": "Python 3",
   "language": "python",
   "name": "python3"
  },
  "language_info": {
   "codemirror_mode": {
    "name": "ipython",
    "version": 3
   },
   "file_extension": ".py",
   "mimetype": "text/x-python",
   "name": "python",
   "nbconvert_exporter": "python",
   "pygments_lexer": "ipython3",
   "version": "3.9.13"
  },
  "orig_nbformat": 4
 },
 "nbformat": 4,
 "nbformat_minor": 2
}
