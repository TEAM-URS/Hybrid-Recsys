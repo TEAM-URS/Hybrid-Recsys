{
 "cells": [
  {
   "attachments": {},
   "cell_type": "markdown",
   "metadata": {},
   "source": [
    "# Multi Layer Perceptron"
   ]
  },
  {
   "cell_type": "code",
   "execution_count": 1,
   "metadata": {},
   "outputs": [
    {
     "name": "stderr",
     "output_type": "stream",
     "text": [
      "c:\\Users\\82107\\anaconda3\\lib\\site-packages\\numpy\\_distributor_init.py:30: UserWarning: loaded more than 1 DLL from .libs:\n",
      "c:\\Users\\82107\\anaconda3\\lib\\site-packages\\numpy\\.libs\\libopenblas.EL2C6PLE4ZYW3ECEVIV3OXXGRN2NRFM2.gfortran-win_amd64.dll\n",
      "c:\\Users\\82107\\anaconda3\\lib\\site-packages\\numpy\\.libs\\libopenblas64__v0.3.21-gcc_10_3_0.dll\n",
      "  warnings.warn(\"loaded more than 1 DLL from .libs:\"\n"
     ]
    },
    {
     "data": {
      "text/plain": [
       "[name: \"/device:CPU:0\"\n",
       " device_type: \"CPU\"\n",
       " memory_limit: 268435456\n",
       " locality {\n",
       " }\n",
       " incarnation: 14112639335358371485\n",
       " xla_global_id: -1]"
      ]
     },
     "execution_count": 1,
     "metadata": {},
     "output_type": "execute_result"
    }
   ],
   "source": [
    "from tensorflow.python.client import device_lib\n",
    "device_lib.list_local_devices()"
   ]
  },
  {
   "cell_type": "code",
   "execution_count": 2,
   "metadata": {},
   "outputs": [],
   "source": [
    "import numpy as np\n",
    "import pandas as pd\n",
    "import matplotlib.pyplot as plt\n",
    "import os\n",
    "import warnings\n",
    "import tensorflow as tf\n",
    "from keras.layers import Input, Embedding, Flatten, Dot, Dense, Concatenate, BatchNormalization, Dropout\n",
    "from keras.models import Model\n",
    "from keras.optimizers import Adam"
   ]
  },
  {
   "attachments": {},
   "cell_type": "markdown",
   "metadata": {},
   "source": [
    "### 데이터 테이블 생성"
   ]
  },
  {
   "cell_type": "code",
   "execution_count": 3,
   "metadata": {},
   "outputs": [
    {
     "data": {
      "text/html": [
       "<div>\n",
       "<style scoped>\n",
       "    .dataframe tbody tr th:only-of-type {\n",
       "        vertical-align: middle;\n",
       "    }\n",
       "\n",
       "    .dataframe tbody tr th {\n",
       "        vertical-align: top;\n",
       "    }\n",
       "\n",
       "    .dataframe thead th {\n",
       "        text-align: right;\n",
       "    }\n",
       "</style>\n",
       "<table border=\"1\" class=\"dataframe\">\n",
       "  <thead>\n",
       "    <tr style=\"text-align: right;\">\n",
       "      <th></th>\n",
       "      <th>place_id</th>\n",
       "      <th>u_id</th>\n",
       "      <th>user_id</th>\n",
       "      <th>score</th>\n",
       "      <th>comment</th>\n",
       "      <th>p_id</th>\n",
       "    </tr>\n",
       "  </thead>\n",
       "  <tbody>\n",
       "    <tr>\n",
       "      <th>0</th>\n",
       "      <td>가지산 입석대</td>\n",
       "      <td>0</td>\n",
       "      <td>김호영(황소바위)</td>\n",
       "      <td>5</td>\n",
       "      <td>NaN</td>\n",
       "      <td>248</td>\n",
       "    </tr>\n",
       "    <tr>\n",
       "      <th>1</th>\n",
       "      <td>가지산 입석대</td>\n",
       "      <td>1</td>\n",
       "      <td>기회란</td>\n",
       "      <td>4</td>\n",
       "      <td>NaN</td>\n",
       "      <td>248</td>\n",
       "    </tr>\n",
       "    <tr>\n",
       "      <th>2</th>\n",
       "      <td>가지산 입석대</td>\n",
       "      <td>2</td>\n",
       "      <td>손영진(산동무)</td>\n",
       "      <td>5</td>\n",
       "      <td>NaN</td>\n",
       "      <td>248</td>\n",
       "    </tr>\n",
       "    <tr>\n",
       "      <th>3</th>\n",
       "      <td>가지산</td>\n",
       "      <td>0</td>\n",
       "      <td>김호영(황소바위)</td>\n",
       "      <td>5</td>\n",
       "      <td>NaN</td>\n",
       "      <td>16</td>\n",
       "    </tr>\n",
       "    <tr>\n",
       "      <th>4</th>\n",
       "      <td>가지산</td>\n",
       "      <td>3</td>\n",
       "      <td>여름햇살</td>\n",
       "      <td>5</td>\n",
       "      <td>계단과 가파른 길이 많아 힘은 들지만 정상에서 바라보는 영남알프스의 풍경 값으로는 ...</td>\n",
       "      <td>16</td>\n",
       "    </tr>\n",
       "    <tr>\n",
       "      <th>...</th>\n",
       "      <td>...</td>\n",
       "      <td>...</td>\n",
       "      <td>...</td>\n",
       "      <td>...</td>\n",
       "      <td>...</td>\n",
       "      <td>...</td>\n",
       "    </tr>\n",
       "    <tr>\n",
       "      <th>15400</th>\n",
       "      <td>해파랑길 4코스</td>\n",
       "      <td>8870</td>\n",
       "      <td>👏👏👏</td>\n",
       "      <td>5</td>\n",
       "      <td>중간중간 길 표시가 잘안되어있어요ㅠㅠ 동해 해안가 따라 걷는 길 좋아요</td>\n",
       "      <td>130</td>\n",
       "    </tr>\n",
       "    <tr>\n",
       "      <th>15401</th>\n",
       "      <td>해파랑길 7코스</td>\n",
       "      <td>8877</td>\n",
       "      <td>김봉수</td>\n",
       "      <td>3</td>\n",
       "      <td>해파랑길7코스, 상행길의 마지막부분인 아신길 코스가 있다. 아산길은 자전거길과 도보...</td>\n",
       "      <td>124</td>\n",
       "    </tr>\n",
       "    <tr>\n",
       "      <th>15402</th>\n",
       "      <td>해파랑길 8코스</td>\n",
       "      <td>8877</td>\n",
       "      <td>김봉수</td>\n",
       "      <td>5</td>\n",
       "      <td>울산지역 해파랑길 코스중 가장 좋은 코스입니다. 특히 염포산의 벗꽃은 정말 매력적입...</td>\n",
       "      <td>156</td>\n",
       "    </tr>\n",
       "    <tr>\n",
       "      <th>15403</th>\n",
       "      <td>해파랑길 9코스</td>\n",
       "      <td>8877</td>\n",
       "      <td>김봉수</td>\n",
       "      <td>4</td>\n",
       "      <td>현대중공업 인근의 도심과 봉대산을 거쳐 해안가를 걷는 코스입니다. 울산지역은 이정표...</td>\n",
       "      <td>199</td>\n",
       "    </tr>\n",
       "    <tr>\n",
       "      <th>15404</th>\n",
       "      <td>호암만디</td>\n",
       "      <td>8878</td>\n",
       "      <td>김도훈</td>\n",
       "      <td>4</td>\n",
       "      <td>도시속의 좋은 트래킹</td>\n",
       "      <td>288</td>\n",
       "    </tr>\n",
       "  </tbody>\n",
       "</table>\n",
       "<p>15405 rows × 6 columns</p>\n",
       "</div>"
      ],
      "text/plain": [
       "       place_id  u_id    user_id  score  \\\n",
       "0       가지산 입석대     0  김호영(황소바위)      5   \n",
       "1       가지산 입석대     1        기회란      4   \n",
       "2       가지산 입석대     2   손영진(산동무)      5   \n",
       "3           가지산     0  김호영(황소바위)      5   \n",
       "4           가지산     3       여름햇살      5   \n",
       "...         ...   ...        ...    ...   \n",
       "15400  해파랑길 4코스  8870        👏👏👏      5   \n",
       "15401  해파랑길 7코스  8877        김봉수      3   \n",
       "15402  해파랑길 8코스  8877        김봉수      5   \n",
       "15403  해파랑길 9코스  8877        김봉수      4   \n",
       "15404      호암만디  8878        김도훈      4   \n",
       "\n",
       "                                                 comment  p_id  \n",
       "0                                                    NaN   248  \n",
       "1                                                    NaN   248  \n",
       "2                                                    NaN   248  \n",
       "3                                                    NaN    16  \n",
       "4      계단과 가파른 길이 많아 힘은 들지만 정상에서 바라보는 영남알프스의 풍경 값으로는 ...    16  \n",
       "...                                                  ...   ...  \n",
       "15400            중간중간 길 표시가 잘안되어있어요ㅠㅠ 동해 해안가 따라 걷는 길 좋아요   130  \n",
       "15401  해파랑길7코스, 상행길의 마지막부분인 아신길 코스가 있다. 아산길은 자전거길과 도보...   124  \n",
       "15402  울산지역 해파랑길 코스중 가장 좋은 코스입니다. 특히 염포산의 벗꽃은 정말 매력적입...   156  \n",
       "15403  현대중공업 인근의 도심과 봉대산을 거쳐 해안가를 걷는 코스입니다. 울산지역은 이정표...   199  \n",
       "15404                                        도시속의 좋은 트래킹   288  \n",
       "\n",
       "[15405 rows x 6 columns]"
      ]
     },
     "execution_count": 3,
     "metadata": {},
     "output_type": "execute_result"
    }
   ],
   "source": [
    "table_df = pd.read_csv('../../data/ulsan_attraction_table.csv')\n",
    "table_df"
   ]
  },
  {
   "cell_type": "code",
   "execution_count": 4,
   "metadata": {},
   "outputs": [
    {
     "name": "stdout",
     "output_type": "stream",
     "text": [
      "place_id       0\n",
      "u_id           0\n",
      "user_id        0\n",
      "score          0\n",
      "comment     4857\n",
      "p_id           0\n",
      "dtype: int64\n"
     ]
    }
   ],
   "source": [
    "print(table_df.isnull().sum())\n",
    "table_df.drop(columns='comment', inplace=True)\n",
    "table_df.dropna(axis=0, how='any', inplace=True)"
   ]
  },
  {
   "cell_type": "code",
   "execution_count": 5,
   "metadata": {},
   "outputs": [
    {
     "name": "stdout",
     "output_type": "stream",
     "text": [
      "<class 'pandas.core.frame.DataFrame'>\n",
      "RangeIndex: 15405 entries, 0 to 15404\n",
      "Data columns (total 5 columns):\n",
      " #   Column    Non-Null Count  Dtype \n",
      "---  ------    --------------  ----- \n",
      " 0   place_id  15405 non-null  object\n",
      " 1   u_id      15405 non-null  int64 \n",
      " 2   user_id   15405 non-null  object\n",
      " 3   score     15405 non-null  int64 \n",
      " 4   p_id      15405 non-null  int64 \n",
      "dtypes: int64(3), object(2)\n",
      "memory usage: 601.9+ KB\n"
     ]
    }
   ],
   "source": [
    "table_df.info()"
   ]
  },
  {
   "cell_type": "code",
   "execution_count": 6,
   "metadata": {},
   "outputs": [
    {
     "name": "stdout",
     "output_type": "stream",
     "text": [
      "<class 'pandas.core.frame.DataFrame'>\n",
      "RangeIndex: 15405 entries, 0 to 15404\n",
      "Data columns (total 3 columns):\n",
      " #   Column  Non-Null Count  Dtype\n",
      "---  ------  --------------  -----\n",
      " 0   u_id    15405 non-null  int64\n",
      " 1   p_id    15405 non-null  int64\n",
      " 2   score   15405 non-null  int64\n",
      "dtypes: int64(3)\n",
      "memory usage: 361.2 KB\n"
     ]
    }
   ],
   "source": [
    "data_df = table_df[['u_id', 'p_id', 'score']]\n",
    "data_df.info()"
   ]
  },
  {
   "attachments": {},
   "cell_type": "markdown",
   "metadata": {},
   "source": [
    "### Train, Test split"
   ]
  },
  {
   "cell_type": "code",
   "execution_count": 7,
   "metadata": {},
   "outputs": [],
   "source": [
    "from sklearn.model_selection import train_test_split\n",
    "train, test = train_test_split(data_df, test_size=0.2, shuffle=True, random_state=42)"
   ]
  },
  {
   "cell_type": "code",
   "execution_count": 18,
   "metadata": {},
   "outputs": [
    {
     "name": "stdout",
     "output_type": "stream",
     "text": [
      "9153 495\n"
     ]
    }
   ],
   "source": [
    "# n_users = data_df.u_id.unique().shape[0]\n",
    "# n_places = data_df.p_id.unique().shape[0]\n",
    "# print(n_users, n_places)\n",
    "n_users = data_df.u_id.unique().max() + 1\n",
    "n_places = data_df.p_id.unique().max() + 1\n",
    "print(n_users, n_places)"
   ]
  },
  {
   "cell_type": "code",
   "execution_count": 19,
   "metadata": {},
   "outputs": [],
   "source": [
    "tf.keras.backend.clear_session()"
   ]
  },
  {
   "attachments": {},
   "cell_type": "markdown",
   "metadata": {},
   "source": [
    "### callback"
   ]
  },
  {
   "cell_type": "code",
   "execution_count": 20,
   "metadata": {},
   "outputs": [],
   "source": [
    "earlystopping = tf.keras.callbacks.EarlyStopping(\n",
    "    monitor='val_loss', patience=8, verbose=0, mode='auto',\n",
    "    baseline=None, restore_best_weights=False\n",
    ")\n",
    "\n",
    "checkpoint = tf.keras.callbacks.ModelCheckpoint(\n",
    "    './checkpoint',\n",
    "    monitor = 'val_loss',\n",
    "    verbose = 0,\n",
    "    save_best_only = True,\n",
    "    save_weights_only = False,\n",
    "    mode = 'auto',\n",
    ")"
   ]
  },
  {
   "attachments": {},
   "cell_type": "markdown",
   "metadata": {},
   "source": [
    "### Model"
   ]
  },
  {
   "cell_type": "code",
   "execution_count": 21,
   "metadata": {},
   "outputs": [
    {
     "name": "stdout",
     "output_type": "stream",
     "text": [
      "Model: \"model\"\n",
      "__________________________________________________________________________________________________\n",
      " Layer (type)                   Output Shape         Param #     Connected to                     \n",
      "==================================================================================================\n",
      " place-input (InputLayer)       [(None, 1)]          0           []                               \n",
      "                                                                                                  \n",
      " user-input (InputLayer)        [(None, 1)]          0           []                               \n",
      "                                                                                                  \n",
      " place-embedding-mlp (Embedding  (None, 1, 100)      49500       ['place-input[0][0]']            \n",
      " )                                                                                                \n",
      "                                                                                                  \n",
      " user-embedding-mlp (Embedding)  (None, 1, 100)      915300      ['user-input[0][0]']             \n",
      "                                                                                                  \n",
      " flatten-place-mlp (Flatten)    (None, 100)          0           ['place-embedding-mlp[0][0]']    \n",
      "                                                                                                  \n",
      " flatten-user-mlp (Flatten)     (None, 100)          0           ['user-embedding-mlp[0][0]']     \n",
      "                                                                                                  \n",
      " concatenate (Concatenate)      (None, 200)          0           ['flatten-place-mlp[0][0]',      \n",
      "                                                                  'flatten-user-mlp[0][0]']       \n",
      "                                                                                                  \n",
      " dropout (Dropout)              (None, 200)          0           ['concatenate[0][0]']            \n",
      "                                                                                                  \n",
      " fc-1 (Dense)                   (None, 100)          20100       ['dropout[0][0]']                \n",
      "                                                                                                  \n",
      " batch-norm-1 (BatchNormalizati  (None, 100)         400         ['fc-1[0][0]']                   \n",
      " on)                                                                                              \n",
      "                                                                                                  \n",
      " dropout_1 (Dropout)            (None, 100)          0           ['batch-norm-1[0][0]']           \n",
      "                                                                                                  \n",
      " fc-2 (Dense)                   (None, 50)           5050        ['dropout_1[0][0]']              \n",
      "                                                                                                  \n",
      " place-embedding-mf (Embedding)  (None, 1, 100)      49600       ['place-input[0][0]']            \n",
      "                                                                                                  \n",
      " user-embedding-mf (Embedding)  (None, 1, 100)       915400      ['user-input[0][0]']             \n",
      "                                                                                                  \n",
      " batch-norm-2 (BatchNormalizati  (None, 50)          200         ['fc-2[0][0]']                   \n",
      " on)                                                                                              \n",
      "                                                                                                  \n",
      " flatten-place-mf (Flatten)     (None, 100)          0           ['place-embedding-mf[0][0]']     \n",
      "                                                                                                  \n",
      " flatten-user-mf (Flatten)      (None, 100)          0           ['user-embedding-mf[0][0]']      \n",
      "                                                                                                  \n",
      " dropout_2 (Dropout)            (None, 50)           0           ['batch-norm-2[0][0]']           \n",
      "                                                                                                  \n",
      " dot (Dot)                      (None, 1)            0           ['flatten-place-mf[0][0]',       \n",
      "                                                                  'flatten-user-mf[0][0]']        \n",
      "                                                                                                  \n",
      " pred-mlp (Dense)               (None, 10)           510         ['dropout_2[0][0]']              \n",
      "                                                                                                  \n",
      " concatenate_1 (Concatenate)    (None, 11)           0           ['dot[0][0]',                    \n",
      "                                                                  'pred-mlp[0][0]']               \n",
      "                                                                                                  \n",
      " result (Dense)                 (None, 1)            12          ['concatenate_1[0][0]']          \n",
      "                                                                                                  \n",
      "==================================================================================================\n",
      "Total params: 1,956,072\n",
      "Trainable params: 1,955,772\n",
      "Non-trainable params: 300\n",
      "__________________________________________________________________________________________________\n"
     ]
    }
   ],
   "source": [
    "latent_dim = 100 ## 잠재요인\n",
    "\n",
    "# Define inputs\n",
    "place_input = Input(shape=[1],name='place-input')\n",
    "user_input = Input(shape=[1], name='user-input')\n",
    "\n",
    "# MLP Embeddings\n",
    "place_embedding_mlp = Embedding(n_places, latent_dim, name='place-embedding-mlp')(place_input)\n",
    "place_vec_mlp = Flatten(name='flatten-place-mlp')(place_embedding_mlp)\n",
    "\n",
    "user_embedding_mlp = Embedding(n_users, latent_dim, name='user-embedding-mlp')(user_input)\n",
    "user_vec_mlp = Flatten(name='flatten-user-mlp')(user_embedding_mlp)\n",
    "\n",
    "# MF Embeddings\n",
    "place_embedding_mf = Embedding(n_places + 1, latent_dim, name='place-embedding-mf')(place_input)\n",
    "place_vec_mf = Flatten(name='flatten-place-mf')(place_embedding_mf)\n",
    "\n",
    "user_embedding_mf = Embedding(n_users + 1, latent_dim, name='user-embedding-mf')(user_input)\n",
    "user_vec_mf = Flatten(name='flatten-user-mf')(user_embedding_mf)\n",
    "\n",
    "# MLP layers\n",
    "concat = Concatenate()([place_vec_mlp, user_vec_mlp])\n",
    "concat_dropout = Dropout(0.2)(concat)\n",
    "fc_1 = Dense(100, name='fc-1', activation='relu')(concat_dropout)\n",
    "fc_1_bn = BatchNormalization(name='batch-norm-1')(fc_1)\n",
    "fc_1_dropout = Dropout(0.2)(fc_1_bn)\n",
    "fc_2 = Dense(50, name='fc-2', activation='relu')(fc_1_dropout)\n",
    "fc_2_bn = BatchNormalization(name='batch-norm-2')(fc_2)\n",
    "fc_2_dropout = Dropout(0.2)(fc_2_bn)\n",
    "\n",
    "# Prediction from both layers\n",
    "pred_mlp = Dense(10, name='pred-mlp', activation='relu')(fc_2_dropout)\n",
    "pred_mf = Dot(axes = 1, normalize=False)([place_vec_mf, user_vec_mf])\n",
    "combine_mlp_mf = Concatenate()([pred_mf, pred_mlp])\n",
    "\n",
    "\n",
    "# Final prediction\n",
    "result = Dense(1, name='result', activation='relu')(combine_mlp_mf)\n",
    "\n",
    "model = Model([user_input, place_input], result)\n",
    "model.compile(optimizer=Adam(learning_rate=0.005), loss='mse')\n",
    "model.summary()"
   ]
  },
  {
   "attachments": {},
   "cell_type": "markdown",
   "metadata": {},
   "source": [
    "### Model Trainning"
   ]
  },
  {
   "cell_type": "code",
   "execution_count": 22,
   "metadata": {},
   "outputs": [
    {
     "name": "stdout",
     "output_type": "stream",
     "text": [
      "Epoch 1/100\n",
      "309/309 [==============================] - 9s 27ms/step - loss: 3.0470 - val_loss: 1.1460\n",
      "Epoch 2/100\n",
      "309/309 [==============================] - 8s 24ms/step - loss: 0.7294 - val_loss: 0.9346\n",
      "Epoch 3/100\n",
      "309/309 [==============================] - 8s 24ms/step - loss: 0.4621 - val_loss: 0.8545\n",
      "Epoch 4/100\n",
      "309/309 [==============================] - 8s 25ms/step - loss: 0.2700 - val_loss: 0.8577\n",
      "Epoch 5/100\n",
      "309/309 [==============================] - 8s 24ms/step - loss: 0.1763 - val_loss: 0.8418\n",
      "Epoch 6/100\n",
      "309/309 [==============================] - 8s 24ms/step - loss: 0.1292 - val_loss: 0.8777\n",
      "Epoch 7/100\n",
      "309/309 [==============================] - 8s 24ms/step - loss: 0.0912 - val_loss: 0.8504\n",
      "Epoch 8/100\n",
      "309/309 [==============================] - 8s 24ms/step - loss: 0.0676 - val_loss: 0.8729\n",
      "Epoch 9/100\n",
      "309/309 [==============================] - 8s 24ms/step - loss: 0.0544 - val_loss: 0.8954\n",
      "Epoch 10/100\n",
      "309/309 [==============================] - 8s 24ms/step - loss: 0.0454 - val_loss: 0.8818\n",
      "Epoch 11/100\n",
      "309/309 [==============================] - 8s 26ms/step - loss: 0.0404 - val_loss: 0.8814\n",
      "Epoch 12/100\n",
      "309/309 [==============================] - 8s 27ms/step - loss: 0.0382 - val_loss: 0.8889\n",
      "Epoch 13/100\n",
      "309/309 [==============================] - 8s 26ms/step - loss: 0.0360 - val_loss: 0.8801\n"
     ]
    }
   ],
   "source": [
    "history = model.fit(x=[train.u_id, train.p_id],y= train.score, validation_split=0.2, epochs=100, verbose=1, callbacks=[earlystopping])"
   ]
  },
  {
   "attachments": {},
   "cell_type": "markdown",
   "metadata": {},
   "source": [
    "### Loss graph"
   ]
  },
  {
   "cell_type": "code",
   "execution_count": 23,
   "metadata": {},
   "outputs": [
    {
     "data": {
      "image/png": "[encoded data removed]",
      "text/plain": [
       "<Figure size 640x480 with 1 Axes>"
      ]
     },
     "metadata": {},
     "output_type": "display_data"
    }
   ],
   "source": [
    "plt.plot(history.history['loss'])\n",
    "plt.plot(history.history['val_loss'])\n",
    "plt.xlabel('Epoch')\n",
    "plt.ylabel('Loss')\n",
    "plt.legend(['Train', 'Valid'], loc='upper left')\n",
    "plt.show()\n",
    "plt.show()"
   ]
  },
  {
   "cell_type": "code",
   "execution_count": 24,
   "metadata": {},
   "outputs": [
    {
     "name": "stdout",
     "output_type": "stream",
     "text": [
      "97/97 [==============================] - 0s 2ms/step - loss: 0.8348\n"
     ]
    },
    {
     "data": {
      "text/plain": [
       "0.8348339200019836"
      ]
     },
     "execution_count": 24,
     "metadata": {},
     "output_type": "execute_result"
    }
   ],
   "source": [
    "model.evaluate([test.u_id, test.p_id], test.score)"
   ]
  },
  {
   "attachments": {},
   "cell_type": "markdown",
   "metadata": {},
   "source": [
    "### 성능평가(RMSE)"
   ]
  },
  {
   "cell_type": "code",
   "execution_count": 25,
   "metadata": {},
   "outputs": [
    {
     "name": "stdout",
     "output_type": "stream",
     "text": [
      "97/97 [==============================] - 0s 2ms/step\n"
     ]
    },
    {
     "data": {
      "text/plain": [
       "0.9136923282626301"
      ]
     },
     "execution_count": 25,
     "metadata": {},
     "output_type": "execute_result"
    }
   ],
   "source": [
    "from sklearn.metrics import mean_squared_error\n",
    "y_prob = model.predict([test.u_id, test.p_id])\n",
    "y_true = test.score\n",
    "mean_squared_error(y_true, y_prob)**0.5"
   ]
  },
  {
   "attachments": {},
   "cell_type": "markdown",
   "metadata": {},
   "source": [
    "### Hit Rate(적중률) 평가"
   ]
  },
  {
   "cell_type": "code",
   "execution_count": 26,
   "metadata": {},
   "outputs": [],
   "source": [
    "model.save(\"../model/attraction_MLP.h5\")\n",
    "loaded_model = tf.keras.models.load_model(\"../model/attraction_MLP.h5\")"
   ]
  },
  {
   "cell_type": "code",
   "execution_count": 27,
   "metadata": {},
   "outputs": [],
   "source": [
    "uid_list = [1263, 53, 4282, 8349, 5484, 5231, 6823, 7130, 4422, 3723]\n",
    "uid_list = np.array(uid_list)"
   ]
  },
  {
   "cell_type": "code",
   "execution_count": 28,
   "metadata": {},
   "outputs": [],
   "source": [
    "def calc_hit(model, uid_list, data_df, top_n):\n",
    "    hit = []\n",
    "    # pid_list = np.array(data_df.p_id.unique())\n",
    "    for u_id in uid_list:\n",
    "        p_id_list = np.array(list(set(data_df['p_id'][data_df['u_id']==u_id])))\n",
    "        pred_df = pd.DataFrame(columns=['u_id', 'p_id', 'score'])\n",
    "        for p_id in p_id_list:\n",
    "            pred = model.predict([np.array([u_id]), np.array([p_id])])\n",
    "            new_data = pd.DataFrame({'u_id': [u_id], 'p_id': [p_id], 'score': [pred]})\n",
    "            pred_df = pd.concat([pred_df, new_data], axis=0, names=['u_id', 'p_id', 'rating'], ignore_index=True)\n",
    "            recom_df = pred_df.sort_values(by=['score'], ascending=False)[:top_n]\n",
    "            actual_df = data_df[data_df.u_id == u_id].sort_values(by=['score'], ascending=False)\n",
    "            actual_df = actual_df[actual_df.score>=3.5][:top_n]\n",
    "            \n",
    "        for item in set(recom_df['p_id']):\n",
    "            if int(item) in list(set(actual_df['p_id'])):\n",
    "                hit.append(1)\n",
    "            else:\n",
    "                hit.append(0)\n",
    "    return np.mean(hit)"
   ]
  },
  {
   "cell_type": "code",
   "execution_count": 29,
   "metadata": {},
   "outputs": [
    {
     "name": "stdout",
     "output_type": "stream",
     "text": [
      "1/1 [==============================] - 0s 129ms/step\n",
      "1/1 [==============================] - 0s 22ms/step\n",
      "1/1 [==============================] - 0s 30ms/step\n",
      "1/1 [==============================] - 0s 23ms/step\n",
      "1/1 [==============================] - 0s 20ms/step\n",
      "1/1 [==============================] - 0s 18ms/step\n",
      "1/1 [==============================] - 0s 20ms/step\n",
      "1/1 [==============================] - 0s 22ms/step\n",
      "1/1 [==============================] - 0s 19ms/step\n",
      "1/1 [==============================] - 0s 20ms/step\n",
      "1/1 [==============================] - 0s 22ms/step\n",
      "1/1 [==============================] - 0s 19ms/step\n",
      "1/1 [==============================] - 0s 21ms/step\n",
      "1/1 [==============================] - 0s 25ms/step\n",
      "1/1 [==============================] - 0s 23ms/step\n",
      "1/1 [==============================] - 0s 22ms/step\n",
      "1/1 [==============================] - 0s 21ms/step\n",
      "1/1 [==============================] - 0s 22ms/step\n",
      "1/1 [==============================] - 0s 22ms/step\n"
     ]
    }
   ],
   "source": [
    "hit_rate = calc_hit(loaded_model, uid_list, data_df, 10)"
   ]
  },
  {
   "cell_type": "code",
   "execution_count": 30,
   "metadata": {},
   "outputs": [
    {
     "data": {
      "text/plain": [
       "0.6842105263157895"
      ]
     },
     "execution_count": 30,
     "metadata": {},
     "output_type": "execute_result"
    }
   ],
   "source": [
    "hit_rate"
   ]
  }
 ],
 "metadata": {
  "kernelspec": {
   "display_name": "Python 3",
   "language": "python",
   "name": "python3"
  },
  "language_info": {
   "codemirror_mode": {
    "name": "ipython",
    "version": 3
   },
   "file_extension": ".py",
   "mimetype": "text/x-python",
   "name": "python",
   "nbconvert_exporter": "python",
   "pygments_lexer": "ipython3",
   "version": "3.9.13"
  },
  "orig_nbformat": 4
 },
 "nbformat": 4,
 "nbformat_minor": 2
}
