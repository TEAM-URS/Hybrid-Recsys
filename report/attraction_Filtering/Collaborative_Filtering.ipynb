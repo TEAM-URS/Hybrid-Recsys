{
 "cells": [
  {
   "attachments": {},
   "cell_type": "markdown",
   "metadata": {},
   "source": [
    "# 협업 필터링(Collaborative Filtering)"
   ]
  },
  {
   "attachments": {},
   "cell_type": "markdown",
   "metadata": {},
   "source": [
    "Surprise 패키지를 활용한 협업 필터링"
   ]
  },
  {
   "cell_type": "code",
   "execution_count": 1,
   "metadata": {},
   "outputs": [
    {
     "name": "stderr",
     "output_type": "stream",
     "text": [
      "c:\\Users\\82107\\anaconda3\\lib\\site-packages\\numpy\\_distributor_init.py:30: UserWarning: loaded more than 1 DLL from .libs:\n",
      "c:\\Users\\82107\\anaconda3\\lib\\site-packages\\numpy\\.libs\\libopenblas.EL2C6PLE4ZYW3ECEVIV3OXXGRN2NRFM2.gfortran-win_amd64.dll\n",
      "c:\\Users\\82107\\anaconda3\\lib\\site-packages\\numpy\\.libs\\libopenblas64__v0.3.21-gcc_10_3_0.dll\n",
      "  warnings.warn(\"loaded more than 1 DLL from .libs:\"\n"
     ]
    }
   ],
   "source": [
    "import pandas as pd"
   ]
  },
  {
   "attachments": {},
   "cell_type": "markdown",
   "metadata": {},
   "source": [
    "## 데이터 불러오기"
   ]
  },
  {
   "cell_type": "code",
   "execution_count": 7,
   "metadata": {},
   "outputs": [
    {
     "data": {
      "text/html": [
       "<div>\n",
       "<style scoped>\n",
       "    .dataframe tbody tr th:only-of-type {\n",
       "        vertical-align: middle;\n",
       "    }\n",
       "\n",
       "    .dataframe tbody tr th {\n",
       "        vertical-align: top;\n",
       "    }\n",
       "\n",
       "    .dataframe thead th {\n",
       "        text-align: right;\n",
       "    }\n",
       "</style>\n",
       "<table border=\"1\" class=\"dataframe\">\n",
       "  <thead>\n",
       "    <tr style=\"text-align: right;\">\n",
       "      <th></th>\n",
       "      <th>place_id</th>\n",
       "      <th>u_id</th>\n",
       "      <th>user_id</th>\n",
       "      <th>score</th>\n",
       "      <th>comment</th>\n",
       "      <th>p_id</th>\n",
       "    </tr>\n",
       "  </thead>\n",
       "  <tbody>\n",
       "    <tr>\n",
       "      <th>0</th>\n",
       "      <td>가지산 입석대</td>\n",
       "      <td>0</td>\n",
       "      <td>김호영(황소바위)</td>\n",
       "      <td>5</td>\n",
       "      <td>NaN</td>\n",
       "      <td>248</td>\n",
       "    </tr>\n",
       "    <tr>\n",
       "      <th>1</th>\n",
       "      <td>가지산 입석대</td>\n",
       "      <td>1</td>\n",
       "      <td>기회란</td>\n",
       "      <td>4</td>\n",
       "      <td>NaN</td>\n",
       "      <td>248</td>\n",
       "    </tr>\n",
       "    <tr>\n",
       "      <th>2</th>\n",
       "      <td>가지산 입석대</td>\n",
       "      <td>2</td>\n",
       "      <td>손영진(산동무)</td>\n",
       "      <td>5</td>\n",
       "      <td>NaN</td>\n",
       "      <td>248</td>\n",
       "    </tr>\n",
       "    <tr>\n",
       "      <th>3</th>\n",
       "      <td>가지산</td>\n",
       "      <td>0</td>\n",
       "      <td>김호영(황소바위)</td>\n",
       "      <td>5</td>\n",
       "      <td>NaN</td>\n",
       "      <td>16</td>\n",
       "    </tr>\n",
       "    <tr>\n",
       "      <th>4</th>\n",
       "      <td>가지산</td>\n",
       "      <td>3</td>\n",
       "      <td>여름햇살</td>\n",
       "      <td>5</td>\n",
       "      <td>계단과 가파른 길이 많아 힘은 들지만 정상에서 바라보는 영남알프스의 풍경 값으로는 ...</td>\n",
       "      <td>16</td>\n",
       "    </tr>\n",
       "    <tr>\n",
       "      <th>...</th>\n",
       "      <td>...</td>\n",
       "      <td>...</td>\n",
       "      <td>...</td>\n",
       "      <td>...</td>\n",
       "      <td>...</td>\n",
       "      <td>...</td>\n",
       "    </tr>\n",
       "    <tr>\n",
       "      <th>15400</th>\n",
       "      <td>해파랑길 4코스</td>\n",
       "      <td>8870</td>\n",
       "      <td>👏👏👏</td>\n",
       "      <td>5</td>\n",
       "      <td>중간중간 길 표시가 잘안되어있어요ㅠㅠ 동해 해안가 따라 걷는 길 좋아요</td>\n",
       "      <td>130</td>\n",
       "    </tr>\n",
       "    <tr>\n",
       "      <th>15401</th>\n",
       "      <td>해파랑길 7코스</td>\n",
       "      <td>8877</td>\n",
       "      <td>김봉수</td>\n",
       "      <td>3</td>\n",
       "      <td>해파랑길7코스, 상행길의 마지막부분인 아신길 코스가 있다. 아산길은 자전거길과 도보...</td>\n",
       "      <td>124</td>\n",
       "    </tr>\n",
       "    <tr>\n",
       "      <th>15402</th>\n",
       "      <td>해파랑길 8코스</td>\n",
       "      <td>8877</td>\n",
       "      <td>김봉수</td>\n",
       "      <td>5</td>\n",
       "      <td>울산지역 해파랑길 코스중 가장 좋은 코스입니다. 특히 염포산의 벗꽃은 정말 매력적입...</td>\n",
       "      <td>156</td>\n",
       "    </tr>\n",
       "    <tr>\n",
       "      <th>15403</th>\n",
       "      <td>해파랑길 9코스</td>\n",
       "      <td>8877</td>\n",
       "      <td>김봉수</td>\n",
       "      <td>4</td>\n",
       "      <td>현대중공업 인근의 도심과 봉대산을 거쳐 해안가를 걷는 코스입니다. 울산지역은 이정표...</td>\n",
       "      <td>199</td>\n",
       "    </tr>\n",
       "    <tr>\n",
       "      <th>15404</th>\n",
       "      <td>호암만디</td>\n",
       "      <td>8878</td>\n",
       "      <td>김도훈</td>\n",
       "      <td>4</td>\n",
       "      <td>도시속의 좋은 트래킹</td>\n",
       "      <td>288</td>\n",
       "    </tr>\n",
       "  </tbody>\n",
       "</table>\n",
       "<p>15405 rows × 6 columns</p>\n",
       "</div>"
      ],
      "text/plain": [
       "       place_id  u_id    user_id  score  \\\n",
       "0       가지산 입석대     0  김호영(황소바위)      5   \n",
       "1       가지산 입석대     1        기회란      4   \n",
       "2       가지산 입석대     2   손영진(산동무)      5   \n",
       "3           가지산     0  김호영(황소바위)      5   \n",
       "4           가지산     3       여름햇살      5   \n",
       "...         ...   ...        ...    ...   \n",
       "15400  해파랑길 4코스  8870        👏👏👏      5   \n",
       "15401  해파랑길 7코스  8877        김봉수      3   \n",
       "15402  해파랑길 8코스  8877        김봉수      5   \n",
       "15403  해파랑길 9코스  8877        김봉수      4   \n",
       "15404      호암만디  8878        김도훈      4   \n",
       "\n",
       "                                                 comment  p_id  \n",
       "0                                                    NaN   248  \n",
       "1                                                    NaN   248  \n",
       "2                                                    NaN   248  \n",
       "3                                                    NaN    16  \n",
       "4      계단과 가파른 길이 많아 힘은 들지만 정상에서 바라보는 영남알프스의 풍경 값으로는 ...    16  \n",
       "...                                                  ...   ...  \n",
       "15400            중간중간 길 표시가 잘안되어있어요ㅠㅠ 동해 해안가 따라 걷는 길 좋아요   130  \n",
       "15401  해파랑길7코스, 상행길의 마지막부분인 아신길 코스가 있다. 아산길은 자전거길과 도보...   124  \n",
       "15402  울산지역 해파랑길 코스중 가장 좋은 코스입니다. 특히 염포산의 벗꽃은 정말 매력적입...   156  \n",
       "15403  현대중공업 인근의 도심과 봉대산을 거쳐 해안가를 걷는 코스입니다. 울산지역은 이정표...   199  \n",
       "15404                                        도시속의 좋은 트래킹   288  \n",
       "\n",
       "[15405 rows x 6 columns]"
      ]
     },
     "execution_count": 7,
     "metadata": {},
     "output_type": "execute_result"
    }
   ],
   "source": [
    "table_df = pd.read_csv('../../data/ulsan_attraction_table.csv')\n",
    "table_df"
   ]
  },
  {
   "attachments": {},
   "cell_type": "markdown",
   "metadata": {},
   "source": [
    "## 데이터 전처리"
   ]
  },
  {
   "cell_type": "code",
   "execution_count": 8,
   "metadata": {},
   "outputs": [
    {
     "name": "stdout",
     "output_type": "stream",
     "text": [
      "place_id       0\n",
      "u_id           0\n",
      "user_id        0\n",
      "score          0\n",
      "comment     4857\n",
      "p_id           0\n",
      "dtype: int64\n"
     ]
    }
   ],
   "source": [
    "print(table_df.isnull().sum())\n",
    "\n",
    "table_df.dropna(axis=0, how='any', subset=['u_id', 'p_id'], inplace=True)"
   ]
  },
  {
   "cell_type": "code",
   "execution_count": 9,
   "metadata": {},
   "outputs": [
    {
     "name": "stdout",
     "output_type": "stream",
     "text": [
      "<class 'pandas.core.frame.DataFrame'>\n",
      "RangeIndex: 15405 entries, 0 to 15404\n",
      "Data columns (total 6 columns):\n",
      " #   Column    Non-Null Count  Dtype \n",
      "---  ------    --------------  ----- \n",
      " 0   place_id  15405 non-null  object\n",
      " 1   u_id      15405 non-null  int64 \n",
      " 2   user_id   15405 non-null  object\n",
      " 3   score     15405 non-null  int64 \n",
      " 4   comment   10548 non-null  object\n",
      " 5   p_id      15405 non-null  int64 \n",
      "dtypes: int64(3), object(3)\n",
      "memory usage: 722.2+ KB\n"
     ]
    }
   ],
   "source": [
    "table_df.info()"
   ]
  },
  {
   "cell_type": "code",
   "execution_count": 5,
   "metadata": {},
   "outputs": [],
   "source": [
    "# CountStatus = pd.value_counts(review_df['user_id'], sort=True)\n",
    "# CountStatus.plot.bar()"
   ]
  },
  {
   "cell_type": "code",
   "execution_count": 10,
   "metadata": {},
   "outputs": [
    {
     "data": {
      "text/html": [
       "<div>\n",
       "<style scoped>\n",
       "    .dataframe tbody tr th:only-of-type {\n",
       "        vertical-align: middle;\n",
       "    }\n",
       "\n",
       "    .dataframe tbody tr th {\n",
       "        vertical-align: top;\n",
       "    }\n",
       "\n",
       "    .dataframe thead th {\n",
       "        text-align: right;\n",
       "    }\n",
       "</style>\n",
       "<table border=\"1\" class=\"dataframe\">\n",
       "  <thead>\n",
       "    <tr style=\"text-align: right;\">\n",
       "      <th></th>\n",
       "      <th>p_id</th>\n",
       "      <th>u_id</th>\n",
       "      <th>score</th>\n",
       "    </tr>\n",
       "  </thead>\n",
       "  <tbody>\n",
       "    <tr>\n",
       "      <th>15395</th>\n",
       "      <td>308</td>\n",
       "      <td>7877</td>\n",
       "      <td>5</td>\n",
       "    </tr>\n",
       "    <tr>\n",
       "      <th>15396</th>\n",
       "      <td>81</td>\n",
       "      <td>8065</td>\n",
       "      <td>1</td>\n",
       "    </tr>\n",
       "    <tr>\n",
       "      <th>15397</th>\n",
       "      <td>203</td>\n",
       "      <td>8258</td>\n",
       "      <td>5</td>\n",
       "    </tr>\n",
       "    <tr>\n",
       "      <th>15398</th>\n",
       "      <td>403</td>\n",
       "      <td>8502</td>\n",
       "      <td>2</td>\n",
       "    </tr>\n",
       "    <tr>\n",
       "      <th>15399</th>\n",
       "      <td>223</td>\n",
       "      <td>8869</td>\n",
       "      <td>5</td>\n",
       "    </tr>\n",
       "    <tr>\n",
       "      <th>15400</th>\n",
       "      <td>130</td>\n",
       "      <td>8870</td>\n",
       "      <td>5</td>\n",
       "    </tr>\n",
       "    <tr>\n",
       "      <th>15401</th>\n",
       "      <td>124</td>\n",
       "      <td>8877</td>\n",
       "      <td>3</td>\n",
       "    </tr>\n",
       "    <tr>\n",
       "      <th>15402</th>\n",
       "      <td>156</td>\n",
       "      <td>8877</td>\n",
       "      <td>5</td>\n",
       "    </tr>\n",
       "    <tr>\n",
       "      <th>15403</th>\n",
       "      <td>199</td>\n",
       "      <td>8877</td>\n",
       "      <td>4</td>\n",
       "    </tr>\n",
       "    <tr>\n",
       "      <th>15404</th>\n",
       "      <td>288</td>\n",
       "      <td>8878</td>\n",
       "      <td>4</td>\n",
       "    </tr>\n",
       "  </tbody>\n",
       "</table>\n",
       "</div>"
      ],
      "text/plain": [
       "       p_id  u_id  score\n",
       "15395   308  7877      5\n",
       "15396    81  8065      1\n",
       "15397   203  8258      5\n",
       "15398   403  8502      2\n",
       "15399   223  8869      5\n",
       "15400   130  8870      5\n",
       "15401   124  8877      3\n",
       "15402   156  8877      5\n",
       "15403   199  8877      4\n",
       "15404   288  8878      4"
      ]
     },
     "execution_count": 10,
     "metadata": {},
     "output_type": "execute_result"
    }
   ],
   "source": [
    "data_df = table_df[['p_id', 'u_id', 'score']]\n",
    "data_df.tail(10)"
   ]
  },
  {
   "cell_type": "code",
   "execution_count": 7,
   "metadata": {},
   "outputs": [],
   "source": [
    "# import numpy as np\n",
    "\n",
    "# n_places = np.max(data_df['p_id'])\n",
    "# n_users = np.max(data_df['u_id'])\n",
    "# shape = (n_users+1, n_places+1)\n",
    "# shape"
   ]
  },
  {
   "cell_type": "code",
   "execution_count": 8,
   "metadata": {},
   "outputs": [],
   "source": [
    "# adj_matrix = np.ndarray(shape, dtype=int)\n",
    "# for _, row in data_df.iterrows():\n",
    "#     adj_matrix[row['u_id']][row['p_id']] = row['score']\n",
    "\n",
    "# adj_matrix"
   ]
  },
  {
   "attachments": {},
   "cell_type": "markdown",
   "metadata": {},
   "source": [
    "## Surprise 라이브러리 활용"
   ]
  },
  {
   "cell_type": "code",
   "execution_count": 11,
   "metadata": {},
   "outputs": [],
   "source": [
    "from surprise import KNNWithMeans, SVD, SVDpp, NMF\n",
    "from surprise import Dataset, Reader, accuracy\n",
    "from surprise.model_selection import cross_validate, train_test_split"
   ]
  },
  {
   "cell_type": "code",
   "execution_count": 12,
   "metadata": {},
   "outputs": [],
   "source": [
    "reader = Reader(rating_scale=(0.0, 5.0))\n",
    "data = Dataset.load_from_df(data_df[['u_id', 'p_id', 'score']], reader)"
   ]
  },
  {
   "cell_type": "code",
   "execution_count": 13,
   "metadata": {},
   "outputs": [],
   "source": [
    "train, test = train_test_split(data, test_size=0.2, shuffle=True, random_state=42)"
   ]
  },
  {
   "attachments": {},
   "cell_type": "markdown",
   "metadata": {},
   "source": [
    "## Hit Rate 계산 함수"
   ]
  },
  {
   "attachments": {},
   "cell_type": "markdown",
   "metadata": {},
   "source": [
    "일반적인 hit_rate 계산과는 다르게 User의 평가가 3.5이상인 Item만 Hit 판단"
   ]
  },
  {
   "cell_type": "code",
   "execution_count": 14,
   "metadata": {},
   "outputs": [],
   "source": [
    "def calc_hit(model, u_id_list, data_df, top_n):\n",
    "    hit_list = []\n",
    "    for u_id in u_id_list:\n",
    "        hit_count = 0\n",
    "        p_id_list = list(set(data_df['p_id'][data_df['u_id']==u_id]))\n",
    "        pred_df = pd.DataFrame(columns=['u_id', 'p_id', 'score'])\n",
    "        for p_id in p_id_list:\n",
    "            pred = model.predict(u_id, p_id, None)\n",
    "            new_data = pd.DataFrame({'u_id': [pred.uid], 'p_id': [pred.iid], 'score': [pred.est]})\n",
    "            pred_df = pd.concat([pred_df, new_data], axis=0, names=['u_id', 'p_id', 'rating'], ignore_index=True)\n",
    "            recom_df = pred_df.sort_values(by=['score'], ascending=False)[:top_n]\n",
    "            actual_df = data_df[data_df.u_id == u_id].sort_values(by=['score'], ascending=False)\n",
    "            actual_df = actual_df[actual_df.score>=3.5][:top_n]\n",
    "            \n",
    "            \n",
    "        for item in set(recom_df['p_id']):\n",
    "            if int(item) in list(set(actual_df['p_id'])):\n",
    "                hit_count += 1\n",
    "                    \n",
    "        hit_list.append(hit_count/top_n)\n",
    "    return sum(hit_list)/len(u_id_list)"
   ]
  },
  {
   "attachments": {},
   "cell_type": "markdown",
   "metadata": {},
   "source": [
    "## GridSearch 활용한 최적 HP 탐색"
   ]
  },
  {
   "attachments": {},
   "cell_type": "markdown",
   "metadata": {},
   "source": [
    "### KNN"
   ]
  },
  {
   "cell_type": "code",
   "execution_count": 15,
   "metadata": {},
   "outputs": [
    {
     "name": "stdout",
     "output_type": "stream",
     "text": [
      "Computing the cosine similarity matrix...\n",
      "Done computing similarity matrix.\n",
      "Computing the cosine similarity matrix...\n",
      "Done computing similarity matrix.\n",
      "Computing the cosine similarity matrix...\n",
      "Done computing similarity matrix.\n",
      "Computing the cosine similarity matrix...\n",
      "Done computing similarity matrix.\n",
      "Computing the cosine similarity matrix...\n",
      "Done computing similarity matrix.\n",
      "Computing the cosine similarity matrix...\n",
      "Done computing similarity matrix.\n",
      "Computing the cosine similarity matrix...\n",
      "Done computing similarity matrix.\n",
      "Computing the cosine similarity matrix...\n",
      "Done computing similarity matrix.\n",
      "Computing the cosine similarity matrix...\n",
      "Done computing similarity matrix.\n",
      "Computing the cosine similarity matrix...\n",
      "Done computing similarity matrix.\n",
      "Computing the cosine similarity matrix...\n",
      "Done computing similarity matrix.\n",
      "Computing the cosine similarity matrix...\n",
      "Done computing similarity matrix.\n",
      "Computing the cosine similarity matrix...\n",
      "Done computing similarity matrix.\n",
      "Computing the cosine similarity matrix...\n",
      "Done computing similarity matrix.\n",
      "Computing the cosine similarity matrix...\n",
      "Done computing similarity matrix.\n",
      "Computing the cosine similarity matrix...\n",
      "Done computing similarity matrix.\n",
      "Computing the cosine similarity matrix...\n",
      "Done computing similarity matrix.\n",
      "Computing the cosine similarity matrix...\n",
      "Done computing similarity matrix.\n",
      "Computing the cosine similarity matrix...\n",
      "Done computing similarity matrix.\n",
      "Computing the cosine similarity matrix...\n",
      "Done computing similarity matrix.\n",
      "Computing the cosine similarity matrix...\n",
      "Done computing similarity matrix.\n",
      "Computing the cosine similarity matrix...\n",
      "Done computing similarity matrix.\n",
      "Computing the cosine similarity matrix...\n",
      "Done computing similarity matrix.\n",
      "Computing the cosine similarity matrix...\n",
      "Done computing similarity matrix.\n",
      "Computing the cosine similarity matrix...\n",
      "Done computing similarity matrix.\n"
     ]
    }
   ],
   "source": [
    "from surprise.model_selection import GridSearchCV\n",
    "\n",
    "params = {'k': range(5, 30, 5),\t# 이웃 크기\n",
    "          'sim_options': {'name' : ['cosine']}}\n",
    "\n",
    "gs = GridSearchCV(KNNWithMeans, params, measures=['rmse'], cv=5)\n",
    "gs.fit(data)\n"
   ]
  },
  {
   "cell_type": "code",
   "execution_count": 16,
   "metadata": {},
   "outputs": [
    {
     "name": "stdout",
     "output_type": "stream",
     "text": [
      "최적의 조합 {'k': 15, 'sim_options': {'name': 'cosine', 'user_based': True}}\n",
      "최적의 조합의 RMSE 0.9557500433159027\n"
     ]
    }
   ],
   "source": [
    "print('최적의 조합', gs.best_params['rmse'])\n",
    "print('최적의 조합의 RMSE', gs.best_score['rmse'])"
   ]
  },
  {
   "cell_type": "code",
   "execution_count": 17,
   "metadata": {},
   "outputs": [
    {
     "name": "stdout",
     "output_type": "stream",
     "text": [
      "Computing the msd similarity matrix...\n",
      "Done computing similarity matrix.\n"
     ]
    },
    {
     "data": {
      "text/plain": [
       "<surprise.prediction_algorithms.knns.KNNWithMeans at 0x2d6d92549a0>"
      ]
     },
     "execution_count": 17,
     "metadata": {},
     "output_type": "execute_result"
    }
   ],
   "source": [
    "model = KNNWithMeans(k=15)\n",
    "model.fit(train)"
   ]
  },
  {
   "cell_type": "code",
   "execution_count": 18,
   "metadata": {},
   "outputs": [
    {
     "name": "stdout",
     "output_type": "stream",
     "text": [
      "RMSE: 0.9759\n"
     ]
    },
    {
     "data": {
      "text/plain": [
       "0.9758727995896452"
      ]
     },
     "execution_count": 18,
     "metadata": {},
     "output_type": "execute_result"
    }
   ],
   "source": [
    "pred = model.test(test)\n",
    "accuracy.rmse(pred)"
   ]
  },
  {
   "cell_type": "code",
   "execution_count": 20,
   "metadata": {},
   "outputs": [
    {
     "name": "stdout",
     "output_type": "stream",
     "text": [
      "0.13\n"
     ]
    }
   ],
   "source": [
    "uid_list = [1263, 53, 4282, 8349, 5484, 5231, 6823, 7130, 4422, 3723]\n",
    "\n",
    "hit_rate = calc_hit(model, uid_list, data_df, 10)\n",
    "print(hit_rate)"
   ]
  },
  {
   "attachments": {},
   "cell_type": "markdown",
   "metadata": {},
   "source": [
    "### SVD"
   ]
  },
  {
   "cell_type": "code",
   "execution_count": 21,
   "metadata": {},
   "outputs": [
    {
     "name": "stdout",
     "output_type": "stream",
     "text": [
      "0.8708396658086507\n",
      "{'n_epochs': 100, 'lr_all': 0.008, 'n_factors': 100}\n"
     ]
    }
   ],
   "source": [
    "from surprise.model_selection import GridSearchCV\n",
    "params = {'n_epochs': [20, 40, 60, 100],\t# 연산 반복 횟수\n",
    "          'lr_all': [0.005, 0.008, 0.001],\t# 학습률\n",
    "          'n_factors': [5, 10, 30, 50, 100], # 잠재요인\n",
    "}\n",
    "\n",
    "gs = GridSearchCV(SVD, params, measures=['rmse'], cv=5)\n",
    "gs.fit(data)\n",
    "print(gs.best_score['rmse'])\n",
    "print(gs.best_params['rmse'])"
   ]
  },
  {
   "cell_type": "code",
   "execution_count": 22,
   "metadata": {},
   "outputs": [
    {
     "data": {
      "text/plain": [
       "<surprise.prediction_algorithms.matrix_factorization.SVD at 0x2d6d9d2f550>"
      ]
     },
     "execution_count": 22,
     "metadata": {},
     "output_type": "execute_result"
    }
   ],
   "source": [
    "model = SVD(n_epochs=100, lr_all=0.008, n_factors=100)\n",
    "model.fit(train)"
   ]
  },
  {
   "cell_type": "code",
   "execution_count": 23,
   "metadata": {},
   "outputs": [
    {
     "name": "stdout",
     "output_type": "stream",
     "text": [
      "RMSE: 0.8872\n"
     ]
    },
    {
     "data": {
      "text/plain": [
       "0.8872441800499213"
      ]
     },
     "execution_count": 23,
     "metadata": {},
     "output_type": "execute_result"
    }
   ],
   "source": [
    "pred = model.test(test)\n",
    "accuracy.rmse(pred)"
   ]
  },
  {
   "cell_type": "code",
   "execution_count": 24,
   "metadata": {},
   "outputs": [
    {
     "name": "stdout",
     "output_type": "stream",
     "text": [
      "0.13\n"
     ]
    }
   ],
   "source": [
    "uid_list = [1263, 53, 4282, 8349, 5484, 5231, 6823, 7130, 4422, 3723]\n",
    "\n",
    "hit_rate = calc_hit(model, uid_list, data_df, 10)\n",
    "print(hit_rate)"
   ]
  },
  {
   "attachments": {},
   "cell_type": "markdown",
   "metadata": {},
   "source": [
    "### SVD++"
   ]
  },
  {
   "cell_type": "code",
   "execution_count": 34,
   "metadata": {},
   "outputs": [
    {
     "name": "stdout",
     "output_type": "stream",
     "text": [
      "0.8833816387119775\n",
      "{'n_epochs': 100, 'lr_all': 0.008, 'n_factors': 30}\n"
     ]
    }
   ],
   "source": [
    "params = {'n_epochs': [20, 40, 60, 100],\t# 연산 반복 횟수\n",
    "          'lr_all': [0.005, 0.008, 0.001],\t# 학습률\n",
    "          'n_factors': [5, 10, 30, 50, 100], # 잠재요인\n",
    "}\n",
    "\n",
    "gs = GridSearchCV(SVDpp, params, measures=['rmse', 'mae'], cv=5)\n",
    "gs.fit(data)\n",
    "print(gs.best_score['rmse'])\n",
    "print(gs.best_params['rmse'])"
   ]
  },
  {
   "cell_type": "code",
   "execution_count": 35,
   "metadata": {},
   "outputs": [
    {
     "data": {
      "text/plain": [
       "<surprise.prediction_algorithms.matrix_factorization.SVDpp at 0x2d6da0f2c40>"
      ]
     },
     "execution_count": 35,
     "metadata": {},
     "output_type": "execute_result"
    }
   ],
   "source": [
    "model = SVDpp(n_epochs=100, lr_all=0.008, n_factors=30)\n",
    "model.fit(train)"
   ]
  },
  {
   "cell_type": "code",
   "execution_count": 36,
   "metadata": {},
   "outputs": [
    {
     "name": "stdout",
     "output_type": "stream",
     "text": [
      "RMSE: 0.9032\n"
     ]
    },
    {
     "data": {
      "text/plain": [
       "0.9032079843010333"
      ]
     },
     "execution_count": 36,
     "metadata": {},
     "output_type": "execute_result"
    }
   ],
   "source": [
    "pred = model.test(test)\n",
    "accuracy.rmse(pred)"
   ]
  },
  {
   "cell_type": "code",
   "execution_count": 37,
   "metadata": {},
   "outputs": [
    {
     "name": "stdout",
     "output_type": "stream",
     "text": [
      "0.13\n"
     ]
    }
   ],
   "source": [
    "uid_list = [1263, 53, 4282, 8349, 5484, 5231, 6823, 7130, 4422, 3723]\n",
    "\n",
    "hit_rate = calc_hit(model, uid_list, data_df, 10)\n",
    "print(hit_rate)"
   ]
  },
  {
   "attachments": {},
   "cell_type": "markdown",
   "metadata": {},
   "source": [
    "### NMF(Non-negative matrix factorization)"
   ]
  },
  {
   "cell_type": "code",
   "execution_count": 38,
   "metadata": {},
   "outputs": [
    {
     "name": "stdout",
     "output_type": "stream",
     "text": [
      "0.9428859556252357\n",
      "{'n_epochs': 60, 'n_factors': 50}\n"
     ]
    }
   ],
   "source": [
    "params = {'n_epochs': [20, 40, 60, 100],\t# 연산 반복 횟수\n",
    "          'n_factors': [5, 10, 30, 50, 100], # 잠재요인\n",
    "}\n",
    "\n",
    "gs = GridSearchCV(NMF, params, measures=['rmse', 'mae'], cv=5)\n",
    "gs.fit(data)\n",
    "print(gs.best_score['rmse'])\n",
    "print(gs.best_params['rmse'])"
   ]
  },
  {
   "cell_type": "code",
   "execution_count": 39,
   "metadata": {},
   "outputs": [
    {
     "data": {
      "text/plain": [
       "<surprise.prediction_algorithms.matrix_factorization.NMF at 0x2d6d9d2f940>"
      ]
     },
     "execution_count": 39,
     "metadata": {},
     "output_type": "execute_result"
    }
   ],
   "source": [
    "model = NMF(n_epochs=60, n_factors=50)\n",
    "model.fit(train)"
   ]
  },
  {
   "cell_type": "code",
   "execution_count": 40,
   "metadata": {},
   "outputs": [
    {
     "name": "stdout",
     "output_type": "stream",
     "text": [
      "RMSE: 0.9702\n"
     ]
    },
    {
     "data": {
      "text/plain": [
       "0.9702104846185261"
      ]
     },
     "execution_count": 40,
     "metadata": {},
     "output_type": "execute_result"
    }
   ],
   "source": [
    "pred = model.test(test)\n",
    "accuracy.rmse(pred)"
   ]
  },
  {
   "cell_type": "code",
   "execution_count": 41,
   "metadata": {},
   "outputs": [
    {
     "name": "stdout",
     "output_type": "stream",
     "text": [
      "0.13\n"
     ]
    }
   ],
   "source": [
    "uid_list = [1263, 53, 4282, 8349, 5484, 5231, 6823, 7130, 4422, 3723]\n",
    "\n",
    "hit_rate = calc_hit(model, uid_list, data_df, 10)\n",
    "print(hit_rate)"
   ]
  }
 ],
 "metadata": {
  "kernelspec": {
   "display_name": "Python 3",
   "language": "python",
   "name": "python3"
  },
  "language_info": {
   "codemirror_mode": {
    "name": "ipython",
    "version": 3
   },
   "file_extension": ".py",
   "mimetype": "text/x-python",
   "name": "python",
   "nbconvert_exporter": "python",
   "pygments_lexer": "ipython3",
   "version": "3.9.13"
  },
  "orig_nbformat": 4
 },
 "nbformat": 4,
 "nbformat_minor": 2
}
